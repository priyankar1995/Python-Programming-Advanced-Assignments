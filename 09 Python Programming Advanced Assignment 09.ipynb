{
 "cells": [
  {
   "cell_type": "markdown",
   "id": "d93a36ec",
   "metadata": {},
   "source": [
    "### 1. YouTube offers different playback speed options for users. This allows users to increase or decrease the speed of the video content. Given the actual duration and playback speed of the video, calculate the playback duration of the video.\n",
    "\n",
    "Examples\n",
    "\n",
    "playback_duration(\"00:30:00\", 2) ➞ \"00:15:00\"\n",
    "\n",
    "playback_duration(\"01:20:00\", 1.5) ➞ \"00:53:20\"\n",
    "\n",
    "playback_duration(\"51:20:09\", 0.5) ➞ \"102:40:18\"\n"
   ]
  },
  {
   "cell_type": "code",
   "execution_count": 61,
   "id": "27105da0",
   "metadata": {},
   "outputs": [],
   "source": [
    "def playback_duration(duration,speed):\n",
    "    h,m,s = tuple(duration.split(':'))\n",
    "    tot_time = int(h)*3600 + int(m)*60 + int(s)\n",
    "    tot_time = int(tot_time//speed)\n",
    "    h1,m1,s1 = 0, 0, 0\n",
    "    while tot_time != 0:\n",
    "        if tot_time > 3600:\n",
    "            h1 = tot_time // 3600\n",
    "            tot_time %= 3600\n",
    "        elif tot_time > 60:\n",
    "            m1 = tot_time // 60\n",
    "            tot_time %= 60\n",
    "        else:\n",
    "            s1 = tot_time // 1\n",
    "            tot_time = 0\n",
    "\n",
    "    if len(str(h1)) == 1:\n",
    "        h1 = '0'+ (str(h1))\n",
    "    if len(str(m1)) == 1:\n",
    "        m1 = '0'+ (str(m1))\n",
    "    if len(str(s1)) == 1:\n",
    "        s1 = '0'+ (str(s1))\n",
    "    return str(h1)+':'+str(m1)+':'+str(s1)"
   ]
  },
  {
   "cell_type": "code",
   "execution_count": 62,
   "id": "a0f4f91a",
   "metadata": {
    "scrolled": true
   },
   "outputs": [
    {
     "name": "stdout",
     "output_type": "stream",
     "text": [
      "original duration(hh:mm:ss): 01:20:00\n",
      "playback speed: 2\n",
      "\n",
      "playback duration =  00:40:00\n"
     ]
    }
   ],
   "source": [
    "duration = input('original duration(hh:mm:ss): ')\n",
    "speed = float(input('playback speed: '))\n",
    "print('\\nplayback duration = ',playback_duration(duration,speed))"
   ]
  },
  {
   "cell_type": "markdown",
   "id": "3a8c14b7",
   "metadata": {},
   "source": [
    "### 2. We needs your help to construct a building which will be a pile of n cubes. The cube at the bottom will have a volume of n^3, the cube above will have volume of (n-1)^3 and so on until the top which will have a volume of 1^3.\n",
    "\n",
    "Given the total volume m of the building, can you find the number of cubes n required for the building?\n",
    "\n",
    "In other words, you have to return an integer n such that:\n",
    "\n",
    "n^3 + (n-1)^3 + ... + 1^3 == m\n",
    "\n",
    "Return None if there is no such number.\n",
    "\n",
    "Examples\n",
    "\n",
    "pile_of_cubes(1071225) ➞ 45\n",
    "\n",
    "pile_of_cubes(4183059834009) ➞ 2022\n",
    "\n",
    "pile_of_cubes(16) ➞ None"
   ]
  },
  {
   "cell_type": "code",
   "execution_count": 17,
   "id": "9c7fecec",
   "metadata": {},
   "outputs": [],
   "source": [
    "def pile_of_cubes(num):\n",
    "    special_ratio_start = int(num**0.25)      # here the number is being qudriple rooted\n",
    "    special_ratio_end = int((num**0.25)*1.42) # 1.42 is assumed calculated ratio of the possible number n and qudriple root of the volume amount \n",
    "#    print(special_ratio_start)\n",
    "#    print(special_ratio_end)\n",
    "#    print(list(range(special_ratio_start,special_ratio_end+1)))\n",
    "    for i in range(special_ratio_start,special_ratio_end+1):\n",
    "        count = 0\n",
    "        for j in range(i,0,-1):\n",
    "            count += j**3\n",
    "#        print(i,'=',count)\n",
    "        if count == num:\n",
    "            return i\n",
    "    return None\n"
   ]
  },
  {
   "cell_type": "code",
   "execution_count": 19,
   "id": "da14f898",
   "metadata": {},
   "outputs": [
    {
     "name": "stdout",
     "output_type": "stream",
     "text": [
      "enter the number: 16\n",
      "None\n"
     ]
    }
   ],
   "source": [
    "num = int(input('enter the number: '))\n",
    "print(pile_of_cubes(num))"
   ]
  },
  {
   "cell_type": "markdown",
   "id": "d38bcb95",
   "metadata": {},
   "source": [
    "### 3. A fulcrum of a list is an integer such that all elements to the left of it and all elements to the right of it sum to the same value. Write a function that finds the fulcrum of a list.\n",
    "\n",
    "To illustrate:\n",
    "\n",
    "find_fulcrum([3, 1, 5, 2, 4, 6, -1]) ➞ 2\n",
    "// Since [3, 1, 5] and [4, 6, -1] both sum to 9\n",
    "\n",
    "Examples\n",
    "\n",
    "find_fulcrum([1, 2, 4, 9, 10, -10, -9, 3]) ➞ 4\n",
    "\n",
    "find_fulcrum([9, 1, 9]) ➞ 1\n",
    "\n",
    "find_fulcrum([7, -1, 0, -1, 1, 1, 2, 3]) ➞ 0\n",
    "\n",
    "find_fulcrum([8, 8, 8, 8]) ➞ -1"
   ]
  },
  {
   "cell_type": "code",
   "execution_count": 40,
   "id": "98c636c4",
   "metadata": {},
   "outputs": [],
   "source": [
    "def find_fulcrum(list1):\n",
    "    for i,j in list(enumerate(list1))[1:-1]:\n",
    "        if sum(list1[:i]) == sum(list1[i+1:]):\n",
    "            return j\n",
    "    return -1"
   ]
  },
  {
   "cell_type": "code",
   "execution_count": 42,
   "id": "c6a1553f",
   "metadata": {},
   "outputs": [
    {
     "name": "stdout",
     "output_type": "stream",
     "text": [
      "enter your list (comma and space separated): 7, -1, 0, -1, 1, 1, 2, 3\n",
      "\n",
      "fukcrum of your list =  0\n"
     ]
    }
   ],
   "source": [
    "list1 = list(map(int,input('enter your list (comma and space separated): ').split(', ')))\n",
    "print('\\nfukcrum of your list = ',find_fulcrum(list1))"
   ]
  },
  {
   "cell_type": "markdown",
   "id": "bc91ec27",
   "metadata": {},
   "source": [
    "### 4. Given a list of integers representing the color of each sock, determine how many pairs of socks with matching colors there are. For example, there are 7 socks with colors [1, 2, 1, 2, 1, 3, 2]. There is one pair of color 1 and one of color 2. There are three odd socks left, one of each color. The number of pairs is 2.\n",
    "\n",
    "Create a function that returns an integer representing the number of matching pairs of socks that are available.\n",
    "\n",
    "Examples\n",
    "\n",
    "sock_merchant([10, 20, 20, 10, 10, 30, 50, 10, 20]) ➞ 3\n",
    "\n",
    "sock_merchant([50, 20, 30, 90, 30, 20, 50, 20, 90]) ➞ 4\n",
    "\n",
    "sock_merchant([]) ➞ 0"
   ]
  },
  {
   "cell_type": "code",
   "execution_count": 1,
   "id": "14697a03",
   "metadata": {},
   "outputs": [],
   "source": [
    "def sock_merchant(shock_list):\n",
    "    pair = 0\n",
    "    odd = 0\n",
    "    for i in list(set(shock_list)):\n",
    "        pair += shock_list.count(i)//2\n",
    "    return pair\n",
    "        "
   ]
  },
  {
   "cell_type": "code",
   "execution_count": 5,
   "id": "d1ba1744",
   "metadata": {
    "scrolled": true
   },
   "outputs": [
    {
     "name": "stdout",
     "output_type": "stream",
     "text": [
      "enter your list (comma and space separated): 50, 20, 30, 90, 30, 20, 50, 20, 90\n",
      "\n",
      " number of pairs =  4\n"
     ]
    }
   ],
   "source": [
    "shock_list = input('enter your list (comma and space separated): ').split(', ')\n",
    "print('\\n number of pairs = ',sock_merchant(shock_list))"
   ]
  },
  {
   "cell_type": "markdown",
   "id": "67559e61",
   "metadata": {},
   "source": [
    "### 5. Create a function that takes a string containing integers as well as other characters and return the sum of the negative integers only.\n",
    "\n",
    "Examples\n",
    "\n",
    "negative_sum(\"-12 13%14&-11\") ➞ -23\n",
    "# -12 + -11 = -23\n",
    "\n",
    "negative_sum(\"22 13%14&-11-22 13 12\") ➞ -33\n",
    "# -11 + -22 = -33"
   ]
  },
  {
   "cell_type": "code",
   "execution_count": 25,
   "id": "5cbf96cd",
   "metadata": {},
   "outputs": [],
   "source": [
    "#Importing Necessary Modules\n",
    "from re import findall\n",
    "\n",
    "def negative_sum(string):\n",
    "    return sum([int(x) for x in findall('-[0-9]+',string)])\n"
   ]
  },
  {
   "cell_type": "code",
   "execution_count": 27,
   "id": "7f1f3a33",
   "metadata": {},
   "outputs": [
    {
     "name": "stdout",
     "output_type": "stream",
     "text": [
      "Enter The String Expression: 22 13%14&-11-22 13 12\n",
      "\n",
      "After Negative Addition: -33\n"
     ]
    }
   ],
   "source": [
    "string_exp = input(\"Enter The String Expression: \")\n",
    "print(\"\\nAfter Negative Addition:\",negative_sum(string_exp))"
   ]
  }
 ],
 "metadata": {
  "kernelspec": {
   "display_name": "Python 3",
   "language": "python",
   "name": "python3"
  },
  "language_info": {
   "codemirror_mode": {
    "name": "ipython",
    "version": 3
   },
   "file_extension": ".py",
   "mimetype": "text/x-python",
   "name": "python",
   "nbconvert_exporter": "python",
   "pygments_lexer": "ipython3",
   "version": "3.8.8"
  }
 },
 "nbformat": 4,
 "nbformat_minor": 5
}
