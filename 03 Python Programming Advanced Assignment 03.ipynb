{
 "cells": [
  {
   "cell_type": "markdown",
   "id": "60c4b9ee",
   "metadata": {},
   "source": [
    "### 1. Create a function to perform basic arithmetic operations that includes addition, subtraction, multiplication and division on a string number (e.g. \"12 + 24\" or \"23 - 21\" or \"12 // 12\" or \"12 * 21\").\n",
    "\n",
    "Here, we have 1 followed by a space, operator followed by another space and 2. For the challenge, we are going to have only two numbers between 1 valid operator. The return value should be a number.\n",
    "\n",
    "eval() is not allowed. In case of division, whenever the second number equals \"0\" return -1.\n",
    "\n",
    "For example:\n",
    "\n",
    "\"15 // 0\"  ➞ -1\n",
    "\n",
    "Examples\n",
    "\n",
    "arithmetic_operation(\"12 + 12\") ➞ 24 // 12 + 12 = 24\n",
    "\n",
    "arithmetic_operation(\"12 - 12\") ➞ 24 // 12 - 12 = 0\n",
    "\n",
    "arithmetic_operation(\"12 * 12\") ➞ 144 // 12 * 12 = 144\n",
    "\n",
    "arithmetic_operation(\"12 // 0\") ➞ -1 // 12 / 0 = -1\n",
    "\n",
    "\n",
    "\n",
    "\n",
    "\n",
    "\n",
    "\n",
    "\n"
   ]
  },
  {
   "cell_type": "code",
   "execution_count": 5,
   "id": "6f279a25",
   "metadata": {},
   "outputs": [],
   "source": [
    "def arithmetic_operation(str1):\n",
    "    val1,op,val2 = tuple(str1.split())\n",
    "    if op == '+':\n",
    "        return int(val1) + int(val2)\n",
    "    if op == '-':\n",
    "        return int(val1) - int(val2)\n",
    "    if op == '*':\n",
    "        return int(val1) * int(val2)\n",
    "    if op == '//':\n",
    "        if int(val2) == 0:\n",
    "            return -1\n",
    "        return int(val1) // int(val2)"
   ]
  },
  {
   "cell_type": "code",
   "execution_count": 12,
   "id": "f9fe7bf6",
   "metadata": {},
   "outputs": [
    {
     "name": "stdout",
     "output_type": "stream",
     "text": [
      "enter your operation: 46 - 8\n",
      "result =  38\n"
     ]
    }
   ],
   "source": [
    "str1 = input('enter your operation: ')\n",
    "print('result = ',arithmetic_operation(str1))"
   ]
  },
  {
   "cell_type": "markdown",
   "id": "91244ce9",
   "metadata": {},
   "source": [
    "### 2. Write a function that takes the coordinates of three points in the form of a 2d array and returns the perimeter of the triangle. The given points are the vertices of a triangle on a two-dimensional plane.\n",
    "\n",
    "Examples\n",
    "\n",
    "perimeter( [ [15, 7], [5, 22], [11, 1] ] ) ➞ 47.08\n",
    "\n",
    "perimeter( [ [0, 0], [0, 1], [1, 0] ] ) ➞ 3.42\n",
    "\n",
    "perimeter( [ [-10, -10], [10, 10 ], [-10, 10] ] ) ➞ 68.28"
   ]
  },
  {
   "cell_type": "code",
   "execution_count": 1,
   "id": "f80fceee",
   "metadata": {},
   "outputs": [],
   "source": [
    "#Import necessary Module\n",
    "from scipy.spatial.distance import euclidean\n",
    "def perimeter(points):\n",
    "    # Calculate Arm Lengths and Perimeter\n",
    "    perimeter = euclidean(points[0],points[1]) + euclidean(points[1],points[2]) + euclidean(points[2],points[0])\n",
    "    return round(perimeter,2)"
   ]
  },
  {
   "cell_type": "code",
   "execution_count": 3,
   "id": "4f776157",
   "metadata": {},
   "outputs": [
    {
     "name": "stdout",
     "output_type": "stream",
     "text": [
      "Enter Point Coordinate Separeted by comma and Space: -10, -10\n",
      "Enter Point Coordinate Separeted by comma and Space: 10, 10\n",
      "Enter Point Coordinate Separeted by comma and Space: -10, 10\n",
      "Perimeter of the Triangle is: 68.28\n"
     ]
    }
   ],
   "source": [
    "point_list = list()\n",
    "for i in range(3):\n",
    "    point_list.append(list(map(int,input(\"Enter Point Coordinate Separeted by comma and Space: \").split(', '))))\n",
    "print(\"Perimeter of the Triangle is:\",perimeter(point_list))"
   ]
  },
  {
   "cell_type": "markdown",
   "id": "a6dc3919",
   "metadata": {},
   "source": [
    "### 3. A city skyline can be represented as a 2-D list with 1s representing buildings. In the example below, the height of the tallest building is 4 (second-most right column).\n",
    "\n",
    "[[0, 0, 0, 0, 0, 0],\n",
    "[0, 0, 0, 0, 1, 0],\n",
    "[0, 0, 1, 0, 1, 0],\n",
    "[0, 1, 1, 1, 1, 0],\n",
    "[1, 1, 1, 1, 1, 1]]\n",
    "\n",
    "Create a function that takes a skyline (2-D list of 0's and 1's) and returns the height of the tallest skyscraper.\n",
    "\n",
    "Examples\n",
    "\n",
    "tallest_skyscraper([\n",
    "  [0, 0, 0, 0],\n",
    "  [0, 1, 0, 0],\n",
    "  [0, 1, 1, 0],\n",
    "  [1, 1, 1, 1]\n",
    "]) ➞ 3\n",
    "\n",
    "tallest_skyscraper([\n",
    "  [0, 1, 0, 0],\n",
    "  [0, 1, 0, 0],\n",
    "  [0, 1, 1, 0],\n",
    "  [1, 1, 1, 1]\n",
    "]) ➞ 4\n",
    "\n",
    "tallest_skyscraper([\n",
    "  [0, 0, 0, 0],\n",
    "  [0, 0, 0, 0],\n",
    "  [1, 1, 1, 0],\n",
    "  [1, 1, 1, 1]\n",
    "]) ➞ 2"
   ]
  },
  {
   "cell_type": "code",
   "execution_count": 8,
   "id": "4435feed",
   "metadata": {},
   "outputs": [],
   "source": [
    "def tallest_skyscraper(list2d):\n",
    "    dict1 = {}\n",
    "    for i in list2d:\n",
    "        for j,k in enumerate(i):\n",
    "            dict1.setdefault(j,0)\n",
    "            dict1[j] += k\n",
    "            \n",
    "    return max(dict1.values())"
   ]
  },
  {
   "cell_type": "code",
   "execution_count": 12,
   "id": "100aaa0e",
   "metadata": {},
   "outputs": [
    {
     "name": "stdout",
     "output_type": "stream",
     "text": [
      "no. of columns?  4\n",
      "enter row 0 : 0,0,0,0\n",
      "enter row 1 : 0,1,0,0\n",
      "enter row 2 : 0,1,1,0\n",
      "enter row 3 : 1,1,1,1\n",
      "\n",
      "height of the tallest skyscraper =  3\n"
     ]
    }
   ],
   "source": [
    "col = int(input('no. of columns?  '))\n",
    "list1 = []\n",
    "for i in range(col):\n",
    "    list1.append(list(map(int,input('enter row {} : '.format(i)).split(','))))\n",
    "print('\\nheight of the tallest skyscraper = ',tallest_skyscraper(list1))"
   ]
  },
  {
   "cell_type": "markdown",
   "id": "ca32f284",
   "metadata": {},
   "source": [
    "### 4. A financial institution provides professional services to banks and claims charges from the customers based on the number of man-days provided. Internally, it has set a scheme to motivate and reward staff to meet and exceed targeted billable utilization and revenues by paying a bonus for each day claimed from customers in excess of a threshold target.\n",
    "\n",
    "This quarterly scheme is calculated with a threshold target of 32 days per quarter, and the incentive payment for each billable day in excess of such threshold target is shown as follows:\n",
    "\n",
    "Days\t                             Bonus\n",
    "\n",
    "0 to 32 days\t                   Zero\n",
    "\n",
    "33 to 40 days\t         SGD$325 per billable day\n",
    "\n",
    "41 to 48 days\t         SGD$550 per billable day\n",
    "\n",
    "Greater than 48 days      SGD$600 per billable day\n",
    "\n",
    "Please note that incentive payment is calculated progressively. As an example, if an employee reached total billable days of 45 in a quarter, his/her incentive payment is computed as follows:\n",
    "\n",
    "32*0 + 8*325 + 5*550 = 5350\n",
    "\n",
    "Write a function to read the billable days of an employee and return the bonus he/she has obtained in that quarter.\n",
    "\n",
    "Examples\n",
    "\n",
    "bonus(15) ➞ 0\n",
    "\n",
    "bonus(37) ➞ 1625\n",
    "\n",
    "bonus(50) ➞ 8200"
   ]
  },
  {
   "cell_type": "code",
   "execution_count": 5,
   "id": "26e5f114",
   "metadata": {},
   "outputs": [],
   "source": [
    "def bonus(n):\n",
    "    list1 = []\n",
    "    for i in range(1,n+1):\n",
    "        \n",
    "        if i <= 32:\n",
    "            list1.append(0)\n",
    "        elif i > 32 and i <= 40:\n",
    "            list1.append(325)\n",
    "        elif i > 40 and i <= 48:\n",
    "            list1.append(550)\n",
    "        elif i > 48:\n",
    "            list1.append(600)\n",
    "\n",
    "    return sum(list1)"
   ]
  },
  {
   "cell_type": "code",
   "execution_count": 6,
   "id": "affc14a6",
   "metadata": {},
   "outputs": [
    {
     "name": "stdout",
     "output_type": "stream",
     "text": [
      "enter your employees number of billable days: 45\n",
      "\n",
      "incentive of your employee =  5350\n"
     ]
    }
   ],
   "source": [
    "n = int(input(\"enter your employees number of billable days: \"))\n",
    "print(\"\\nincentive of your employee = \",bonus(n))"
   ]
  },
  {
   "cell_type": "markdown",
   "id": "810ce9c5",
   "metadata": {},
   "source": [
    "### 5. A number is said to be Disarium if the sum of its digits raised to their respective positions is the number itself.\n",
    "\n",
    "Create a function that determines whether a number is a Disarium or not.\n",
    "\n",
    "Examples\n",
    "\n",
    "is_disarium(75) ➞ False\n",
    ".# 7^1 + 5^2 = 7 + 25 = 32\n",
    "\n",
    "is_disarium(135) ➞ True\n",
    ".# 1^1 + 3^2 + 5^3 = 1 + 9 + 125 = 135\n",
    "\n",
    "is_disarium(544) ➞ False\n",
    "\n",
    "is_disarium(518) ➞ True\n",
    "\n",
    "is_disarium(466) ➞ False\n",
    "\n",
    "is_disarium(8) ➞ True"
   ]
  },
  {
   "cell_type": "code",
   "execution_count": 7,
   "id": "bb39b0ac",
   "metadata": {},
   "outputs": [],
   "source": [
    "def is_disarium(num):\n",
    "    list1 = [int(x[1])**x[0] for x in list(enumerate(list(num),1)) ]\n",
    "    if sum(list1) == int(num):\n",
    "        return True\n",
    "    else :\n",
    "        return False"
   ]
  },
  {
   "cell_type": "code",
   "execution_count": 8,
   "id": "f613d607",
   "metadata": {},
   "outputs": [
    {
     "name": "stdout",
     "output_type": "stream",
     "text": [
      "enter your number: 75\n",
      "\n",
      " False\n"
     ]
    }
   ],
   "source": [
    "str1 =  input('enter your number: ')\n",
    "print('\\n',is_disarium(str1))"
   ]
  }
 ],
 "metadata": {
  "kernelspec": {
   "display_name": "Python 3",
   "language": "python",
   "name": "python3"
  },
  "language_info": {
   "codemirror_mode": {
    "name": "ipython",
    "version": 3
   },
   "file_extension": ".py",
   "mimetype": "text/x-python",
   "name": "python",
   "nbconvert_exporter": "python",
   "pygments_lexer": "ipython3",
   "version": "3.8.8"
  }
 },
 "nbformat": 4,
 "nbformat_minor": 5
}
