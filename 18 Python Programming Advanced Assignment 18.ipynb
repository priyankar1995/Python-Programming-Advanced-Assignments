{
 "cells": [
  {
   "cell_type": "markdown",
   "id": "20093a1a",
   "metadata": {},
   "source": [
    "### 1. A robot has been given a list of movement instructions. Each instruction is either left, right, up or down, followed by a distance to move. The robot starts at [0, 0]. You want to calculate where the robot will end up and return its final position as a list.\n",
    "\n",
    "To illustrate, if the robot is given the following instructions:\n",
    "\n",
    "[\"right 10\", \"up 50\", \"left 30\", \"down 10\"]\n",
    "\n",
    "It will end up 20 left and 40 up from where it started, so we return [-20, 40].\n",
    "\n",
    "Examples\n",
    "\n",
    "track_robot([\"right 10\", \"up 50\", \"left 30\", \"down 10\"]) ➞ [-20, 40]\n",
    "\n",
    "track_robot([]) ➞ [0, 0]\n",
    "// If there are no instructions, the robot doesn't move.\n",
    "\n",
    "track_robot([\"right 100\", \"right 100\", \"up 500\", \"up 10000\"]) ➞ [200, 10500]\n",
    "\n",
    "right 10, up 50, left 30, down 10\n",
    "right 100, up 50, right 100, up 10000\n"
   ]
  },
  {
   "cell_type": "code",
   "execution_count": 44,
   "id": "52de1cb0",
   "metadata": {},
   "outputs": [],
   "source": [
    "def track_robot(list1):\n",
    "    if len(list1) == 0:       \n",
    "        return [0,0]\n",
    "    else:\n",
    "        xlist = [x for x in list1.split(', ') if x.split()[0] in ['left','right']]\n",
    "        ylist = [x for x in list1.split(', ') if x.split()[0] in ['up','down']]\n",
    "        x = sum([-(int(x.split()[1])) if x.split()[0] == 'left' else int(x.split()[1]) for x in xlist])     \n",
    "        y = sum([-(int(x.split()[1])) if x.split()[0] == 'down' else int(x.split()[1]) for x in ylist])\n",
    "        return [x,y]"
   ]
  },
  {
   "cell_type": "code",
   "execution_count": 45,
   "id": "e4c5a2a5",
   "metadata": {},
   "outputs": [
    {
     "name": "stdout",
     "output_type": "stream",
     "text": [
      "enter your commands (comma and space separated): right 10, up 50, left 30, down 10\n",
      "\n",
      " [-20, 40]\n"
     ]
    }
   ],
   "source": [
    "list1 = input('enter your commands (comma and space separated): ')\n",
    "print('\\n',track_robot(list1))"
   ]
  },
  {
   "cell_type": "markdown",
   "id": "0d5c95e2",
   "metadata": {},
   "source": [
    "### 2. Write a function that will return the longest word in a sentence. In cases where more than one word is found, return the first one.\n",
    "\n",
    "Examples\n",
    "\n",
    "find_longest(\"A thing of beauty is a joy forever.\") ➞ \"forever\"\n",
    "\n",
    "find_longest(\"Forgetfulness is by all means powerless!\") ➞ \"forgetfulness\"\n",
    "\n",
    "find_longest(\"\\\"Strengths\\\" is the longest and most commonly used word that contains only a single vowel.\") ➞ \"strengths\""
   ]
  },
  {
   "cell_type": "code",
   "execution_count": 65,
   "id": "078e1f54",
   "metadata": {},
   "outputs": [],
   "source": [
    "from re import findall\n",
    "def find_longest(str1):\n",
    "    list1 = [x for x in findall('[a-zA-Z]+',str1)]\n",
    "    list2 = [len(x) for x in list1]\n",
    "    return ([x[0] for x in list(zip(list1,list2)) if x[1] == max(list2) ][0]).lower()"
   ]
  },
  {
   "cell_type": "code",
   "execution_count": 68,
   "id": "b39ae35a",
   "metadata": {},
   "outputs": [
    {
     "name": "stdout",
     "output_type": "stream",
     "text": [
      "enter your string: A thing of beauty is a joy forever.\n",
      "\n",
      "longest word:  forever\n"
     ]
    }
   ],
   "source": [
    "str1 = input(\"enter your string: \")\n",
    "print('\\nlongest word: ',find_longest(str1))"
   ]
  },
  {
   "cell_type": "markdown",
   "id": "14c3de07",
   "metadata": {},
   "source": [
    "### 3. Create a function to check if a candidate is qualified in an imaginary coding interview of an imaginary tech startup.\n",
    "\n",
    "The criteria for a candidate to be qualified in the coding interview is:\n",
    "\n",
    "   1. The candidate should have complete all the questions.\n",
    "   2. The maximum time given to complete the interview is 120 minutes.\n",
    "   3. The maximum time given for very easy questions is 5 minutes each.\n",
    "   4. The maximum time given for easy questions is 10 minutes each.\n",
    "   5. The maximum time given for medium questions is 15 minutes each.\n",
    "   6. The maximum time given for hard questions is 20 minutes each.\n",
    "\n",
    "If all the above conditions are satisfied, return \"qualified\", else return \"disqualified\".\n",
    "\n",
    "You will be given a list of time taken by a candidate to solve a particular question and the total time taken by the candidate to complete the interview.\n",
    "\n",
    "Given a list , in a true condition will always be in the format [very easy, very easy, easy, easy, medium, medium, hard, hard].\n",
    "\n",
    "The maximum time to complete the interview includes a buffer time of 20 minutes.\n",
    "\n",
    "Examples\n",
    "\n",
    "interview([5, 5, 10, 10, 15, 15, 20, 20], 120) ➞ \"qualified\"\n",
    "\n",
    "interview([2, 3, 8, 6, 5, 12, 10, 18], 64) ➞  \"qualified\"\n",
    "\n",
    "interview([5, 5, 10, 10, 25, 15, 20, 20], 120) ➞ \"disqualified\"\n",
    "# Exceeded the time limit for a medium question.\n",
    "\n",
    "interview([5, 5, 10, 10, 15, 15, 20], 120) ➞ \"disqualified\"\n",
    "# Did not complete all the questions.\n",
    "\n",
    "interview([5, 5, 10, 10, 15, 15, 20, 20], 130) ➞ \"disqualified\"\n",
    "# Solved all the questions in their respected time limits but exceeded the total time limit of the interview.\n"
   ]
  },
  {
   "cell_type": "code",
   "execution_count": 75,
   "id": "090708bd",
   "metadata": {},
   "outputs": [],
   "source": [
    "def interview(list1,num):\n",
    "    if num <= 120 and len(list1) == 8:\n",
    "        if list1[0] <= 5 and list1[1] <= 5 and list1[2] <= 10 and list1[3] <= 10 and list1[4] <= 15 and list1[5] <= 15 and list1[6] <= 20 and list1[7] <= 20:\n",
    "            return \"qualified\"\n",
    "    return \"disqualified\""
   ]
  },
  {
   "cell_type": "code",
   "execution_count": 78,
   "id": "bbea57eb",
   "metadata": {},
   "outputs": [
    {
     "name": "stdout",
     "output_type": "stream",
     "text": [
      "enter the list comma and space: 5, 5, 10, 10, 15, 15, 20, 20\n",
      "enter total time: 130\n",
      "\n",
      " disqualified\n"
     ]
    }
   ],
   "source": [
    "list1 = list(map(int,input('enter the list comma and space: ').split(', ')))\n",
    "num = int(input('enter total time: '))\n",
    "print('\\n',interview(list1,num))"
   ]
  },
  {
   "cell_type": "markdown",
   "id": "82edbc4a",
   "metadata": {},
   "source": [
    "### 4. Write a function that divides a list into chunks of size n, where n is the length of each chunk.\n",
    "\n",
    "Examples\n",
    "\n",
    "chunkify([2, 3, 4, 5], 2) ➞ [[2, 3], [4, 5]]\n",
    "\n",
    "chunkify([2, 3, 4, 5, 6], 2) ➞ [[2, 3], [4, 5], [6]]\n",
    "\n",
    "chunkify([2, 3, 4, 5, 6, 7], 3) ➞ [[2, 3, 4], [5, 6, 7]]\n",
    "\n",
    "chunkify([2, 3, 4, 5, 6, 7], 1) ➞ [[2], [3], [4], [5], [6], [7]]\n",
    "\n",
    "chunkify([2, 3, 4, 5, 6, 7], 7) ➞ [[2, 3, 4, 5, 6, 7]]\n"
   ]
  },
  {
   "cell_type": "code",
   "execution_count": 138,
   "id": "a7755685",
   "metadata": {},
   "outputs": [],
   "source": [
    "def chunkify(list1,num1):\n",
    "    return [list1[x:x+num1] for x in range(0,len(list1),num1)]"
   ]
  },
  {
   "cell_type": "code",
   "execution_count": 139,
   "id": "9a1cf967",
   "metadata": {},
   "outputs": [
    {
     "name": "stdout",
     "output_type": "stream",
     "text": [
      "enter the list comma and space: 2, 3, 4, 5, 6, 7, 3, 1, 4\n",
      "enter chunk length: 3\n",
      "\n",
      " [['2', '3', '4'], ['5', '6', '7'], ['3', '1', '4']]\n"
     ]
    }
   ],
   "source": [
    "list1 = input('enter the list comma and space: ').split(', ')\n",
    "num = int(input('enter chunk length: '))\n",
    "print('\\n',chunkify(list1,num))"
   ]
  },
  {
   "cell_type": "markdown",
   "id": "a8b2b091",
   "metadata": {},
   "source": [
    "### 5. You are given a list of strings consisting of grocery items, with prices in parentheses. Return a list of prices in float format.\n",
    "\n",
    "Examples\n",
    "\n",
    "get_prices([\"salad ($4.99)\"]) ➞ [4.99]\n",
    "\n",
    "get_prices([\n",
    "  \"artichokes ($1.99)\",\n",
    "  \"rotiserrie chicken ($5.99)\",\n",
    "  \"gum ($0.75)\"\n",
    "])\n",
    "\n",
    "➞ [1.99, 5.99, 0.75]\n",
    "\n",
    "get_prices([\n",
    "  \"ice cream ($5.99)\",\n",
    "  \"banana ($0.20)\",\n",
    "  \"sandwich ($8.50)\",\n",
    "  \"soup ($1.99)\"\n",
    "])\n",
    "\n",
    "➞ [5.99, 0.2, 8.50, 1.99]\n",
    "\n",
    "artichokes ($1.99), rotiserrie chicken ($5.99), gum ($0.75)\n",
    "ice cream ($5.99), banana ($0.20), sandwich ($8.50), soup ($1.99)"
   ]
  },
  {
   "cell_type": "code",
   "execution_count": 6,
   "id": "d29f255e",
   "metadata": {},
   "outputs": [],
   "source": [
    "def get_prices(list1):\n",
    "    return [float(x.split('(')[1][1:-1]) for x in list1]"
   ]
  },
  {
   "cell_type": "code",
   "execution_count": 13,
   "id": "14f25e6d",
   "metadata": {},
   "outputs": [
    {
     "name": "stdout",
     "output_type": "stream",
     "text": [
      "enter the grocery list in this format\n",
      "(['item1 (price1)','item2 (price2)',...,'itemN (priceN)']): )\n",
      "ice cream ($5.99), banana ($0.20), sandwich ($8.50), soup ($1.99)\n",
      "\n",
      " price list:  [5.99, 0.2, 8.5, 1.99]\n"
     ]
    }
   ],
   "source": [
    "print(\"\"\"enter the grocery list in this format\n",
    "(['item1 (price1)','item2 (price2)',...,'itemN (priceN)']): )\"\"\")\n",
    "list1 = input().split(', ')\n",
    "print('\\n price list: ',get_prices(list1) )"
   ]
  }
 ],
 "metadata": {
  "kernelspec": {
   "display_name": "Python 3",
   "language": "python",
   "name": "python3"
  },
  "language_info": {
   "codemirror_mode": {
    "name": "ipython",
    "version": 3
   },
   "file_extension": ".py",
   "mimetype": "text/x-python",
   "name": "python",
   "nbconvert_exporter": "python",
   "pygments_lexer": "ipython3",
   "version": "3.8.8"
  }
 },
 "nbformat": 4,
 "nbformat_minor": 5
}
