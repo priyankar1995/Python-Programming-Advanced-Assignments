{
 "cells": [
  {
   "cell_type": "markdown",
   "id": "a6089811",
   "metadata": {},
   "source": [
    "### 1. Write a function that takes a list of lists and returns the value of all of the symbols in it, where each symbol adds or takes something from the total score. Symbol values:\n",
    "\n",
    "'#' = 5\n",
    "\n",
    "O = 3\n",
    "\n",
    "X = 1\n",
    "\n",
    "! = -1\n",
    "\n",
    "!! = -3\n",
    "\n",
    "!!! = -5\n",
    "\n",
    "\n",
    "A list of lists containing 2 #s, a O, and a !!! would equal (0 + 5 + 5 + 3 - 5) 8.\n",
    "\n",
    "If the final score is negative, return 0 (e.g. 3 #s, 3 !!s, 2 !!!s and a X would be (0 + 5 + 5 + 5 - 3 - 3 - 3 - 5 - 5 + 1) -3, so return 0.\n",
    "\n",
    "Examples\n",
    "\n",
    "check_score([[\"#\", \"!\"],[\"!!\", \"X\"]]) ➞ 2\n",
    "\n",
    "check_score([[\"!!!\", \"O\", \"!\"],[\"X\", \"#\", \"!!!\"],[\"!!\", \"X\", \"O\"]]) ➞ 0\n"
   ]
  },
  {
   "cell_type": "code",
   "execution_count": 7,
   "id": "f28a268b",
   "metadata": {},
   "outputs": [],
   "source": [
    "def check_score(list1):\n",
    "    dict1 = {'#' : 5,'O' : 3,'X' : 1,'!' : -1,'!!' : -3,'!!!' : -5}\n",
    "    list2 = [dict1[x] for sub in list1 for x in sub]\n",
    "    if sum(list2) < 0:\n",
    "        return 0\n",
    "    else:\n",
    "        return sum(list2)"
   ]
  },
  {
   "cell_type": "code",
   "execution_count": 15,
   "id": "6d9a9145",
   "metadata": {},
   "outputs": [
    {
     "name": "stdout",
     "output_type": "stream",
     "text": [
      "number of your sublists: 2\n",
      "enter the elements comma separated: #,!\n",
      "enter the elements comma separated: !!,X\n",
      "\n",
      " your total score =  2\n"
     ]
    }
   ],
   "source": [
    "n = int(input('number of your sublists: '))\n",
    "list1 = []\n",
    "for i in range(n):\n",
    "    list1.append(input('enter the elements comma separated: ').split(','))\n",
    "print('\\n your total score = ',check_score(list1))"
   ]
  },
  {
   "cell_type": "markdown",
   "id": "b745f981",
   "metadata": {},
   "source": [
    "### 2. Create a function that takes a variable number of arguments, each argument representing the number of items in a group, and returns the number of permutations (combinations) of items that you could get by taking one item from each group.\n",
    "\n",
    "Examples\n",
    "\n",
    "combinations(2, 3) ➞ 6\n",
    "\n",
    "combinations(3, 7, 4) ➞ 84\n",
    "\n",
    "combinations(2, 3, 4, 5) ➞ 120\n"
   ]
  },
  {
   "cell_type": "code",
   "execution_count": 1,
   "id": "b0ebdf30",
   "metadata": {},
   "outputs": [],
   "source": [
    "def combinations(*args):\n",
    "    comb = 1\n",
    "    for i in args:\n",
    "        comb *= i\n",
    "    return comb"
   ]
  },
  {
   "cell_type": "code",
   "execution_count": 4,
   "id": "06ed83d7",
   "metadata": {
    "scrolled": true
   },
   "outputs": [
    {
     "name": "stdout",
     "output_type": "stream",
     "text": [
      "Enter Number of Group Elements Separeted by Space: 2,3\n",
      "\n",
      "Total Permutations: 6\n"
     ]
    }
   ],
   "source": [
    "groups = list(map(int,input(\"Enter Number of Group Elements Separeted by Space: \").split(',')))\n",
    "print(\"\\nTotal Permutations:\",combinations(*groups))"
   ]
  },
  {
   "cell_type": "markdown",
   "id": "79ef930d",
   "metadata": {},
   "source": [
    "### 3. Create a function that takes a string as an argument and returns the Morse code equivalent.\n",
    "\n",
    "Examples\n",
    "\n",
    "encode_morse(\"EDABBIT CHALLENGE\") ➞ \". -.. .- -... -... .. -   -.-. .... .- .-.. .-.. . -. --. .\"\n",
    "\n",
    "encode_morse(\"HELP ME !\") ➞ \".... . .-.. .--.   -- .   -.-.--\"\n",
    "\n",
    "This dictionary can be used for coding:\n",
    "\n",
    "char_to_dots = {\n",
    "  \n",
    "  'A': '.-', 'B': '-...', 'C': '-.-.', 'D': '-..', 'E': '.', 'F': '..-.',\n",
    "  \n",
    "  'G': '--.', 'H': '....', 'I': '..', 'J': '.---', 'K': '-.-', 'L': '.-..',\n",
    "  \n",
    "  'M': '--', 'N': '-.', 'O': '---', 'P': '.--.', 'Q': '--.-', 'R': '.-.',\n",
    "  \n",
    "  'S': '...', 'T': '-', 'U': '..-', 'V': '...-', 'W': '.--', 'X': '-..-',\n",
    "  \n",
    "  'Y': '-.--', 'Z': '--..', ' ': ' ', '0': '-----',\n",
    "  \n",
    "  '1': '.----', '2': '..---', '3': '...--', '4': '....-', '5': '.....',\n",
    "  \n",
    "  '6': '-....', '7': '--...', '8': '---..', '9': '----.',\n",
    "  \n",
    "  '&': '.-...', \"'\": '.----.', '@': '.--.-.', ')': '-.--.-', '(': '-.--.',\n",
    "  \n",
    "  ':': '---...', ',': '--..--', '=': '-...-', '!': '-.-.--', '.': '.-.-.-',\n",
    "  \n",
    "  '-': '-....-', '+': '.-.-.', '\"': '.-..-.', '?': '..--..', '/': '-..-.'\n",
    "\n",
    "}\n"
   ]
  },
  {
   "cell_type": "code",
   "execution_count": 1,
   "id": "2d233d15",
   "metadata": {},
   "outputs": [],
   "source": [
    "def encode_morse(list1):    \n",
    "    char_to_dots = {\n",
    "    'A': '.-', 'B': '-...', 'C': '-.-.', 'D': '-..', 'E': '.', 'F': '..-.',\n",
    "    'G': '--.', 'H': '....', 'I': '..', 'J': '.---', 'K': '-.-', 'L': '.-..',\n",
    "    'M': '--', 'N': '-.', 'O': '---', 'P': '.--.', 'Q': '--.-', 'R': '.-.',\n",
    "    'S': '...', 'T': '-', 'U': '..-', 'V': '...-', 'W': '.--', 'X': '-..-',\n",
    "    'Y': '-.--', 'Z': '--..', ' ': ' ', '0': '-----',\n",
    "    '1': '.----', '2': '..---', '3': '...--', '4': '....-', '5': '.....',\n",
    "    '6': '-....', '7': '--...', '8': '---..', '9': '----.',\n",
    "    '&': '.-...', \"'\": '.----.', '@': '.--.-.', ')': '-.--.-', '(': '-.--.',\n",
    "    ':': '---...', ',': '--..--', '=': '-...-', '!': '-.-.--', '.': '.-.-.-',\n",
    "    '-': '-....-', '+': '.-.-.', '\"': '.-..-.', '?': '..--..', '/': '-..-.'\n",
    "    }\n",
    "\n",
    "    list2 = [char_to_dots[x] for x in list1]\n",
    "    return ' '.join(list2)"
   ]
  },
  {
   "cell_type": "code",
   "execution_count": 2,
   "id": "22a9b05f",
   "metadata": {},
   "outputs": [
    {
     "name": "stdout",
     "output_type": "stream",
     "text": [
      "enter your string: HELP ME !\n",
      "\n",
      "your encoded string\n",
      " .... . .-.. .--.   -- .   -.-.--\n"
     ]
    }
   ],
   "source": [
    "str1 = input(\"enter your string: \")\n",
    "print('\\nyour encoded string\\n',encode_morse(list(str1)))"
   ]
  },
  {
   "cell_type": "markdown",
   "id": "256ebd95",
   "metadata": {},
   "source": [
    "### 4.  Write a function that takes a number and returns True if it's a prime; False otherwise. The number can be 2^64-1 (2 to the power of 63, not XOR). With the standard technique it would be O(2^64-1), which is much too large for the 10 second time limit.\n",
    "\n",
    "Examples\n",
    "\n",
    "prime(7) ➞ True\n",
    "\n",
    "prime(56963) ➞ True\n",
    "\n",
    "prime(5151512515524) ➞ False\n"
   ]
  },
  {
   "cell_type": "code",
   "execution_count": 1,
   "id": "931113aa",
   "metadata": {},
   "outputs": [],
   "source": [
    "#Require Module Import\n",
    "from math import sqrt,floor\n",
    "def prime(num):\n",
    "    if num % 2 == 0 and num != 2:\n",
    "        return False\n",
    "    elif num == 2 or num == 1:\n",
    "        return True\n",
    "    else:    \n",
    "        for i in range(3, 1 + floor(sqrt(num)),2):\n",
    "            if num % i == 0:\n",
    "                return False\n",
    "        return True"
   ]
  },
  {
   "cell_type": "code",
   "execution_count": 2,
   "id": "1f89bd2d",
   "metadata": {},
   "outputs": [
    {
     "name": "stdout",
     "output_type": "stream",
     "text": [
      "Enter a Number: 2\n",
      "True\n",
      "Total Time Required: 0.0\n"
     ]
    }
   ],
   "source": [
    "#For time checking we need to import time module\n",
    "from time import time\n",
    "\n",
    "#Taking Input\n",
    "num = int(input(\"Enter a Number: \"))\n",
    "\n",
    "#Create timestamp\n",
    "t0 = time()\n",
    "\n",
    "#Function Call\n",
    "print(prime(num))\n",
    "\n",
    "#After Execution timestamp\n",
    "t1 = time()\n",
    "\n",
    "print(\"Total Time Required:\",t1-t0)"
   ]
  },
  {
   "cell_type": "markdown",
   "id": "3f08893b",
   "metadata": {},
   "source": [
    "### 5.  Create a function that converts a word to a bitstring and then to a boolean list based on the following criteria:\n",
    "\n",
    "    1. Locate the position of the letter in the English alphabet (from 1 to 26).\n",
    "\n",
    "    2. Odd positions will be represented as 1 and 0 otherwise.\n",
    "\n",
    "    3. Convert the represented positions to boolean values, 1 for True and 0 for False.\n",
    "\n",
    "    4. Store the conversions into an array.\n",
    "\n",
    " Examples\n",
    "\n",
    "to_boolean_list(\"deep\") ➞ [False, True, True, False]\n",
    "\n",
    ".# deep converts to 0110\n",
    "\n",
    ".# d is the 4th alphabet - 0\n",
    "\n",
    ".# e is the 5th alphabet - 1\n",
    "\n",
    ".# e is the 5th alphabet - 1\n",
    "\n",
    ".# p is the 16th alphabet - 0\n",
    "\n",
    "to_boolean_list(\"loves\") ➞ [False, True, False, True, True]\n",
    "\n",
    "to_boolean_list(\"tesh\") ➞ [False, True, True, False]\n"
   ]
  },
  {
   "cell_type": "code",
   "execution_count": 1,
   "id": "a82e1376",
   "metadata": {},
   "outputs": [],
   "source": [
    "import string\n",
    "\n",
    "def to_boolean_list(str1):\n",
    "    dict1 = {}\n",
    "    list_lo = list(string.ascii_lowercase)\n",
    "    for i,j in enumerate(list_lo,1):\n",
    "        dict1[j] = i\n",
    "        \n",
    "    list_up = list(string.ascii_uppercase)\n",
    "    for i,j in enumerate(list_up,1):\n",
    "        dict1[j] = i\n",
    "        \n",
    "    listx = [0 if dict1[x]%2 == 0 else 1 for x in str1] # (unneccessary step)\n",
    "    listx = [False if x == 0 else True for x in listx]\n",
    "\n",
    "    return listx"
   ]
  },
  {
   "cell_type": "code",
   "execution_count": 2,
   "id": "5fc994a8",
   "metadata": {},
   "outputs": [
    {
     "name": "stdout",
     "output_type": "stream",
     "text": [
      "enter your string: deep\n",
      "\n",
      "your converted string\n",
      " [False, True, True, False]\n"
     ]
    }
   ],
   "source": [
    "str1 = input('enter your string: ')\n",
    "print('\\nyour converted string\\n',to_boolean_list(str1))"
   ]
  }
 ],
 "metadata": {
  "kernelspec": {
   "display_name": "Python 3",
   "language": "python",
   "name": "python3"
  },
  "language_info": {
   "codemirror_mode": {
    "name": "ipython",
    "version": 3
   },
   "file_extension": ".py",
   "mimetype": "text/x-python",
   "name": "python",
   "nbconvert_exporter": "python",
   "pygments_lexer": "ipython3",
   "version": "3.8.8"
  }
 },
 "nbformat": 4,
 "nbformat_minor": 5
}
