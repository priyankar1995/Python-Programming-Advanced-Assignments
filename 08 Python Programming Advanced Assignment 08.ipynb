{
 "cells": [
  {
   "cell_type": "markdown",
   "id": "2dfb3783",
   "metadata": {},
   "source": [
    "### 1. Given a sentence as txt, return True if any two adjacent words have this property: One word ends with a vowel, while the word immediately after begins with a vowel (a e i o u).\n",
    "\n",
    "Examples\n",
    "\n",
    "vowel_links(\"a very large appliance\") ➞ True\n",
    "\n",
    "vowel_links(\"go to edabit\") ➞ True\n",
    "\n",
    "vowel_links(\"an open fire\") ➞ False\n",
    "\n",
    "vowel_links(\"a sudden applause\") ➞ False"
   ]
  },
  {
   "cell_type": "code",
   "execution_count": 4,
   "id": "ee5f39e5",
   "metadata": {},
   "outputs": [],
   "source": [
    "def vowel_links(str1):\n",
    "    list1 = str1.split()\n",
    "    for i,j in enumerate(list1):\n",
    "        if list1[i] != list1[-1] and list1[i][-1] in 'aeiou' and list1[i+1][0] in 'aeiou':\n",
    "            return True\n",
    "        \n",
    "    return False      "
   ]
  },
  {
   "cell_type": "code",
   "execution_count": 5,
   "id": "6c162deb",
   "metadata": {},
   "outputs": [
    {
     "name": "stdout",
     "output_type": "stream",
     "text": [
      "enter your string: go to edabit\n",
      "\n",
      " True\n"
     ]
    }
   ],
   "source": [
    "str1 = input('enter your string: ')\n",
    "print('\\n',vowel_links(str1))"
   ]
  },
  {
   "cell_type": "markdown",
   "id": "595e7911",
   "metadata": {},
   "source": [
    "### 2. You are given three inputs: a string, one letter, and a second letter.\n",
    "\n",
    "Write a function that returns True if every instance of the first letter occurs before every instance of the second letter.\n",
    "\n",
    "Examples\n",
    "\n",
    "first_before_second(\"a rabbit jumps joyfully\", \"a\", \"j\") ➞ True\n",
    ".# Every instance of \"a\" occurs before every instance of \"j\".\n",
    "\n",
    "first_before_second(\"knaves knew about waterfalls\", \"k\", \"w\") ➞  True\n",
    "\n",
    "first_before_second(\"happy birthday\", \"a\", \"y\") ➞ False\n",
    ".# The \"a\" in \"birthday\" occurs after the \"y\" in \"happy\".\n",
    "\n",
    "first_before_second(\"precarious kangaroos\", \"k\", \"a\") ➞ False"
   ]
  },
  {
   "cell_type": "code",
   "execution_count": 28,
   "id": "05079f21",
   "metadata": {},
   "outputs": [],
   "source": [
    "def first_before_second(str1,fl,sl):\n",
    "    list1 = list(str1)\n",
    "    x = list1.index(sl)\n",
    "    if fl in list1[x+1:]:\n",
    "        return False\n",
    "    else:\n",
    "        return True"
   ]
  },
  {
   "cell_type": "code",
   "execution_count": 29,
   "id": "93d94e5e",
   "metadata": {},
   "outputs": [
    {
     "name": "stdout",
     "output_type": "stream",
     "text": [
      "enter your string: precarious kangaroos\n",
      "enter first letter: k\n",
      "enter second letter: a\n",
      "\n",
      " False\n"
     ]
    }
   ],
   "source": [
    "str1 = input('enter your string: ')\n",
    "fl =  input('enter first letter: ')\n",
    "sl = input('enter second letter: ')\n",
    "print('\\n',first_before_second(str1,fl,sl))"
   ]
  },
  {
   "cell_type": "markdown",
   "id": "3d6ffa7c",
   "metadata": {},
   "source": [
    "### 3. Create a function that returns the characters from a list or string r on odd or even positions, depending on the specifier s. The specifier will be \"odd\" for items on odd positions (1, 3, 5, ...) and \"even\" for items on even positions (2, 4, 6, ...).\n",
    "\n",
    "Examples\n",
    "\n",
    "char_at_pos([2, 4, 6, 8, 10], \"even\") ➞ [4, 8]\n",
    "# 4 & 8 occupy the 2nd & 4th positions\n",
    "\n",
    "char_at_pos(\"EDABIT\", \"odd\") ➞ \"EAI\"\n",
    "# \"E\", \"A\" and \"I\" occupy the 1st, 3rd and 5th positions\n",
    "\n",
    "char_at_pos([\"A\", \"R\", \"B\", \"I\", \"T\", \"R\", \"A\", \"R\", \"I\", \"L\", \"Y\"], \"odd\") ➞ [\"A\", \"B\", \"T\", \"A\", \"I\", \"Y\"]\n",
    "\n"
   ]
  },
  {
   "cell_type": "code",
   "execution_count": 5,
   "id": "9672e135",
   "metadata": {},
   "outputs": [],
   "source": [
    "def char_at_pos(collection,spec):\n",
    "#list1 = [x if spec == 'even' and list1.index(x)%2 == 0 else x if spec == 'odd' and list1.index(x)%2 != 0  for x in list1]\n",
    "    if spec == 'even':\n",
    "        collection = [x for x in collection if (collection.index(x)+1)%2 == 0]\n",
    "    else:\n",
    "        collection = [x for x in collection if (collection.index(x)+1)%2 != 0]\n",
    "    return collection "
   ]
  },
  {
   "cell_type": "code",
   "execution_count": 10,
   "id": "000e9ed0",
   "metadata": {},
   "outputs": [
    {
     "name": "stdout",
     "output_type": "stream",
     "text": [
      "1\n",
      "enter your list (comma and space separated):\"A\", \"R\", \"B\", \"I\", \"T\", \"R\", \"A\", \"R\", \"I\", \"L\", \"Y\"\n",
      "intput the specifier: odd\n",
      "\n",
      " ['\"A\"', '\"B\"', '\"T\"', '\"A\"', '\"Y\"']\n"
     ]
    }
   ],
   "source": [
    "'''enter 0 to enter string\n",
    "             or\n",
    "   enter 1 to enter list'''\n",
    "x = int(input())\n",
    "if x == 0:\n",
    "    collection = list(input('enter your string: '))\n",
    "    spec = input('intput the specifier: ')\n",
    "    print('\\n',''.join(char_at_pos(collection,spec)))\n",
    "else:\n",
    "    collection = input('enter your list (comma and space separated):').split(', ')   \n",
    "    spec = input('intput the specifier: ')\n",
    "    print('\\n',char_at_pos(collection,spec))"
   ]
  },
  {
   "cell_type": "markdown",
   "id": "e103694b",
   "metadata": {},
   "source": [
    "### 4. Write a function that returns the greatest common divisor of all list elements. If the greatest common divisor is 1, return 1.\n",
    "\n",
    "Examples\n",
    "\n",
    "GCD([10, 20, 40]) ➞ 10\n",
    "\n",
    "GCD([1, 2, 3, 100]) ➞ 1\n",
    "\n",
    "GCD([1024, 192, 2048, 512]) ➞ 64"
   ]
  },
  {
   "cell_type": "code",
   "execution_count": 4,
   "id": "c08f65a3",
   "metadata": {},
   "outputs": [],
   "source": [
    "def find_gcd(x, y):\n",
    "    while(y):\n",
    "        x, y = y, x % y  \n",
    "    return x      "
   ]
  },
  {
   "cell_type": "code",
   "execution_count": 5,
   "id": "ee41bca2",
   "metadata": {},
   "outputs": [],
   "source": [
    "def GCD(data):\n",
    "    \n",
    "    num1=data[0]\n",
    "    num2=data[1]\n",
    "    gcd=find_gcd(num1,num2)\n",
    "\n",
    "    for i in range(2,len(data)):\n",
    "        gcd=find_gcd(gcd,data[i])\n",
    "\n",
    "    return gcd"
   ]
  },
  {
   "cell_type": "code",
   "execution_count": 9,
   "id": "8364d67a",
   "metadata": {},
   "outputs": [
    {
     "name": "stdout",
     "output_type": "stream",
     "text": [
      "enter your list(comma and space separated): 1024, 192, 2048, 512\n",
      "\n",
      "GCD =  64\n"
     ]
    }
   ],
   "source": [
    "list1 = list(map(int,input('enter your list(comma and space separated): ').split(', ')))\n",
    "print('\\nGCD = ',GCD(list1))"
   ]
  },
  {
   "cell_type": "markdown",
   "id": "912913fa",
   "metadata": {},
   "source": [
    "### 5. A number/string is a palindrome if the digits/characters are the same when read both forward and backward. Examples include \"racecar\" and 12321. Given a positive number n, check if n or the binary representation of n is palindromic. Return the following:\n",
    "\n",
    "- \"Decimal only.\" if only n is a palindrome.\n",
    "- \"Binary only.\" if only the binary representation of n is a palindrome.\n",
    "- \"Decimal and binary.\" if both are palindromes.\n",
    "- \"Neither!\" if neither are palindromes.\n",
    "\n",
    "Examples\n",
    "\n",
    "palindrome_type(1306031) ➞ \"Decimal only.\"\n",
    "# decimal = 1306031\n",
    "# binary  = \"100111110110110101111\"\n",
    "\n",
    "palindrome_type(427787) ➞ \"Binary only.\"\n",
    "# decimal = 427787\n",
    "# binary  = \"1101000011100001011\"\n",
    "\n",
    "palindrome_type(313) ➞ \"Decimal and binary.\"\n",
    "# decimal = 313\n",
    "# binary  = 100111001\n",
    "\n",
    "palindrome_type(934) ➞ \"Neither!\"\n",
    "# decimal = 934\n",
    "# binary  = \"1110100110\""
   ]
  },
  {
   "cell_type": "code",
   "execution_count": 49,
   "id": "c3c2066c",
   "metadata": {},
   "outputs": [],
   "source": [
    "def palindrome_type(num):\n",
    "    if num == num[::-1] and bin(int(num))[2:] == bin(int(num))[::-1][:-2]:\n",
    "        return 'Decimal and Binary.'\n",
    "    elif num == num[::-1] and bin(int(num))[2:] != bin(int(num))[::-1][:-2]:\n",
    "        return 'Decimal only.'\n",
    "    elif num != num[::-1] and bin(int(num))[2:] == bin(int(num))[::-1][:-2]:\n",
    "        return 'Binary only.'\n",
    "    elif num != num[::-1] and bin(int(num))[2:] != bin(int(num))[::-1][:-2]:\n",
    "        return 'Neither!'"
   ]
  },
  {
   "cell_type": "code",
   "execution_count": 51,
   "id": "22021957",
   "metadata": {},
   "outputs": [
    {
     "name": "stdout",
     "output_type": "stream",
     "text": [
      "enter number: 454\n",
      "\n",
      " Decimal only.\n"
     ]
    }
   ],
   "source": [
    "num = input('enter number: ')\n",
    "print('\\n',palindrome_type(num))"
   ]
  }
 ],
 "metadata": {
  "kernelspec": {
   "display_name": "Python 3",
   "language": "python",
   "name": "python3"
  },
  "language_info": {
   "codemirror_mode": {
    "name": "ipython",
    "version": 3
   },
   "file_extension": ".py",
   "mimetype": "text/x-python",
   "name": "python",
   "nbconvert_exporter": "python",
   "pygments_lexer": "ipython3",
   "version": "3.8.8"
  }
 },
 "nbformat": 4,
 "nbformat_minor": 5
}
