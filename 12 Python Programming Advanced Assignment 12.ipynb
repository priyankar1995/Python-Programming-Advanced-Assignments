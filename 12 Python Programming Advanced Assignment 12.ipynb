{
 "cells": [
  {
   "cell_type": "markdown",
   "id": "b618cc49",
   "metadata": {},
   "source": [
    "### 1. For this challenge, forget how to add two numbers together. The best explanation on what to do for this function is this meme:\n",
    "\n",
    "\n",
    "Examples\n",
    "\n",
    "meme_sum(26, 39) ➞ 515\n",
    "# 2+3 = 5, 6+9 = 15\n",
    "# 26 + 39 = 515\n",
    "\n",
    "meme_sum(122, 81) ➞ 1103\n",
    "# 1+0 = 1, 2+8 = 10, 2+1 = 3\n",
    "# 122 + 81 = 1103\n",
    "\n",
    "meme_sum(1222, 30277) ➞ 31499\n",
    "\n"
   ]
  },
  {
   "cell_type": "code",
   "execution_count": 1,
   "id": "145909b6",
   "metadata": {},
   "outputs": [],
   "source": [
    "def meme_sum(num_str1,num_str2):\n",
    "    a = '0'* abs(len(num_str1)-len(num_str2))\n",
    "    if len(num_str1) > len(num_str2):\n",
    "        num_str2 = a + num_str2\n",
    "    elif len(num_str2) > len(num_str1):\n",
    "        num_str1 = a + num_str1\n",
    "    num_list1, num_list2 = list(map(int,num_str1)),list(map(int,num_str2))\n",
    "    list_main = [str(num_list1[x]+num_list2[x]) for x in range(len(num_list1))] # it could also be num_list2 at the end of the line \n",
    "    return ''.join(list_main)"
   ]
  },
  {
   "cell_type": "code",
   "execution_count": 3,
   "id": "aa87cadf",
   "metadata": {},
   "outputs": [
    {
     "name": "stdout",
     "output_type": "stream",
     "text": [
      "first number: 111\n",
      "second number: 222222\n",
      "\n",
      "meme sum: 222333\n"
     ]
    }
   ],
   "source": [
    "str1 = input('first number: ')\n",
    "str2 = input('second number: ')\n",
    "print('\\nmeme sum:', meme_sum(str1,str2))"
   ]
  },
  {
   "cell_type": "markdown",
   "id": "e1ee9787",
   "metadata": {},
   "source": [
    "### 2. Given an integer, create a function that returns the next prime. If the number is prime, return the number itself.\n",
    "\n",
    "Examples\n",
    "\n",
    "next_prime(12) ➞ 13\n",
    "\n",
    "next_prime(24) ➞ 29\n",
    "\n",
    "next_prime(11) ➞ 11\n",
    "# 11 is a prime, so we return the number itself."
   ]
  },
  {
   "cell_type": "code",
   "execution_count": 1,
   "id": "97b635c2",
   "metadata": {},
   "outputs": [],
   "source": [
    "#Require Module Import\n",
    "from math import sqrt,floor\n",
    "def prime(num):\n",
    "    if num % 2 == 0 and num != 2 or num == 1:\n",
    "        return False\n",
    "    elif num == 2:\n",
    "        return True\n",
    "    else:    \n",
    "        for i in range(3, 1 + floor(sqrt(num)),2):\n",
    "            if num % i == 0:\n",
    "                return False\n",
    "        return True\n",
    "def next_prime(num):\n",
    "    while True:\n",
    "        if prime(num):\n",
    "            return num\n",
    "        else:\n",
    "            num = num + 1"
   ]
  },
  {
   "cell_type": "code",
   "execution_count": 5,
   "id": "67f97ef9",
   "metadata": {},
   "outputs": [
    {
     "name": "stdout",
     "output_type": "stream",
     "text": [
      "Enter The Number: 14\n",
      "Next Prime Number is: 17\n"
     ]
    }
   ],
   "source": [
    "num1 = int(input(\"Enter The Number: \"))\n",
    "print(\"Next Prime Number is:\",next_prime(num1))"
   ]
  },
  {
   "cell_type": "markdown",
   "id": "219a2d12",
   "metadata": {},
   "source": [
    "### 3. If a person traveled up a hill for 18mins at 20mph and then traveled back down the same path at 60mph then their average speed traveled was 30mph.\n",
    "\n",
    "Write a function that returns the average speed traveled given an uphill time, uphill rate and a downhill rate. Uphill time is given in minutes. Return the rate as an integer (mph). No rounding is necessary.\n",
    "\n",
    "Examples\n",
    "\n",
    "ave_spd(18, 20, 60) ➞ 30\n",
    "\n",
    "ave_spd(30, 10, 30) ➞ 15\n",
    "\n",
    "ave_spd(30, 8, 24) ➞ 12\n"
   ]
  },
  {
   "cell_type": "code",
   "execution_count": 9,
   "id": "a0087151",
   "metadata": {},
   "outputs": [],
   "source": [
    "def ave_spd(time1,speed1,speed2):\n",
    "    distance = (time1 * speed1)/60\n",
    "    time2 = (distance* 60)/speed2\n",
    "    avg_speed = (distance*2)*60/(time1+time2)\n",
    "    return  round(avg_speed)\n"
   ]
  },
  {
   "cell_type": "code",
   "execution_count": 12,
   "id": "1ada8aa1",
   "metadata": {},
   "outputs": [
    {
     "name": "stdout",
     "output_type": "stream",
     "text": [
      "enter time1 : 30\n",
      "enter speed1: 10\n",
      "enter speed2: 30\n",
      "\n",
      "average speed =  15\n"
     ]
    }
   ],
   "source": [
    "time1 = int(input('enter time1 : '))\n",
    "speed1 = int(input('enter speed1: '))\n",
    "speed2 = int(input('enter speed2: '))\n",
    "print('\\naverage speed = ', ave_spd(time1,speed1,speed2))"
   ]
  },
  {
   "cell_type": "markdown",
   "id": "37d74fe7",
   "metadata": {},
   "source": [
    "### 4. The Kempner Function, applied to a composite number, permits to find the smallest integer greater than zero whose factorial is exactly divided by the number.\n",
    "\n",
    "kempner(6) ➞ 3\n",
    "\n",
    "1! = 1 % 6 > 0\n",
    "2! = 2 % 6 > 0\n",
    "3! = 6 % 6 === 0\n",
    "\n",
    "kempner(10) ➞ 5\n",
    "\n",
    "1! = 1 % 10 > 0\n",
    "2! = 2 % 10 > 0\n",
    "3! = 6 % 10 > 0\n",
    "4! = 24 % 10 > 0\n",
    "5! = 120 % 10 === 0\n",
    "\n",
    "A Kempner Function applied to a prime will always return the prime itself.\n",
    "\n",
    "kempner(2) ➞ 2\n",
    "kempner(5) ➞ 5\n",
    "\n",
    "Given an integer n, implement a Kempner Function.\n",
    "\n",
    "Examples\n",
    "\n",
    "kempner(6) ➞ 3\n",
    "\n",
    "kempner(10) ➞ 5\n",
    "\n",
    "kempner(2) ➞ 2"
   ]
  },
  {
   "cell_type": "code",
   "execution_count": 7,
   "id": "cc53b90a",
   "metadata": {},
   "outputs": [],
   "source": [
    "def fact(num):\n",
    "    if num == 1:\n",
    "        return 1\n",
    "    return num * fact(num-1)"
   ]
  },
  {
   "cell_type": "code",
   "execution_count": 8,
   "id": "0ebfb4d8",
   "metadata": {},
   "outputs": [],
   "source": [
    "def kempner(num):\n",
    "    for i in range(1,num+1):\n",
    "        if fact(i) % num == 0:\n",
    "            return i"
   ]
  },
  {
   "cell_type": "code",
   "execution_count": 10,
   "id": "dd439332",
   "metadata": {},
   "outputs": [
    {
     "name": "stdout",
     "output_type": "stream",
     "text": [
      "enter your number: 2\n",
      "2\n"
     ]
    }
   ],
   "source": [
    "num = int(input('enter your number: '))\n",
    "print(kempner(num))"
   ]
  },
  {
   "cell_type": "markdown",
   "id": "88f3f696",
   "metadata": {},
   "source": [
    "### 5. You work in a factory, and your job is to take items from a conveyor belt and pack them into boxes. Each box can hold a maximum of 10 kgs. Given a list containing the weight (in kg) of each item, how many boxes would you need to pack all of the items?\n",
    "\n",
    "Example\n",
    "\n",
    "boxes([2, 1, 2, 5, 4, 3, 6, 1, 1, 9, 3, 2]) ➞ 5\n",
    "\n",
    "# Box 1 = [2, 1, 2, 5] (10kg)\n",
    "# Box 2 = [4, 3] (7kg)\n",
    "# Box 3 = [6, 1, 1] (8kg)\n",
    "# Box 4 = [9] (9kg)\n",
    "# Box 5 = [3, 2] (5kg)"
   ]
  },
  {
   "cell_type": "code",
   "execution_count": 12,
   "id": "21aaa273",
   "metadata": {},
   "outputs": [],
   "source": [
    "def boxes(list1):\n",
    "    count,sums = 0,0\n",
    "    for i,j in enumerate(list1,1):\n",
    "        if sums + j <= 10:\n",
    "            sums += j\n",
    "            if i == len(list1):\n",
    "                count += 1\n",
    "        else:\n",
    "            count += 1\n",
    "            sums = j\n",
    "    return count"
   ]
  },
  {
   "cell_type": "code",
   "execution_count": 13,
   "id": "b986041a",
   "metadata": {},
   "outputs": [
    {
     "name": "stdout",
     "output_type": "stream",
     "text": [
      "Enter Product Weight list: 2, 1, 2, 5, 4, 3, 6, 1, 1, 9, 3, 2\n",
      "\n",
      "Total Box Required: 5\n"
     ]
    }
   ],
   "source": [
    "Box = list(map(int,input(\"Enter Product Weight list: \").split(', ')))\n",
    "print(\"\\nTotal Box Required:\",boxes(Box))"
   ]
  }
 ],
 "metadata": {
  "kernelspec": {
   "display_name": "Python 3",
   "language": "python",
   "name": "python3"
  },
  "language_info": {
   "codemirror_mode": {
    "name": "ipython",
    "version": 3
   },
   "file_extension": ".py",
   "mimetype": "text/x-python",
   "name": "python",
   "nbconvert_exporter": "python",
   "pygments_lexer": "ipython3",
   "version": "3.8.8"
  }
 },
 "nbformat": 4,
 "nbformat_minor": 5
}
