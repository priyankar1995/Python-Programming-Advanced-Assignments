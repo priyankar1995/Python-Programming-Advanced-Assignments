{
 "cells": [
  {
   "cell_type": "markdown",
   "id": "2087a261",
   "metadata": {},
   "source": [
    "### 1. Given a list of numbers, create a function that removes 25% from every number in the list except the smallest number, and adds the total amount removed to the smallest number.\n",
    "\n",
    "Examples\n",
    "\n",
    "show_the_love([4, 1, 4]) ➞ [3, 3, 3]\n",
    "\n",
    "show_the_love([16, 10, 8]) ➞ [12, 7.5, 14.5]\n",
    "\n",
    "show_the_love([2, 100]) ➞ [27, 75]"
   ]
  },
  {
   "cell_type": "code",
   "execution_count": 11,
   "id": "0386ae46",
   "metadata": {},
   "outputs": [],
   "source": [
    "def show_the_love(list1):\n",
    "    list2 = [(x*3)/4 if x!= min(list1) else x for x in list1 ]\n",
    "    list2[list1.index(min(list1))] += abs(sum(list2) - sum(list1))\n",
    "    list2 = [round(x) if int((str(x).split('.'))[1]) == 0 else x for x in list2  ]\n",
    "    return list2\n"
   ]
  },
  {
   "cell_type": "code",
   "execution_count": 16,
   "id": "e12f2c6a",
   "metadata": {},
   "outputs": [
    {
     "name": "stdout",
     "output_type": "stream",
     "text": [
      "enter the list(space and comma separated): 4, 1, 4\n",
      "\n",
      " [3, 3, 3]\n"
     ]
    }
   ],
   "source": [
    "list1 = list(map(int,input('enter the list(space and comma separated): ').split(', ')))\n",
    "print('\\n',show_the_love(list1))\n"
   ]
  },
  {
   "cell_type": "markdown",
   "id": "2c8c0862",
   "metadata": {},
   "source": [
    "### 2. Create a function that takes in two words as input and returns a list of three elements, in the following order:\n",
    "\n",
    "   1.Shared letters between two words.\n",
    "   2.Letters unique to word 1.\n",
    "   3.Letters unique to word 2.\n",
    "\n",
    "Each element should have unique letters, and have each letter be alphabetically sorted.\n",
    "\n",
    "Examples\n",
    "\n",
    "letters(\"sharp\", \"soap\") ➞ [\"aps\", \"hr\", \"o\"]\n",
    "\n",
    "letters(\"board\", \"bored\") ➞ [\"bdor\", \"a\", \"e\"]\n",
    "\n",
    "letters(\"happiness\", \"envelope\") ➞ [\"enp\", \"ahis\", \"lov\"]\n",
    "\n",
    "letters(\"kerfuffle\", \"fluffy\") ➞ [\"flu\", \"ekr\", \"y\"]\n",
    "# Even with multiple matching letters (e.g. 3 f's), there should \n",
    "# only exist a single \"f\" in your first element.\n",
    "\n",
    "letters(\"match\", \"ham\") ➞ [\"ahm\", \"ct\", \"\"]\n",
    "# \"ham\" does not contain any letters that are not found already \n",
    "# in \"match\".\n"
   ]
  },
  {
   "cell_type": "code",
   "execution_count": 7,
   "id": "b6c505fb",
   "metadata": {},
   "outputs": [],
   "source": [
    "def letters(str1,str2):\n",
    "    list1 = []\n",
    "    list1.append(''.join(sorted(set(str1) & set(str2))))\n",
    "    list1.append(''.join(sorted(set(str1) - set(str2))))\n",
    "    list1.append(''.join(sorted(set(str2) - set(str1))))\n",
    "    return list1"
   ]
  },
  {
   "cell_type": "code",
   "execution_count": 9,
   "id": "6b38d89b",
   "metadata": {},
   "outputs": [
    {
     "name": "stdout",
     "output_type": "stream",
     "text": [
      "enter first string: bored\n",
      "enter second string: board\n",
      "['bdor', 'e', 'a']\n"
     ]
    }
   ],
   "source": [
    "str1 = input('enter first string: ')\n",
    "str2 = input('enter second string: ')\n",
    "print(letters(str1,str2))"
   ]
  },
  {
   "cell_type": "markdown",
   "id": "a1c4348b",
   "metadata": {},
   "source": [
    "### 3. Write a function that pairs the first number in an array with the last, the second number with the second to last, etc.\n",
    "\n",
    "Examples\n",
    "\n",
    "pairs([1, 2, 3, 4, 5, 6, 7]) ➞ [[1, 7], [2, 6], [3, 5], [4, 4]]\n",
    "\n",
    "pairs([1, 2, 3, 4, 5, 6]) ➞ [[1, 6], [2, 5], [3, 4]]\n",
    "\n",
    "pairs([5, 9, 8, 1, 2]) ➞ [[5, 2], [9, 1], [8, 8]]\n",
    "\n",
    "pairs([]) ➞ []"
   ]
  },
  {
   "cell_type": "code",
   "execution_count": 26,
   "id": "6ee5181a",
   "metadata": {},
   "outputs": [],
   "source": [
    "def pairs(list1):\n",
    "    if len(list1) %2 != 0:\n",
    "        list2 = [[list1[i],list1[j]] for i,j in list(zip(range(0,(len(list1)//2)+1),range(-1,-((len(list1)//2)+2),-1)))]\n",
    "    else:\n",
    "        list2 = [[list1[i],list1[j]] for i,j in list(zip(range(0,len(list1)//2),range(-1,-((len(list1)//2)+1),-1)))]\n",
    "    return list2                                           \n",
    "             "
   ]
  },
  {
   "cell_type": "code",
   "execution_count": 27,
   "id": "f15e914f",
   "metadata": {
    "scrolled": true
   },
   "outputs": [
    {
     "name": "stdout",
     "output_type": "stream",
     "text": [
      "enter your list (comma and space separated): 1, 2, 3, 4, 5, 6, 7\n",
      "\n",
      "pairs [['1', '7'], ['2', '6'], ['3', '5'], ['4', '4']]\n"
     ]
    }
   ],
   "source": [
    "list1 = input(\"enter your list (comma and space separated): \" ).split(', ')\n",
    "print('\\npairs: ',pairs(list1))"
   ]
  },
  {
   "cell_type": "markdown",
   "id": "609b5055",
   "metadata": {},
   "source": [
    "### 4. Write a function that adds two numbers. The catch, however, is that the numbers will be strings.\n",
    "\n",
    "Examples\n",
    "\n",
    "add_str_nums(\"4\", \"5\") ➞ \"9\"\n",
    "\n",
    "add_str_nums(\"abcdefg\", \"3\") ➞ \"-1\"\n",
    "\n",
    "add_str_nums(\"1\", \"\") ➞ \"1\"\n",
    "\n",
    "add_str_nums(\"1874682736267235927359283579235789257\", \"32652983572985729\") ➞ \"1874682736267235927391936562808774986\""
   ]
  },
  {
   "cell_type": "code",
   "execution_count": 14,
   "id": "52f3087d",
   "metadata": {},
   "outputs": [],
   "source": [
    "def add_str_nums(str1,str2):\n",
    "    try:\n",
    "        if len(str1) == 0:\n",
    "            str1 ='0'\n",
    "        elif len(str2) == 0:\n",
    "            str2 ='0'\n",
    "        return str(int(str1)+int(str2))\n",
    "    except:\n",
    "        return '-1'"
   ]
  },
  {
   "cell_type": "code",
   "execution_count": 16,
   "id": "f363aac7",
   "metadata": {},
   "outputs": [
    {
     "name": "stdout",
     "output_type": "stream",
     "text": [
      "enter your first number: \n",
      "enter your second number: 2\n",
      "\n",
      "sum =  2\n"
     ]
    }
   ],
   "source": [
    "str1 = input('enter your first number: ')\n",
    "str2 = input('enter your second number: ')\n",
    "print('\\nsum = ',add_str_nums(str1,str2))"
   ]
  },
  {
   "cell_type": "markdown",
   "id": "07280f42",
   "metadata": {},
   "source": [
    "### 5. lPaeesh le pemu mnxit ehess rtnisg! Oh, sorry, that was supposed to say: Please help me unmix these strings!\n",
    "\n",
    "Somehow my strings have all become mixed up; every pair of characters has been swapped. Help me undo this so I can understand my strings again.\n",
    "\n",
    "Examples\n",
    "\n",
    "unmix(\"123456\") ➞ \"214365\"\n",
    "\n",
    "unmix(\"hTsii  s aimex dpus rtni.g\") ➞ \"This is a mixed up string.\"\n",
    "\n",
    "unmix(\"badce\") ➞ \"abcde\""
   ]
  },
  {
   "cell_type": "code",
   "execution_count": 13,
   "id": "7a4cb6d2",
   "metadata": {},
   "outputs": [],
   "source": [
    "def unmix(str1):\n",
    "    list1 = [str1[i:i+2][::-1] for i in list(range(0,len(str1),2))]\n",
    "    return ''.join(list1)"
   ]
  },
  {
   "cell_type": "code",
   "execution_count": 18,
   "id": "f4c6878e",
   "metadata": {},
   "outputs": [
    {
     "name": "stdout",
     "output_type": "stream",
     "text": [
      "enter your string: hTsii  s aimex dpus rtni.g\n",
      "\n",
      " unmixed string:  This is a mixed up string.\n"
     ]
    }
   ],
   "source": [
    "str1 = input('enter your string: ')\n",
    "print('\\n unmixed string: ',unmix(str1))"
   ]
  }
 ],
 "metadata": {
  "kernelspec": {
   "display_name": "Python 3",
   "language": "python",
   "name": "python3"
  },
  "language_info": {
   "codemirror_mode": {
    "name": "ipython",
    "version": 3
   },
   "file_extension": ".py",
   "mimetype": "text/x-python",
   "name": "python",
   "nbconvert_exporter": "python",
   "pygments_lexer": "ipython3",
   "version": "3.8.8"
  }
 },
 "nbformat": 4,
 "nbformat_minor": 5
}
