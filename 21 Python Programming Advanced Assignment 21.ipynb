{
 "cells": [
  {
   "cell_type": "markdown",
   "id": "415fb5f4",
   "metadata": {},
   "source": [
    "### 1. Given a sentence, return the number of words which have the same first and last letter.\n",
    "\n",
    "Examples\n",
    "\n",
    "count_same_ends(\"Pop! goes the balloon\") ➞ 1\n",
    "\n",
    "count_same_ends(\"And the crowd goes wild!\") ➞ 0\n",
    "\n",
    "count_same_ends(\"No I am not in a gang.\") ➞ 1"
   ]
  },
  {
   "cell_type": "code",
   "execution_count": 15,
   "id": "10ea81cf",
   "metadata": {},
   "outputs": [],
   "source": [
    "from re import findall\n",
    "def count_same_ends(str1):\n",
    "    list1 = [x for x in findall('[a-zA-Z]+',str1)]\n",
    "    list2 = [1 for x in list1 if x[0].lower() == x[-1].lower()]\n",
    "    return sum(list2)\n",
    "    "
   ]
  },
  {
   "cell_type": "code",
   "execution_count": 17,
   "id": "8924652d",
   "metadata": {},
   "outputs": [
    {
     "name": "stdout",
     "output_type": "stream",
     "text": [
      "enter your string: No I am not in a gang.\n",
      "\n",
      "there are 3 words having same letter at start and end\n"
     ]
    }
   ],
   "source": [
    "str1 = input('enter your string: ')\n",
    "print('\\nthere are {} words having same letter at start and end'.format(count_same_ends(str1)))"
   ]
  },
  {
   "cell_type": "markdown",
   "id": "7e4dd418",
   "metadata": {},
   "source": [
    "### 2. The Atbash cipher is an encryption method in which each letter of a word is replaced with its \"mirror\" letter in the alphabet: A <=> Z; B <=> Y; C <=> X; etc.\n",
    "\n",
    "Create a function that takes a string and applies the Atbash cipher to it.\n",
    "\n",
    "Examples\n",
    "\n",
    "atbash(\"apple\") ➞ \"zkkov\"\n",
    "\n",
    "atbash(\"Hello world!\") ➞ \"Svool dliow!\"\n",
    "\n",
    "atbash(\"Christmas is the 25th of December\") ➞ \"Xsirhgnzh rh gsv 25gs lu Wvxvnyvi\"\n"
   ]
  },
  {
   "cell_type": "code",
   "execution_count": 49,
   "id": "69f15ab7",
   "metadata": {},
   "outputs": [],
   "source": [
    "import string\n",
    "def atbash(str1):\n",
    "    lu_str = string.ascii_lowercase[:13] + string.ascii_uppercase + string.ascii_lowercase[13:]\n",
    "    list1 = [lu_str[::-1][lu_str.index(x)] if x in lu_str else x  for x in str1 ]\n",
    "    return ''.join(list1)"
   ]
  },
  {
   "cell_type": "code",
   "execution_count": 50,
   "id": "6247cdd7",
   "metadata": {
    "scrolled": true
   },
   "outputs": [
    {
     "name": "stdout",
     "output_type": "stream",
     "text": [
      "enter string: apple\n",
      "\n",
      "Atbash cipered code:  zkkov\n"
     ]
    }
   ],
   "source": [
    "str1 = input('enter string: ')\n",
    "print('\\nAtbash cipered code: ',atbash(str1))"
   ]
  },
  {
   "cell_type": "markdown",
   "id": "b4ae543a",
   "metadata": {},
   "source": [
    "### 3. Create a class Employee that will take a full name as argument, as well as a set of none, one or more keywords. Each instance should have a name and a lastname attributes plus one more attribute for each of the keywords, if any.\n",
    "\n",
    "Examples\n",
    "\n",
    "john = Employee(\"John Doe\")\n",
    "mary = Employee(\"Mary Major\", salary=120000)\n",
    "richard = Employee(\"Richard Roe\", salary=110000, height=178)\n",
    "giancarlo = Employee(\"Giancarlo Rossi\", salary=115000, height=182, nationality=\"Italian\")\n",
    "\n",
    "john.name ➞ \"John\"\n",
    "mary.lastname ➞ \"Major\"\n",
    "richard.height ➞ 178\n",
    "giancarlo.nationality ➞ \"Italian\""
   ]
  },
  {
   "cell_type": "code",
   "execution_count": 24,
   "id": "479f9565",
   "metadata": {},
   "outputs": [],
   "source": [
    "class Employee:\n",
    "    def __init__(self, full_name, **karg):\n",
    "        self.name = full_name.split()[0]\n",
    "        self.lastname = full_name.split()[1]\n",
    "        if 'salary' in karg.keys():\n",
    "            self.salary = karg['salary']\n",
    "        if 'height' in karg.keys():\n",
    "            self.height = karg['height']\n",
    "        if 'nationality' in karg.keys():\n",
    "            self.nationality = karg['nationality']\n",
    "        "
   ]
  },
  {
   "cell_type": "code",
   "execution_count": 28,
   "id": "92284385",
   "metadata": {},
   "outputs": [
    {
     "name": "stdout",
     "output_type": "stream",
     "text": [
      "John\n",
      "Major\n",
      "178\n",
      "Italian\n"
     ]
    }
   ],
   "source": [
    "john = Employee(\"John Doe\")\n",
    "mary = Employee(\"Mary Major\", salary=120000)\n",
    "richard = Employee(\"Richard Roe\", salary=110000, height=178)\n",
    "giancarlo = Employee(\"Giancarlo Rossi\", salary=115000, height=182, nationality=\"Italian\")\n",
    "\n",
    "print(john.name) # ➞ \"John\"\n",
    "print(mary.lastname) #➞ \"Major\"\n",
    "print(richard.height)# ➞ 178\n",
    "print(giancarlo.nationality) "
   ]
  },
  {
   "cell_type": "markdown",
   "id": "083e9823",
   "metadata": {},
   "source": [
    "### 4. Create a function that determines whether each seat can \"see\" the front-stage. A number can \"see\" the front-stage if it is strictly greater than the number before it.\n",
    "\n",
    "Everyone can see the front-stage in the example below:\n",
    "\n",
    "# FRONT STAGE\n",
    "[[1, 2, 3, 2, 1, 1],\n",
    "[2, 4, 4, 3, 2, 2],\n",
    "[5, 5, 5, 5, 4, 4],\n",
    "[6, 6, 7, 6, 5, 5]]\n",
    "\n",
    "# Starting from the left, the 6 > 5 > 2 > 1, so all numbers can see.\n",
    "# 6 > 5 > 4 > 2 - so all numbers can see, etc.\n",
    "\n",
    "Not everyone can see the front-stage in the example below:\n",
    "\n",
    "# FRONT STAGE\n",
    "[[1, 2, 3, 2, 1, 1], \n",
    "[2, 4, 4, 3, 2, 2], \n",
    "[5, 5, 5, 10, 4, 4], \n",
    "[6, 6, 7, 6, 5, 5]]\n",
    "\n",
    "# The 10 is directly in front of the 6 and blocking its view.\n",
    "\n",
    "The function should return True if every number can see the front-stage, and False if even a single number cannot.\n",
    "\n",
    "Examples\n",
    "\n",
    "can_see_stage([\n",
    "  [1, 2, 3],\n",
    "  [4, 5, 6],\n",
    "  [7, 8, 9]\n",
    "]) ➞ True\n",
    "\n",
    "can_see_stage([\n",
    "  [0, 0, 0],\n",
    "  [1, 1, 1],\n",
    "  [2, 2, 2]\n",
    "]) ➞ True\n",
    "\n",
    "can_see_stage([\n",
    "  [2, 0, 0], \n",
    "  [1, 1, 1], \n",
    "  [2, 2, 2]\n",
    "]) ➞ False\n",
    "\n",
    "can_see_stage([\n",
    "  [1, 0, 0],\n",
    "  [1, 1, 1],\n",
    "  [2, 2, 2]\n",
    "]) ➞ False\n",
    "\n",
    "# Number must be strictly smaller than \n",
    "# the number directly behind it.\n"
   ]
  },
  {
   "cell_type": "code",
   "execution_count": 89,
   "id": "fefc74de",
   "metadata": {},
   "outputs": [],
   "source": [
    "def can_see_stage(td_list):\n",
    "    list1 = [True if list(x) == sorted(set(x)) else False for x in list(zip(*td_list))]\n",
    "    if False in list1:\n",
    "        return False\n",
    "    return True\n",
    "    "
   ]
  },
  {
   "cell_type": "code",
   "execution_count": 90,
   "id": "ce4d1893",
   "metadata": {},
   "outputs": [
    {
     "name": "stdout",
     "output_type": "stream",
     "text": [
      "enter number or rows: 4\n",
      "enter row 1 (Comma and space separated): 1, 2, 3, 2, 1, 1\n",
      "enter row 2 (Comma and space separated): 2, 4, 4, 3, 2, 2\n",
      "enter row 3 (Comma and space separated): 5, 5, 5, 10, 4, 4\n",
      "enter row 4 (Comma and space separated): 6, 6, 7, 6, 5, 5\n",
      "\n",
      " False\n"
     ]
    }
   ],
   "source": [
    "td_list = [input('enter row {} (Comma and space separated): '.format(i)).split(', ') for i in range(1,int(input('enter number or rows: '))+1)]\n",
    "print('\\n',can_see_stage(td_list))"
   ]
  },
  {
   "cell_type": "markdown",
   "id": "054f119c",
   "metadata": {},
   "source": [
    "### 5. Create a Pizza class with the attributes order_number and ingredients (which is given as a list). Only the ingredients will be given as input.\n",
    "\n",
    "You should also make it so that its possible to choose a ready made pizza flavour rather than typing out the ingredients manually! As well as creating this Pizza class, hard-code the following pizza flavours.\n",
    "\n",
    "Name\t                    Ingredients\n",
    "hawaiian\t          ham, pineapple\n",
    "meat_festival\tbeef, meatball, bacon\n",
    "garden_feast\tspinach, olives, mushroom\n",
    "\n",
    "Examples\n",
    "\n",
    "p1 = Pizza([\"bacon\", \"parmesan\", \"ham\"])    # order 1\n",
    "\n",
    "p2 = Pizza.garden_feast()                  # order 2\n",
    "\n",
    "p1.ingredients ➞ [\"bacon\", \"parmesan\", \"ham\"]\n",
    "\n",
    "p2.ingredients ➞ [\"spinach\", \"olives\", \"mushroom\"]\n",
    "\n",
    "p1.order_number ➞ 1\n",
    "\n",
    "p2.order_number ➞ 2"
   ]
  },
  {
   "cell_type": "code",
   "execution_count": 33,
   "id": "3947fecf",
   "metadata": {},
   "outputs": [],
   "source": [
    "class Pizza:\n",
    "    order_count = 0\n",
    "    def __init__(self,ingredients=None):\n",
    "        self.ingredients = ingredients\n",
    "        self.order_number = Pizza.order_count+1\n",
    "        Pizza.order_count = self.order_number\n",
    "    def hawaiian(self):\n",
    "        self.ingredients = ['ham', 'pineapple']\n",
    "    def meat_festival(self):\n",
    "        self.ingredients = ['beef', 'meatball', 'bacon']\n",
    "    def garden_feast(self):\n",
    "        self.ingredients = ['spinach', 'olives', 'mushroom']"
   ]
  },
  {
   "cell_type": "code",
   "execution_count": 37,
   "id": "fe97ff15",
   "metadata": {},
   "outputs": [
    {
     "name": "stdout",
     "output_type": "stream",
     "text": [
      "['bacon', 'parmesan', 'ham']\n",
      "['spinach', 'olives', 'mushroom']\n",
      "5\n",
      "6\n"
     ]
    }
   ],
   "source": [
    "p1 = Pizza([\"bacon\", \"parmesan\", \"ham\"])\n",
    "p2 = Pizza()\n",
    "p2.garden_feast()\n",
    "print(p1.ingredients)\n",
    "print(p2.ingredients)\n",
    "print(p1.order_number)\n",
    "print(p2.order_number)"
   ]
  }
 ],
 "metadata": {
  "kernelspec": {
   "display_name": "Python 3",
   "language": "python",
   "name": "python3"
  },
  "language_info": {
   "codemirror_mode": {
    "name": "ipython",
    "version": 3
   },
   "file_extension": ".py",
   "mimetype": "text/x-python",
   "name": "python",
   "nbconvert_exporter": "python",
   "pygments_lexer": "ipython3",
   "version": "3.8.8"
  }
 },
 "nbformat": 4,
 "nbformat_minor": 5
}
