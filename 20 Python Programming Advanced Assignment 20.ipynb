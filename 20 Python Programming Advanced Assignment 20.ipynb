{
 "cells": [
  {
   "cell_type": "markdown",
   "id": "5a95cf84",
   "metadata": {},
   "source": [
    "### 1. Create a function based on the input and output. Look at the examples, there is a pattern.\n",
    "\n",
    "Examples\n",
    "\n",
    "secret(\"p.one.two.three\") ➞ \"<p class='one two three'></p>\"\n",
    "\n",
    "secret(\"p.one\") ➞ \"<p class='one'></p>\"\n",
    "\n",
    "secret(\"p.four.five\") ➞ \"<p class='four five'></p>\""
   ]
  },
  {
   "cell_type": "code",
   "execution_count": 9,
   "id": "49c75142",
   "metadata": {},
   "outputs": [],
   "source": [
    "def secret(str1):\n",
    "    return \"<{} class='{}'></p>\".format(str1.split('.')[0],' '.join(str1.split('.')[1:]))"
   ]
  },
  {
   "cell_type": "code",
   "execution_count": 12,
   "id": "292bd7aa",
   "metadata": {},
   "outputs": [
    {
     "name": "stdout",
     "output_type": "stream",
     "text": [
      "enter string: p.four.five\n",
      "\n",
      " <p class='four five'></p>\n"
     ]
    }
   ],
   "source": [
    "str1 = input('enter string: ')\n",
    "print('\\n',secret(str1))"
   ]
  },
  {
   "cell_type": "markdown",
   "id": "9b40106e",
   "metadata": {},
   "source": [
    "### 2. Create a function which counts how many lone 1s appear in a given number. Lone means the number doesn't appear twice or more in a row.\n",
    "\n",
    "Examples\n",
    "\n",
    "count_lone_ones(101) ➞ 2\n",
    "\n",
    "count_lone_ones(1191) ➞ 1\n",
    "\n",
    "count_lone_ones(1111) ➞ 0\n",
    "\n",
    "count_lone_ones(462) ➞ 0"
   ]
  },
  {
   "cell_type": "code",
   "execution_count": 1,
   "id": "c7f01c7d",
   "metadata": {},
   "outputs": [],
   "source": [
    "def count_lone_ones(num):\n",
    "    count=0\n",
    "    lst=[int(i) for i in str(num)]\n",
    "    if lst[0]==1 and lst[1]!=1:\n",
    "        count+=1\n",
    "    if lst[-2]!=1 and lst[-1]==1:\n",
    "        count+=1\n",
    "    for i in range(1,len(lst)-2):\n",
    "        if lst[i]==1:\n",
    "            if lst[i-1]!=1 and lst[i+1]!=1:\n",
    "                count+=1\n",
    "    return count"
   ]
  },
  {
   "cell_type": "code",
   "execution_count": 6,
   "id": "05c916f1",
   "metadata": {},
   "outputs": [
    {
     "name": "stdout",
     "output_type": "stream",
     "text": [
      "enter the number : 101\n",
      "\n",
      " count of ones =  2\n"
     ]
    }
   ],
   "source": [
    "num = int(input('enter the number : '))\n",
    "print('\\n count of ones = ',count_lone_ones(num))"
   ]
  },
  {
   "cell_type": "markdown",
   "id": "94234377",
   "metadata": {},
   "source": [
    "### 3. Write a method that accepts two integer parameters rows and cols. The output is a 2d array of numbers displayed in column-major order, meaning the numbers shown increase sequentially down each column and wrap to the top of the next column to the right once the bottom of the current column is reached.\n",
    "\n",
    "Examples\n",
    "\n",
    "printGrid(3, 6) ➞ [\n",
    "  [1, 4, 7, 10, 13, 16],\n",
    "  [2, 5, 8, 11, 14, 17],\n",
    "  [3, 6, 9, 12, 15, 18]\n",
    "]\n",
    "\n",
    "printGrid(5, 3) ➞ [\n",
    "  [1, 6, 11],\n",
    "  [2, 7, 12],\n",
    "  [3, 8, 13],\n",
    "  [4, 9, 14],\n",
    "  [5, 10, 15]\n",
    "]\n",
    "\n",
    "printGrid(4, 1) ➞ [\n",
    "  [1],\n",
    "  [2],\n",
    "  [3],\n",
    "  [4]\n",
    "]"
   ]
  },
  {
   "cell_type": "code",
   "execution_count": 59,
   "id": "c8e68c9c",
   "metadata": {},
   "outputs": [],
   "source": [
    "# reverse list comprehension\n",
    "def printGrid(rows,columns):\n",
    "    list1 = sorted([sorted(list(range((rows*columns)-x,0,-rows))) for x in range(rows)])\n",
    "    return list1"
   ]
  },
  {
   "cell_type": "code",
   "execution_count": 62,
   "id": "c4a8e6a2",
   "metadata": {
    "scrolled": true
   },
   "outputs": [
    {
     "name": "stdout",
     "output_type": "stream",
     "text": [
      "enter number of rows: 4\n",
      "enter number of columns: 1\n",
      "\n",
      " [[1], [2], [3], [4]]\n"
     ]
    }
   ],
   "source": [
    "r = int(input('enter number of rows: '))\n",
    "c = int(input('enter number of columns: '))\n",
    "print('\\n',printGrid(r,c))"
   ]
  },
  {
   "cell_type": "markdown",
   "id": "2f6f4379",
   "metadata": {},
   "source": [
    "### 4. Given a list of integers, return the smallest positive integer not present in the list.\n",
    "\n",
    "Here is a representative example. Consider the list:\n",
    "\n",
    "[-2, 6, 4, 5, 7, -1, 7, 1, 3, 6, 6, -2, 9, 10, 2, 2]\n",
    "\n",
    "After reordering, the list becomes:\n",
    "\n",
    "[-2, -2, -1, 1, 2, 2, 3, 4, 5, 6, 6, 6, 7, 7, 9, 10]\n",
    "\n",
    "from which we see that the smallest missing positive integer is 8.\n",
    "\n",
    "Examples\n",
    "\n",
    "min_miss_pos([-2, 6, 4, 5, 7, -1, 1, 3, 6, -2, 9, 10, 2, 2]) ➞ 8\n",
    "# After sorting, list becomes [-2, -2, -1, 1, 2, 2, 3, 4, 5, 6, 6, 7, 9, 10]\n",
    "# So the smallest missing positive integer is 8\n",
    "\n",
    "min_miss_pos([5, 9, -2, 0, 1, 3, 9, 3, 8, 9]) ➞ 2\n",
    "# After sorting, list becomes [-2, 0, 1, 3, 3, 5, 8, 9, 9, 9]\n",
    "# So the smallest missing positive integer is 2\n",
    "\n",
    "min_miss_pos([0, 4, 4, -1, 9, 4, 5, 2, 10, 7, 6, 3, 10, 9]) ➞ 1\n",
    "# After sorting, list becomes [-1, 0, 2, 3, 4, 4, 4, 5, 6, 7, 9, 9, 10, 10]\n",
    "# So the smallest missing positive integer is 1\n"
   ]
  },
  {
   "cell_type": "code",
   "execution_count": 77,
   "id": "0fac26f2",
   "metadata": {},
   "outputs": [],
   "source": [
    "def min_miss_pos(list1):\n",
    "    list2 = [x for x in range(min(list1),max(list1)+1) if x not in list1 and x > 0]\n",
    "    return list2[0]"
   ]
  },
  {
   "cell_type": "code",
   "execution_count": 80,
   "id": "33c1a119",
   "metadata": {},
   "outputs": [
    {
     "name": "stdout",
     "output_type": "stream",
     "text": [
      "enter your list(comma and space separated): 0, 4, 4, -1, 9, 4, 5, 2, 10, 7, 6, 1, 10, 9\n",
      "\n",
      " smallest missing positive integer:  3\n"
     ]
    }
   ],
   "source": [
    "list1 = list(map(int,input('enter your list(comma and space separated): ').split(', ')))\n",
    "print('\\n smallest missing positive integer: ', min_miss_pos(list1))"
   ]
  },
  {
   "cell_type": "markdown",
   "id": "10dea05c",
   "metadata": {},
   "source": [
    "### 5. Google is launching a network of autonomous pizza delivery drones and wants you to create a flexible rewards system (Pizza Points™) that can be tweaked in the future. The rules are simple: if a customer has made at least N orders of at least Y price, they get a FREE pizza!\n",
    "\n",
    "Create a function that takes a dictionary of customers, a minimum number of orders and a minimum order price. Return a list of customers that are eligible for a free pizza.\n",
    "\n",
    "Examples\n",
    "\n",
    "customers = {\n",
    "  \"Batman\": [22, 30, 11, 17, 15, 52, 27, 12],\n",
    "  \"Spider-Man\": [5, 17, 30, 33, 40, 22, 26, 10, 11, 45]\n",
    "}\n",
    "\n",
    "  pizza_points(customers, 5, 20) ➞ [\"Spider-Man\"]\n",
    "\n",
    "  pizza_points(customers, 3, 10) ➞ [\"Batman\", \"Spider-Man\"]\n",
    "\n",
    "  pizza_points(customers, 5, 100) ➞ []"
   ]
  },
  {
   "cell_type": "code",
   "execution_count": 95,
   "id": "35cf3602",
   "metadata": {},
   "outputs": [],
   "source": [
    "def pizza_points(dict1,order,price):\n",
    "    list1 = [x for x,y in dict1.items() if len([z for z in y if z >= price]) >= order ]\n",
    "    return list1"
   ]
  },
  {
   "cell_type": "code",
   "execution_count": 98,
   "id": "2ed4698e",
   "metadata": {},
   "outputs": [
    {
     "name": "stdout",
     "output_type": "stream",
     "text": [
      "number of customers: 2\n",
      "enter name of customer 1: s\n",
      "enter order list 1 (comma and space separated): 5, 17, 30, 33, 40, 22, 26, 10, 11, 45\n",
      "enter name of customer 2: b\n",
      "enter order list 2 (comma and space separated): 22, 30, 11, 17, 15, 52, 27, 12\n",
      "enter the number of minimum order: 5\n",
      "enter the minimum price per order: 100\n",
      "\n",
      "eligible customers list for free pizza:  []\n"
     ]
    }
   ],
   "source": [
    "n = int(input('number of customers: '))\n",
    "customers = {input('enter name of customer {}: '.format(x)):list(map(int,input('enter order list {} (comma and space separated): '.format(x)).split(', '))) for x in range(1,n+1)}\n",
    "min_ord = int(input('enter the number of minimum order: '))\n",
    "price_p_ord = int(input('enter the minimum price per order: '))\n",
    "print('\\neligible customers list for free pizza: ', pizza_points(customers,min_ord,price_p_ord))"
   ]
  }
 ],
 "metadata": {
  "kernelspec": {
   "display_name": "Python 3",
   "language": "python",
   "name": "python3"
  },
  "language_info": {
   "codemirror_mode": {
    "name": "ipython",
    "version": 3
   },
   "file_extension": ".py",
   "mimetype": "text/x-python",
   "name": "python",
   "nbconvert_exporter": "python",
   "pygments_lexer": "ipython3",
   "version": "3.8.8"
  }
 },
 "nbformat": 4,
 "nbformat_minor": 5
}
