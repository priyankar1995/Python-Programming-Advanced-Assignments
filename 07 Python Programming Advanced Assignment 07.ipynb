{
 "cells": [
  {
   "cell_type": "markdown",
   "id": "7bc34164",
   "metadata": {},
   "source": [
    "### 1. Write a function that counts how many concentric layers a rug.\n",
    "\n",
    "Examples\n",
    "\n",
    "count_layers([\n",
    "  \"AAAA\",\n",
    "  \"ABBA\",\n",
    "  \"AAAA\"\n",
    "]) ➞ 2\n",
    "\n",
    "count_layers([\n",
    "  \"AAAAAAAAA\",\n",
    "  \"ABBBBBBBA\",\n",
    "  \"ABBAAABBA\",\n",
    "  \"ABBBBBBBA\",\n",
    "  \"AAAAAAAAA\"\n",
    "]) ➞ 3\n",
    "\n",
    "count_layers([\n",
    "  \"AAAAAAAAAAA\",\n",
    "  \"AABBBBBBBAA\",\n",
    "  \"AABCCCCCBAA\",\n",
    "  \"AABCAAACBAA\",\n",
    "  \"AABCADACBAA\",\n",
    "  \"AABCAAACBAA\",\n",
    "  \"AABCCCCCBAA\",\n",
    "  \"AABBBBBBBAA\",\n",
    "  \"AAAAAAAAAAA\"\n",
    "]) ➞ 5\n"
   ]
  },
  {
   "cell_type": "code",
   "execution_count": 1,
   "id": "bbc4bd41",
   "metadata": {},
   "outputs": [],
   "source": [
    "def count_layers(list1):\n",
    "    return len(set(list1))\n",
    "    "
   ]
  },
  {
   "cell_type": "code",
   "execution_count": 2,
   "id": "2812b30c",
   "metadata": {},
   "outputs": [
    {
     "name": "stdout",
     "output_type": "stream",
     "text": [
      "length of your rug: 3\n",
      "row 0: AAAA\n",
      "row 1: ABBA\n",
      "row 2: AAAA\n",
      "\n",
      "number of layers: 2\n"
     ]
    }
   ],
   "source": [
    "list1 = [input('row {}: '.format(x)) for x in range(int(input('length of your rug: ')))]\n",
    "print('\\nnumber of layers:',count_layers(list1))"
   ]
  },
  {
   "cell_type": "markdown",
   "id": "b83f683c",
   "metadata": {},
   "source": [
    "### 2. There are many different styles of music and many albums exhibit multiple styles. Create a function that takes a list of musical styles from albums and returns how many styles are unique.\n",
    "\n",
    "Examples\n",
    "\n",
    "unique_styles([\n",
    "  \"Dub,Dancehall\",\n",
    "  \"Industrial,Heavy Metal\",\n",
    "  \"Techno,Dubstep\",\n",
    "  \"Synth-pop,Euro-Disco\",\n",
    "  \"Industrial,Techno,Minimal\"\n",
    "]) ➞ 9\n",
    "\n",
    "unique_styles([\n",
    "  \"Soul\",\n",
    "  \"House,Folk\",\n",
    "  \"Trance,Downtempo,Big Beat,House\",\n",
    "  \"Deep House\",\n",
    "  \"Soul\"\n",
    "]) ➞ 7"
   ]
  },
  {
   "cell_type": "code",
   "execution_count": 7,
   "id": "2d6c4e96",
   "metadata": {},
   "outputs": [],
   "source": [
    "def unique_styles(list1):\n",
    "    list1 = [x for y in list1 for x in y]\n",
    "    return len(set(list1))"
   ]
  },
  {
   "cell_type": "code",
   "execution_count": 8,
   "id": "8b10c1cd",
   "metadata": {},
   "outputs": [
    {
     "name": "stdout",
     "output_type": "stream",
     "text": [
      "how many albums you have: 3\n",
      "enter the styles (comma separated) of album 0: Trance,Downtempo,Big Beat,House\n",
      "enter the styles (comma separated) of album 1: Deep House\n",
      "enter the styles (comma separated) of album 2: Industrial,Techno,Minimal\n",
      "\n",
      " number of unique styles: 8\n"
     ]
    }
   ],
   "source": [
    "n = int(input('how many albums you have: '))\n",
    "list1 = []\n",
    "for i in range(n):\n",
    "    list1.append(input('enter the styles (comma separated) of album {}: '.format(i)).split(','))\n",
    "print('\\n number of unique styles:',unique_styles(list1))"
   ]
  },
  {
   "cell_type": "markdown",
   "id": "bddf1213",
   "metadata": {},
   "source": [
    "### 3. Create a function that finds a target number in a list of prime numbers. Implement a binary search algorithm in your function. The target number will be from 2 through 97. If the target is prime then return \"yes\" else return \"no\".\n",
    "\n",
    "Examples\n",
    "\n",
    "primes = [2, 3, 5, 7, 11, 13, 17, 19, 23, 29, 31, 37, 41, 43, 47, 53, 59, 61, 67, 71, 73, 79, 83, 89, 97]\n",
    "\n",
    "\n",
    "is_prime(primes, 3) ➞ \"yes\"\n",
    "\n",
    "is_prime(primes, 4) ➞ \"no\"\n",
    "\n",
    "is_prime(primes, 67) ➞ \"yes\"\n",
    "\n",
    "is_prime(primes, 36) ➞ \"no\""
   ]
  },
  {
   "cell_type": "code",
   "execution_count": 1,
   "id": "54e162b0",
   "metadata": {},
   "outputs": [],
   "source": [
    "def is_prime(primes,item):\n",
    "    first = 0\n",
    "    last = len(primes)-1\n",
    "    found = False\n",
    "    yes = 'no'\n",
    "    while( first<=last and not found):\n",
    "        mid = (first + last)//2\n",
    "        if primes[mid] == item :\n",
    "            found = True\n",
    "            yes = 'yes'\n",
    "        else:\n",
    "            if item < primes[mid]:\n",
    "                last = mid - 1\n",
    "            else:\n",
    "                first = mid + 1\n",
    "    return yes"
   ]
  },
  {
   "cell_type": "code",
   "execution_count": 3,
   "id": "53d7873a",
   "metadata": {},
   "outputs": [
    {
     "name": "stdout",
     "output_type": "stream",
     "text": [
      "Enter The Number: 11\n",
      "yes\n"
     ]
    }
   ],
   "source": [
    "primes = [2, 3, 5, 7, 11, 13, 17, 19, 23, 29, 31, 37, 41, 43, 47, 53, 59, 61, 67, 71, 73, 79, 83, 89, 97]\n",
    "num = int(input(\"Enter The Number: \"))\n",
    "print(is_prime(primes,num))"
   ]
  },
  {
   "cell_type": "markdown",
   "id": "e3e0e521",
   "metadata": {},
   "source": [
    "### 4. Create a function that takes in n, a, b and returns the number of positive values raised to the nth power that lie in the range [a, b], inclusive.\n",
    "\n",
    "Examples\n",
    "\n",
    "power_ranger(2, 49, 65) ➞ 2\n",
    "# 2 squares (n^2) lie between 49 and 65, 49 (7^2) and 64 (8^2)\n",
    "\n",
    "power_ranger(3, 1, 27) ➞ 3\n",
    "# 3 cubes (n^3) lie between 1 and 27, 1 (1^3), 8 (2^3) and 27 (3^3)\n",
    "\n",
    "power_ranger(10, 1, 5) ➞ 1\n",
    "# 1 value raised to the 10th power lies between 1 and 5, 1 (1^10)\n",
    "\n",
    "power_ranger(5, 31, 33) ➞ 1\n",
    "\n",
    "power_ranger(4, 250, 1300) ➞ 3"
   ]
  },
  {
   "cell_type": "code",
   "execution_count": 16,
   "id": "a86961c3",
   "metadata": {},
   "outputs": [],
   "source": [
    "def power_ranger(n,a,b):\n",
    "    count = 0\n",
    "    for i in range(0,int(b**0.5)+1):\n",
    "        if i**n in list(range(a,b+1)):\n",
    "            count += 1\n",
    "    return count"
   ]
  },
  {
   "cell_type": "code",
   "execution_count": 18,
   "id": "1d369bc3",
   "metadata": {
    "scrolled": true
   },
   "outputs": [
    {
     "name": "stdout",
     "output_type": "stream",
     "text": [
      "enter your power value , starting range and ending range \n",
      " (comma and space separated):4, 250, 1300\n",
      "\n",
      "there are 3 positive values in your range\n"
     ]
    }
   ],
   "source": [
    "n,a,b = tuple(map(int,input('enter your power value , starting range and ending range \\n (comma and space separated):').split(', ')))\n",
    "print('\\nthere are {} positive values in your range'.format(power_ranger(n,a,b)))"
   ]
  },
  {
   "cell_type": "markdown",
   "id": "01d5d522",
   "metadata": {},
   "source": [
    "### 5. Given a number, return the difference between the maximum and minimum numbers that can be formed when the digits are rearranged.\n",
    "\n",
    "Examples\n",
    "\n",
    "rearranged_difference(972882) ➞ 760833\n",
    "# 988722 - 227889 = 760833\n",
    "\n",
    "rearranged_difference(3320707) ➞ 7709823\n",
    "# 7733200 - 23377 = 7709823\n",
    "\n",
    "rearranged_difference(90010) ➞ 90981\n",
    "# 91000 - 19 = 90981"
   ]
  },
  {
   "cell_type": "code",
   "execution_count": 19,
   "id": "f428545d",
   "metadata": {},
   "outputs": [],
   "source": [
    "def rearranged_difference(str1):\n",
    "    list1 = sorted(list(str1))\n",
    "    least = int(''.join(list1))\n",
    "    greatest = int(''.join(list1[::-1]))\n",
    "    return (greatest - least)"
   ]
  },
  {
   "cell_type": "code",
   "execution_count": 19,
   "id": "1424822c",
   "metadata": {},
   "outputs": [
    {
     "name": "stdout",
     "output_type": "stream",
     "text": [
      "enter your number: 972882\n",
      "\n",
      " difference \n",
      " 760833\n"
     ]
    }
   ],
   "source": [
    "str1 = input('enter your number: ')\n",
    "print('\\n difference \\n',rearranged_difference(str1))"
   ]
  }
 ],
 "metadata": {
  "kernelspec": {
   "display_name": "Python 3",
   "language": "python",
   "name": "python3"
  },
  "language_info": {
   "codemirror_mode": {
    "name": "ipython",
    "version": 3
   },
   "file_extension": ".py",
   "mimetype": "text/x-python",
   "name": "python",
   "nbconvert_exporter": "python",
   "pygments_lexer": "ipython3",
   "version": "3.8.8"
  }
 },
 "nbformat": 4,
 "nbformat_minor": 5
}
