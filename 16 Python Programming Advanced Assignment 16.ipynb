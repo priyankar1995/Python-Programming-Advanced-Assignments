{
 "cells": [
  {
   "cell_type": "markdown",
   "id": "7b1a7f0d",
   "metadata": {},
   "source": [
    "### 1. Rondo Form is a type of musical structure, in which there is a recurring theme/refrain, notated as A. Here are the rules for valid rondo forms:\n",
    "\n",
    "   - Rondo forms always start and end with an A section.\n",
    "   - In between the A sections, there should be contrasting sections notated as B, then C, then D, etc... No letter should be skipped.\n",
    "   - There shouldn't be any repeats in the sequence (such as ABBACCA).\n",
    "\n",
    "Create a function which validates whether a given string is a valid Rondo Form.\n",
    "\n",
    "Examples\n",
    "\n",
    "valid_rondo(\"ABACADAEAFAGAHAIAJA\") ➞ True\n",
    "\n",
    "valid_rondo(\"ABA\") ➞ True\n",
    "\n",
    "valid_rondo(\"ABBACCA\") ➞ False\n",
    "\n",
    "valid_rondo(\"ACAC\") ➞ False\n",
    "\n",
    "valid_rondo(\"A\") ➞ False"
   ]
  },
  {
   "cell_type": "markdown",
   "id": "dd3e7c11",
   "metadata": {},
   "source": [
    "# rondo is not done"
   ]
  },
  {
   "cell_type": "code",
   "execution_count": 1,
   "id": "db2d4942",
   "metadata": {},
   "outputs": [],
   "source": [
    "import string\n",
    "def valid_rondo(str1):\n",
    "    if len(str1)>= 3:\n",
    "        list1 = list(zip(['A']*(len(str1)//2),[x for x in string.ascii_uppercase[1:len(str1)//2+1]]))\n",
    "        final_str = ''.join([''.join(x) for x in list1])+'A'\n",
    "        return final_str == str1\n",
    "    return False\n"
   ]
  },
  {
   "cell_type": "code",
   "execution_count": 3,
   "id": "decb7444",
   "metadata": {},
   "outputs": [
    {
     "name": "stdout",
     "output_type": "stream",
     "text": [
      "enter your rondo form: ABACADAEAFAGAHAIAJA\n",
      "\n",
      " True\n"
     ]
    }
   ],
   "source": [
    "str1 = input('enter your rondo form: ')\n",
    "print('\\n',valid_rondo(str1))"
   ]
  },
  {
   "cell_type": "markdown",
   "id": "d783e51f",
   "metadata": {},
   "source": [
    "### 2. Create a function that returns the whole of the first sentence which contains a specific word. Include the full stop at the end of the sentence.\n",
    "\n",
    "Examples\n",
    "\n",
    "txt = \"I have a cat. I have a mat. Things are going swell.\"\n",
    "\n",
    "sentence_searcher(txt, \"have\") ➞ \"I have a cat.\"\n",
    "\n",
    "sentence_searcher(txt, \"MAT\") ➞ \"I have a mat.\"\n",
    "\n",
    "sentence_searcher(txt, \"things\") ➞ \"Things are going swell.\"\n",
    "\n",
    "sentence_searcher(txt, \"flat\") ➞ \"\""
   ]
  },
  {
   "cell_type": "code",
   "execution_count": 2,
   "id": "a79c0df1",
   "metadata": {},
   "outputs": [],
   "source": [
    "def sentence_searcher(str1,word):\n",
    "    listx = list(zip((str1.lower()).split('.'),str1.split('.')))\n",
    "    list1 = [y for x,y in listx if word in x.split() or word.lower() in x.split()]\n",
    "    \n",
    "    if len(list1)!= 0:\n",
    "        return list1[0]+'.'\n",
    "    else:\n",
    "        return ''"
   ]
  },
  {
   "cell_type": "code",
   "execution_count": 3,
   "id": "17e743c4",
   "metadata": {},
   "outputs": [
    {
     "name": "stdout",
     "output_type": "stream",
     "text": [
      "enter your string: I have a cat. I have a mat. Things are going swell\n",
      "enter your word: MAT\n",
      "\n",
      "  I have a mat.\n"
     ]
    }
   ],
   "source": [
    "str1 = input('enter your string: ')\n",
    "word = input('enter your word: ')\n",
    "print('\\n',sentence_searcher(str1,word))"
   ]
  },
  {
   "cell_type": "markdown",
   "id": "8250c130",
   "metadata": {},
   "source": [
    "### 3. Given a number, find the \"round \"of each digit of the number. An integer is called \"round\" if all its digits except the leftmost (most significant) are equal to zero.\n",
    "\n",
    "    - Round numbers: 4000, 1, 9, 800, 90\n",
    "    - Not round numbers: 110, 707, 222, 1001\n",
    "\n",
    "Create a function that takes a number and returns the \"round\" of each digit (except if the digit is zero) as a string. Check out the following examples for more clarification.\n",
    "\n",
    "Examples\n",
    "\n",
    "sum_round(101) ➞ \"1 100\"\n",
    "\n",
    "sum_round(1234) ➞ \"4 30 200 1000\"\n",
    "\n",
    "sum_round(54210) ➞ \"10 200 4000 50000\""
   ]
  },
  {
   "cell_type": "code",
   "execution_count": 8,
   "id": "e6c8a81b",
   "metadata": {},
   "outputs": [],
   "source": [
    "def sum_round(num):\n",
    "    list1 = [j + ('0'*i) for i,j in enumerate(list(str(num))[::-1]) if j!='0']\n",
    "    return ' '.join(list1)"
   ]
  },
  {
   "cell_type": "code",
   "execution_count": 10,
   "id": "9f6474b8",
   "metadata": {},
   "outputs": [
    {
     "name": "stdout",
     "output_type": "stream",
     "text": [
      "enter the number: 101\n",
      "\n",
      " list of round numbers:  1 100\n"
     ]
    }
   ],
   "source": [
    "num = int(input('enter the number: '))\n",
    "print('\\n list of round numbers: ',sum_round(num))"
   ]
  },
  {
   "cell_type": "markdown",
   "id": "83afdf80",
   "metadata": {},
   "source": [
    "### 4. Your task, is to create N x N multiplication table, of size n provided in parameter.\n",
    "\n",
    "For example, when n is 5, the multiplication table is:\n",
    "\n",
    "   - 1, 2, 3, 4, 5\n",
    "   - 2, 4, 6, 8, 10\n",
    "   - 3, 6, 9, 12, 15\n",
    "   - 4, 8, 12, 16, 20\n",
    "   - 5, 10, 15, 20, 25\n",
    "\n",
    "This example will result in:\n",
    "\n",
    "[[1, 2, 3, 4, 5], [2, 4, 6, 8, 10], [3, 6, 9, 12, 15], [4, 8, 12, 16, 20], [5, 10, 15, 20, 25]]\n",
    "\n",
    "Examples\n",
    "\n",
    "multiplication_table(1) ➞ [[1]]\n",
    "\n",
    "multiplication_table(3) ➞ [[1, 2, 3], [2, 4, 6], [3, 6, 9]]"
   ]
  },
  {
   "cell_type": "code",
   "execution_count": 18,
   "id": "d77397e6",
   "metadata": {},
   "outputs": [],
   "source": [
    "def multiplication_table(num):\n",
    "    list1 = [list(range(y, (y*num)+1, y)) for y in range(1, num+1)]\n",
    "    return list1"
   ]
  },
  {
   "cell_type": "code",
   "execution_count": 22,
   "id": "002d7539",
   "metadata": {},
   "outputs": [
    {
     "name": "stdout",
     "output_type": "stream",
     "text": [
      "enter number: 3\n",
      "\n",
      " your table:  [[1, 2, 3], [2, 4, 6], [3, 6, 9]]\n"
     ]
    }
   ],
   "source": [
    "num = int(input('enter number: '))\n",
    "print('\\n your table: ',multiplication_table(num))"
   ]
  },
  {
   "cell_type": "markdown",
   "id": "9a552475",
   "metadata": {},
   "source": [
    "### 5. Create a function that returns True if two lines rhyme and False otherwise. For the purposes of this exercise, two lines rhyme if the last word from each sentence contains the same vowels.\n",
    "\n",
    "Examples\n",
    "\n",
    "does_rhyme(\"Sam I am!\", \"Green eggs and ham.\") ➞ True\n",
    "\n",
    "does_rhyme(\"Sam I am!\", \"Green eggs and HAM.\") ➞ True\n",
    "# Capitalization and punctuation should not matter.\n",
    "\n",
    "does_rhyme(\"You are off to the races\", \"a splendid day.\") ➞ False\n",
    "\n",
    "does_rhyme(\"and frequently do?\", \"you gotta move.\") ➞ False\n"
   ]
  },
  {
   "cell_type": "code",
   "execution_count": 3,
   "id": "c97547a0",
   "metadata": {},
   "outputs": [],
   "source": [
    "def does_rhyme(str1,str2):\n",
    "    list1 = [x.lower() for x in str1.split()[-1] if x.lower() in 'aeiou']\n",
    "    list2 = [x.lower() for x in str2.split()[-1] if x.lower() in 'aeiou']\n",
    "    return ''.join(list1) == ''.join(list2)"
   ]
  },
  {
   "cell_type": "code",
   "execution_count": 4,
   "id": "5728a07e",
   "metadata": {
    "scrolled": true
   },
   "outputs": [
    {
     "name": "stdout",
     "output_type": "stream",
     "text": [
      "enter first line: You are off to the races\n",
      "enter second line: a splendid day.\n",
      "\n",
      " False\n"
     ]
    }
   ],
   "source": [
    "str1 = input('enter first line: ')\n",
    "str2 = input('enter second line: ')\n",
    "print('\\n', does_rhyme(str1,str2))"
   ]
  }
 ],
 "metadata": {
  "kernelspec": {
   "display_name": "Python 3",
   "language": "python",
   "name": "python3"
  },
  "language_info": {
   "codemirror_mode": {
    "name": "ipython",
    "version": 3
   },
   "file_extension": ".py",
   "mimetype": "text/x-python",
   "name": "python",
   "nbconvert_exporter": "python",
   "pygments_lexer": "ipython3",
   "version": "3.8.8"
  }
 },
 "nbformat": 4,
 "nbformat_minor": 5
}
