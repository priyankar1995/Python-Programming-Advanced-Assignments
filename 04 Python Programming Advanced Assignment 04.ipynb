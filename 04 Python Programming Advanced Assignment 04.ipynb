{
 "cells": [
  {
   "cell_type": "markdown",
   "id": "e29594a4",
   "metadata": {},
   "source": [
    "### 1. In mathematics, the Fibonacci numbers, commonly denoted Fn, form a sequence, called the Fibonacci sequence, such that each number is the sum of the two preceding ones, starting from 0 and 1:\n",
    "\n",
    "\n",
    "The beginning of the sequence is this:\n",
    "\n",
    "0, 1, 1, 2, 3, 5, 8, 13, 21, 34, 55, 89, 144, ...\n",
    "\n",
    "The function fastFib(num) returns the fibonacci number Fn, of the given num as an argument.\n",
    "\n",
    "Examples\n",
    "\n",
    "fib_fast(5) ➞ 5\n",
    "\n",
    "fib_fast(10) ➞ 55\n",
    "\n",
    "fib_fast(20) ➞ 6765\n",
    "\n",
    "fib_fast(50) ➞ 12586269025"
   ]
  },
  {
   "cell_type": "code",
   "execution_count": 21,
   "id": "132a49bd",
   "metadata": {},
   "outputs": [],
   "source": [
    "def fib_fast(num):\n",
    "    list1 = [0,1]\n",
    "    for i in range(num-1):\n",
    "        list1.append(list1[-1]+list1[-2])\n",
    "    \n",
    "    return list1[-1]"
   ]
  },
  {
   "cell_type": "code",
   "execution_count": 22,
   "id": "275e1e2f",
   "metadata": {},
   "outputs": [
    {
     "name": "stdout",
     "output_type": "stream",
     "text": [
      "value of n ? = 10\n",
      "your 10th term = 55\n"
     ]
    }
   ],
   "source": [
    "num = int(input(\"value of n ? = \"))\n",
    "print('your {}th term = {}'.format(num,fib_fast(num)))"
   ]
  },
  {
   "cell_type": "markdown",
   "id": "8dfa6725",
   "metadata": {},
   "source": [
    "### 2. Create a function that takes a strings characters as ASCII and returns each characters hexadecimal value as a string.\n",
    "\n",
    "Examples\n",
    "\n",
    "convert_to_hex(\"hello world\") ➞ \"68 65 6c 6c 6f 20 77 6f 72 6c 64\"\n",
    "\n",
    "convert_to_hex(\"Big Boi\") ➞ \"42 69 67 20 42 6f 69\"\n",
    "\n",
    "convert_to_hex(\"Marty Poppinson\") ➞ \"4d 61 72 74 79 20 50 6f 70 70 69 6e 73 6f 6e\""
   ]
  },
  {
   "cell_type": "code",
   "execution_count": 11,
   "id": "30a87751",
   "metadata": {},
   "outputs": [],
   "source": [
    "def convert_to_hex(str1):\n",
    "    list1 = list(str1)\n",
    "    list1 = [hex(ord(x))[2:] for x in list1]\n",
    "    return list1"
   ]
  },
  {
   "cell_type": "code",
   "execution_count": 12,
   "id": "ae18b490",
   "metadata": {},
   "outputs": [
    {
     "name": "stdout",
     "output_type": "stream",
     "text": [
      "enter your string: Marty Poppinson\n",
      "\n",
      "your converted string :\n",
      " 4d 61 72 74 79 20 50 6f 70 70 69 6e 73 6f 6e\n"
     ]
    }
   ],
   "source": [
    "str1 = input(\"enter your string: \")\n",
    "print('\\nyour converted string :\\n',' '.join(convert_to_hex(str1)))"
   ]
  },
  {
   "cell_type": "markdown",
   "id": "6dc2084a",
   "metadata": {},
   "source": [
    "### 3. Someone has attempted to censor my strings by replacing every vowel with a *, l*k* th*s. Luckily, I've been able to find the vowels that were removed.\n",
    "\n",
    "Given a censored string and a string of the censored vowels, return the original uncensored string.\n",
    "\n",
    "Example\n",
    "\n",
    "uncensor(\"Wh*r* d*d my v*w*ls g*?\", \"eeioeo\") ➞ \"Where did my vowels go?\"\n",
    "\n",
    "uncensor(\"abcd\", \"\") ➞ \"abcd\"\n",
    "\n",
    "uncensor(\"*PP*RC*S*\", \"UEAE\") ➞ \"UPPERCASE\""
   ]
  },
  {
   "cell_type": "code",
   "execution_count": 18,
   "id": "3ba511a4",
   "metadata": {},
   "outputs": [],
   "source": [
    "def uncensored(str1,cen_vow):\n",
    "    cen_vow = list(cen_vow)\n",
    "    str2 = ''\n",
    "    for i in str1:\n",
    "        if i == '*':\n",
    "            str2 += cen_vow[0]\n",
    "            cen_vow.pop(0)\n",
    "        else:\n",
    "            str2 += i\n",
    "    return str2"
   ]
  },
  {
   "cell_type": "code",
   "execution_count": 24,
   "id": "a1c5ee1d",
   "metadata": {},
   "outputs": [
    {
     "name": "stdout",
     "output_type": "stream",
     "text": [
      "enter your string: f**k\n",
      "enter your vowels list: un\n",
      "\n",
      " your uncensored string: \n",
      " funk\n"
     ]
    }
   ],
   "source": [
    "str1 = input('enter your string: ')\n",
    "cen_vow = input('enter your vowels list: ') \n",
    "print('\\n your uncensored string: \\n', uncensored(str1,cen_vow))"
   ]
  },
  {
   "cell_type": "markdown",
   "id": "ce190451",
   "metadata": {},
   "source": [
    "### 4. Write a function that takes an IP address and returns the domain name using PTR DNS records.\n",
    "\n",
    "Example\n",
    "\n",
    "get_domain(\"8.8.8.8\") ➞ \"dns.google\"\n",
    "\n",
    "get_domain(\"8.8.4.4\") ➞ \"dns.google\""
   ]
  },
  {
   "cell_type": "code",
   "execution_count": 7,
   "id": "43f1d13d",
   "metadata": {},
   "outputs": [],
   "source": [
    "from socket import gethostbyaddr\n",
    "\n",
    "def get_domain(ip_string):\n",
    "    return gethostbyaddr(ip_string)[0]"
   ]
  },
  {
   "cell_type": "code",
   "execution_count": 11,
   "id": "12cc0913",
   "metadata": {},
   "outputs": [
    {
     "name": "stdout",
     "output_type": "stream",
     "text": [
      "enter your IP address: 0.0.0.0\n",
      "corresponding domain:  DESKTOP-QD14EAG\n"
     ]
    }
   ],
   "source": [
    "ip_string = input('enter your IP address: ')\n",
    "print('corresponding domain: ',get_domain(ip_string))"
   ]
  },
  {
   "cell_type": "markdown",
   "id": "ccda68e6",
   "metadata": {},
   "source": [
    "### 5. Create a function that takes an integer n and returns the factorial of factorials. See below examples for a better understanding:\n",
    "\n",
    "Examples\n",
    "\n",
    "fact_of_fact(4) ➞ 288\n",
    ".# 4! * 3! * 2! * 1! = 288\n",
    "\n",
    "fact_of_fact(5) ➞ 34560\n",
    "\n",
    "fact_of_fact(6) ➞ 24883200\n"
   ]
  },
  {
   "cell_type": "code",
   "execution_count": 2,
   "id": "c8e75b19",
   "metadata": {},
   "outputs": [],
   "source": [
    "def fact_to_fact(n):\n",
    "    if n == 1:\n",
    "        return n\n",
    "    return n * fact_to_fact(n-1)"
   ]
  },
  {
   "cell_type": "code",
   "execution_count": 3,
   "id": "ac2c1282",
   "metadata": {},
   "outputs": [
    {
     "name": "stdout",
     "output_type": "stream",
     "text": [
      "enter your number: 6\n",
      "\n",
      "factorial of factorial =  24883200\n"
     ]
    }
   ],
   "source": [
    "num = int(input(\"enter your number: \"))\n",
    "fact = 1\n",
    "if num != 0:\n",
    "    for i in range(num,0,-1):\n",
    "        x = fact_to_fact(i)\n",
    "        fact *= x\n",
    "    print(\"\\nfactorial of factorial = \",fact)\n",
    "else: \n",
    "    print(0)"
   ]
  }
 ],
 "metadata": {
  "kernelspec": {
   "display_name": "Python 3",
   "language": "python",
   "name": "python3"
  },
  "language_info": {
   "codemirror_mode": {
    "name": "ipython",
    "version": 3
   },
   "file_extension": ".py",
   "mimetype": "text/x-python",
   "name": "python",
   "nbconvert_exporter": "python",
   "pygments_lexer": "ipython3",
   "version": "3.8.8"
  }
 },
 "nbformat": 4,
 "nbformat_minor": 5
}
