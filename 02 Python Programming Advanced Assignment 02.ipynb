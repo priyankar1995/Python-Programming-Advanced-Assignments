{
 "cells": [
  {
   "cell_type": "markdown",
   "id": "acebcf75",
   "metadata": {},
   "source": [
    "### 1. Write a function that takes a positive integer num and calculates how many dots exist in a pentagonal shape around the center dot on the Nth iteration.\n",
    "\n",
    "In the image below you can see the first iteration is only a single dot. On the second, there are 6 dots. On the third, there are 16 dots, and on the fourth there are 31 dots.\n",
    "\n",
    "\n",
    "Return the number of dots that exist in the whole pentagon on the Nth iteration.\n",
    "\n",
    "Examples\n",
    "\n",
    "pentagonal(1) ➞ 1\n",
    "\n",
    "pentagonal(2) ➞ 6\n",
    "\n",
    "pentagonal(3) ➞ 16\n",
    "\n",
    "pentagonal(8) ➞ 141\n"
   ]
  },
  {
   "cell_type": "code",
   "execution_count": 18,
   "id": "4887f94f",
   "metadata": {},
   "outputs": [],
   "source": [
    "def pentagonal(n):\n",
    "    list1 = [1]\n",
    "    if n>=2:\n",
    "        for i in range(1,n):\n",
    "            list1.append(i*5)\n",
    "    \n",
    "    return sum(list1)"
   ]
  },
  {
   "cell_type": "code",
   "execution_count": 19,
   "id": "2ff6b845",
   "metadata": {},
   "outputs": [
    {
     "name": "stdout",
     "output_type": "stream",
     "text": [
      "enter the nth term: 7\n",
      "\n",
      "total number of dots =  106\n"
     ]
    }
   ],
   "source": [
    "n = int(input(\"enter the nth term: \"))\n",
    "print('\\ntotal number of dots = ',pentagonal(n))"
   ]
  },
  {
   "cell_type": "markdown",
   "id": "731c4d42",
   "metadata": {},
   "source": [
    "### 2.  Make a function that encrypts a given input with these steps:\n",
    "\n",
    "Input: \"apple\"\n",
    "\n",
    "Step 1: Reverse the input: \"elppa\"\n",
    "\n",
    "Step 2: Replace all vowels using the following chart:\n",
    "\n",
    "a => 0\n",
    "e => 1\n",
    "i => 2\n",
    "o => 2\n",
    "u => 3\n",
    "\n",
    "==> \"1lpp0\"\n",
    "\n",
    "Step 3: Add \"aca\" to the end of the word: \"1lpp0aca\"\n",
    "\n",
    "Output: \"1lpp0aca\"\n",
    "\n",
    "Examples\n",
    "\n",
    "encrypt(\"banana\") ➞ \"0n0n0baca\"\n",
    "\n",
    "encrypt(\"karaca\") ➞ \"0c0r0kaca\"\n",
    "\n",
    "encrypt(\"burak\") ➞ \"k0r3baca\"\n",
    "\n",
    "encrypt(\"alpaca\") ➞ \"0c0pl0aca\"\n",
    "\n"
   ]
  },
  {
   "cell_type": "code",
   "execution_count": 31,
   "id": "382bd11c",
   "metadata": {},
   "outputs": [],
   "source": [
    "def encrypt(str1):\n",
    "    str2 = list(str1[::-1])\n",
    "    dict_v = {'a':'0','e':'1','i':'2','o':'2','u':'3'}\n",
    "    listx = [dict_v[x] if x in dict_v.keys() else x for x in str2]\n",
    "    return ''.join(listx) + 'aca'"
   ]
  },
  {
   "cell_type": "code",
   "execution_count": 34,
   "id": "e2df17e7",
   "metadata": {},
   "outputs": [
    {
     "name": "stdout",
     "output_type": "stream",
     "text": [
      "enter your string: alpaca\n",
      "\n",
      "your encrypted string\n",
      " 0c0pl0aca\n"
     ]
    }
   ],
   "source": [
    "str1 = input('enter your string: ')\n",
    "print('\\nyour encrypted string\\n',encrypt(str1))"
   ]
  },
  {
   "cell_type": "markdown",
   "id": "1c13ec44",
   "metadata": {},
   "source": [
    "### 3. Given the month and year as numbers, return whether that month contains a Friday 13th.(i.e You can check Python's datetime module)\n",
    "\n",
    "Examples\n",
    "\n",
    "has_friday_13(3, 2020) ➞ True\n",
    "\n",
    "has_friday_13(10, 2017) ➞ True\n",
    "\n",
    "has_friday_13(1, 1985) ➞ False\n"
   ]
  },
  {
   "cell_type": "code",
   "execution_count": 3,
   "id": "292a7645",
   "metadata": {},
   "outputs": [],
   "source": [
    "import datetime\n",
    "    \n",
    "def has_friday_13(year,month):\n",
    "    try:\n",
    "        list1 = []\n",
    "        for i in range(1,32):\n",
    "            x = datetime.datetime(year, month, i)    \n",
    "            #print(x)\n",
    "            if i == 13 and x.strftime(\"%A\") == 'Friday':\n",
    "                return True\n",
    "        return False\n",
    "\n",
    "    except:\n",
    "        return False"
   ]
  },
  {
   "cell_type": "code",
   "execution_count": 5,
   "id": "453843ba",
   "metadata": {},
   "outputs": [
    {
     "name": "stdout",
     "output_type": "stream",
     "text": [
      "enter the year: 1985\n",
      "enter the month: 1\n",
      "False\n"
     ]
    }
   ],
   "source": [
    "year = int(input(\"enter the year: \"))\n",
    "month = int(input(\"enter the month: \"))\n",
    "print(has_friday_13(year,month))"
   ]
  },
  {
   "cell_type": "markdown",
   "id": "bda24a87",
   "metadata": {},
   "source": [
    "### 4. Write a regular expression that will help us count how many bad cookies are produced every day. You must use RegEx negative lookbehind.\n",
    "\n",
    "Example\n",
    "\n",
    "lst = [\"bad cookie\", \"good cookie\", \"bad cookie\", \"good cookie\", \"good cookie\"]\n",
    "\n",
    "pattern = \"yourregularexpressionhere\"\n",
    "\n",
    "len(re.findall(pattern, \", \".join(lst))) ➞ 2\n"
   ]
  },
  {
   "cell_type": "code",
   "execution_count": 6,
   "id": "e57b7114",
   "metadata": {},
   "outputs": [
    {
     "name": "stdout",
     "output_type": "stream",
     "text": [
      "number of bad cookies =  2\n"
     ]
    }
   ],
   "source": [
    "import re\n",
    "lst = [\"bad cookie\", \"good cookie\", \"bad cookie\", \"good cookie\", \"good cookie\"]\n",
    "pattern = '(?<!good) cookie'\n",
    "print('number of bad cookies = ',len(re.findall(pattern, ', '.join(lst))))"
   ]
  },
  {
   "cell_type": "markdown",
   "id": "f130cfa2",
   "metadata": {},
   "source": [
    "### 5. Given a list of words in the singular form, return a set of those words in the plural form if they appear more than once in the list.\n",
    "\n",
    "Examples\n",
    "\n",
    "pluralize([\"cow\", \"pig\", \"cow\", \"cow\"]) ➞ { \"cows\", \"pig\" }\n",
    "\n",
    "pluralize([\"table\", \"table\", \"table\"]) ➞ { \"tables\" }\n",
    "\n",
    "pluralize([\"chair\", \"pencil\", \"arm\"]) ➞ { \"chair\", \"pencil\", \"arm\" }\n"
   ]
  },
  {
   "cell_type": "code",
   "execution_count": 22,
   "id": "b60b6415",
   "metadata": {},
   "outputs": [],
   "source": [
    "def pluralize(list1):\n",
    "    listx = list(set(list1))\n",
    "    listx = [(x+'s') if list1.count(x)>1 else x for x in listx]\n",
    "    return set(listx)"
   ]
  },
  {
   "cell_type": "code",
   "execution_count": 24,
   "id": "7268b680",
   "metadata": {},
   "outputs": [
    {
     "name": "stdout",
     "output_type": "stream",
     "text": [
      "enter your list (comma and space separated): cow, cow, pig\n",
      "\n",
      "after pluralize\n",
      " {'pig', 'cows'}\n"
     ]
    }
   ],
   "source": [
    "list1 = input(\"enter your list (comma and space separated): \").split(', ')\n",
    "print('\\nafter pluralization\\n',pluralize(list1))"
   ]
  }
 ],
 "metadata": {
  "kernelspec": {
   "display_name": "Python 3",
   "language": "python",
   "name": "python3"
  },
  "language_info": {
   "codemirror_mode": {
    "name": "ipython",
    "version": 3
   },
   "file_extension": ".py",
   "mimetype": "text/x-python",
   "name": "python",
   "nbconvert_exporter": "python",
   "pygments_lexer": "ipython3",
   "version": "3.8.8"
  }
 },
 "nbformat": 4,
 "nbformat_minor": 5
}
