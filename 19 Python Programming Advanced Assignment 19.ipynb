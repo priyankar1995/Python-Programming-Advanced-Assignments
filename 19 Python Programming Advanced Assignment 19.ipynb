{
 "cells": [
  {
   "cell_type": "markdown",
   "id": "6de34c94",
   "metadata": {},
   "source": [
    "### 1. Create a checker board generator, which takes as inputs n and 2 elements to generate an n x n checkerboard with those two elements as alternating squares.\n",
    "\n",
    "Examples\n",
    "\n",
    "checker_board(2, 7, 6) ➞ [\n",
    "  [7, 6],\n",
    "  [6, 7]\n",
    "]\n",
    "\n",
    "checker_board(3, \"A\", \"B\") ➞ [\n",
    "  [\"A\", \"B\", \"A\"],\n",
    "  [\"B\", \"A\", \"B\"],\n",
    "  [\"A\", \"B\", \"A\"]\n",
    "]\n",
    "\n",
    "checker_board(4, \"c\", \"d\") ➞ [\n",
    "  [\"c\", \"d\", \"c\", \"d\"],\n",
    "  [\"d\", \"c\", \"d\", \"c\"],\n",
    "  [\"c\", \"d\", \"c\", \"d\"],\n",
    "  [\"d\", \"c\", \"d\", \"c\"]\n",
    "]\n",
    "\n",
    "checker_board(4, \"c\", \"c\") ➞ \"invalid\""
   ]
  },
  {
   "cell_type": "code",
   "execution_count": 4,
   "id": "b410ee44",
   "metadata": {},
   "outputs": [],
   "source": [
    "def checker_board(num,str1,str2):\n",
    "    if str1 != str2:\n",
    "        return [[str1 if x % 2 != 0 else str2 for x in range(1,num+1)] if y % 2 != 0 else [str2 if x % 2 != 0 else str1 for x in range(1,num+1)] for y in range(1,num+1)]\n",
    "    \n",
    "    return 'invalid'"
   ]
  },
  {
   "cell_type": "code",
   "execution_count": 8,
   "id": "858426c4",
   "metadata": {},
   "outputs": [
    {
     "name": "stdout",
     "output_type": "stream",
     "text": [
      "enter length: 7\n",
      "enter first element: 5\n",
      "enter second element: 8\n",
      "\n",
      " your checker board: [['5', '8', '5', '8', '5', '8', '5'], ['8', '5', '8', '5', '8', '5', '8'], ['5', '8', '5', '8', '5', '8', '5'], ['8', '5', '8', '5', '8', '5', '8'], ['5', '8', '5', '8', '5', '8', '5'], ['8', '5', '8', '5', '8', '5', '8'], ['5', '8', '5', '8', '5', '8', '5']]\n"
     ]
    }
   ],
   "source": [
    "length = int(input('enter length: '))\n",
    "str1 = input('enter first element: ')\n",
    "str2 = input('enter second element: ')\n",
    "print('\\n your checker board:',checker_board(length, str1, str2))"
   ]
  },
  {
   "cell_type": "markdown",
   "id": "5b3e191d",
   "metadata": {},
   "source": [
    "### 2. A string is an almost-palindrome if, by changing only one character, you can make it a palindrome. Create a function that returns True if a string is an almost-palindrome and False otherwise.\n",
    "\n",
    "Examples\n",
    "\n",
    "almost_palindrome(\"abcdcbg\") ➞ True\n",
    "# Transformed to \"abcdcba\" by changing \"g\" to \"a\".\n",
    "\n",
    "almost_palindrome(\"abccia\") ➞ True\n",
    "# Transformed to \"abccba\" by changing \"i\" to \"b\".\n",
    "\n",
    "almost_palindrome(\"abcdaaa\") ➞ False\n",
    "# Can't be transformed to a palindrome in exactly 1 turn.\n",
    "\n",
    "almost_palindrome(\"1234312\") ➞ False"
   ]
  },
  {
   "cell_type": "code",
   "execution_count": 25,
   "id": "958b4f7e",
   "metadata": {},
   "outputs": [],
   "source": [
    "def almost_palindrome(str1):\n",
    "    list1 = [str1[x] == str1[-(x)-1] for x in range(len(str1)//2)]\n",
    "    if list1.count(False) == 1:\n",
    "        return True\n",
    "    else:\n",
    "        return False"
   ]
  },
  {
   "cell_type": "code",
   "execution_count": 26,
   "id": "40ce8968",
   "metadata": {
    "scrolled": true
   },
   "outputs": [
    {
     "name": "stdout",
     "output_type": "stream",
     "text": [
      "enter your string: 1234312\n",
      "\n",
      " False\n"
     ]
    }
   ],
   "source": [
    "str1 = input('enter your string: ')\n",
    "print('\\n',almost_palindrome(str1))"
   ]
  },
  {
   "cell_type": "markdown",
   "id": "c21ee067",
   "metadata": {},
   "source": [
    "### 3. Create a function that finds how many prime numbers there are, up to the given integer.\n",
    "\n",
    "Examples\n",
    "\n",
    "prime_numbers(10) ➞ 4\n",
    "# 2, 3, 5 and 7\n",
    "\n",
    "prime_numbers(20) ➞ 8\n",
    "# 2, 3, 5, 7, 11, 13, 17 and 19\n",
    "\n",
    "prime_numbers(30) ➞ 10\n",
    "# 2, 3, 5, 7, 11, 13, 17, 19, 23 and 29"
   ]
  },
  {
   "cell_type": "code",
   "execution_count": 32,
   "id": "67883911",
   "metadata": {},
   "outputs": [],
   "source": [
    "#Require Module Import\n",
    "from math import sqrt,floor\n",
    "def prime(num):\n",
    "    if num % 2 == 0 and num != 2:\n",
    "        return False\n",
    "    elif num == 2:\n",
    "        return True\n",
    "    elif num == 1:\n",
    "        return False\n",
    "    else:    \n",
    "        for i in range(3, 1 + floor(sqrt(num)),2):\n",
    "            if num % i == 0:\n",
    "                return False\n",
    "        return True   "
   ]
  },
  {
   "cell_type": "code",
   "execution_count": 37,
   "id": "b52e7852",
   "metadata": {},
   "outputs": [],
   "source": [
    "def prime_numbers(num):\n",
    "    list1 = [x for x in range(2,(num+1)) if prime(x) == True]\n",
    "    return len(list1)"
   ]
  },
  {
   "cell_type": "code",
   "execution_count": 42,
   "id": "f2aef0f4",
   "metadata": {},
   "outputs": [
    {
     "name": "stdout",
     "output_type": "stream",
     "text": [
      "enter number: 100\n",
      "[2, 3, 5, 7, 11, 13, 17, 19, 23, 29, 31, 37, 41, 43, 47, 53, 59, 61, 67, 71, 73, 79, 83, 89, 97]\n",
      "\n",
      "there are 25 prime numbers upto 100\n"
     ]
    }
   ],
   "source": [
    "num = int(input('enter number: '))\n",
    "print('\\nthere are {} prime numbers upto {}'.format(prime_numbers(num),num))"
   ]
  },
  {
   "cell_type": "markdown",
   "id": "dbfcd372",
   "metadata": {},
   "source": [
    "### 4. If today was Monday, in two days, it would be Wednesday.\n",
    "\n",
    "Create a function that takes in a list of days as input and the number of days to increment by. Return a list of days after n number of days has passed.\n",
    "\n",
    "Examples\n",
    "\n",
    "after_n_days([\"Thursday\", \"Monday\"], 4) ➞ [\"Monday\", \"Friday\"]\n",
    "\n",
    "after_n_days([\"Sunday\", \"Sunday\", \"Sunday\"], 1) ➞ [\"Monday\", \"Monday\", \"Monday\"]\n",
    "\n",
    "after_n_days([\"Monday\", \"Tuesday\", \"Friday\"], 1) ➞ [\"Tuesday\", \"Wednesday\", \"Saturday\"]"
   ]
  },
  {
   "cell_type": "code",
   "execution_count": 56,
   "id": "b87a948b",
   "metadata": {},
   "outputs": [],
   "source": [
    "def after_n_days(list1,num):\n",
    "    dict1 ={1:'Monday',2:'Tuesday',3:'Wednesday',4:'Thursday',5:'Friday',6:'Saturday',7:'Sunday'}\n",
    "    dict2 ={'Monday':1,'Tuesday':2,'Wednesday':3,'Thursday':4,'Friday':5,'Saturday':6,'Sunday':7}\n",
    "    list2 = [dict1[dict2[x]+num] if dict2[x]+num <= 7 else dict1[((dict2[x]+num)-7)%7] for x in list1]\n",
    "    return list2\n",
    "    "
   ]
  },
  {
   "cell_type": "code",
   "execution_count": 66,
   "id": "b9760152",
   "metadata": {},
   "outputs": [
    {
     "name": "stdout",
     "output_type": "stream",
     "text": [
      "enter your days list(comma and space separated): Monday, Tuesday, Friday\n",
      "number of days to forward: 4\n",
      "\n",
      " ['Friday', 'Saturday', 'Tuesday']\n"
     ]
    }
   ],
   "source": [
    "list1 =  input('enter your days list(comma and space separated): ').split(', ')\n",
    "num = int(input('number of days to forward: '))\n",
    "print('\\n', after_n_days(list1,num))"
   ]
  },
  {
   "cell_type": "markdown",
   "id": "1571d323",
   "metadata": {},
   "source": [
    "### 5. You are in the process of creating a chat application and want to add an anonymous name feature. This anonymous name feature will create an alias that consists of two capitalized words beginning with the same letter as the users first name.\n",
    "\n",
    "Create a function that determines if the list of users is mapped to a list of anonymous names correctly.\n",
    "\n",
    "Examples\n",
    "\n",
    "is_correct_aliases([\"Adrian M.\", \"Harriet S.\", \"Mandy T.\"], [\"Amazing Artichoke\", \"Hopeful Hedgehog\", \"Marvelous Mouse\"]) ➞ True\n",
    "\n",
    "is_correct_aliases([\"Rachel F.\", \"Pam G.\", \"Fred Z.\", \"Nancy K.\"], [\"Reassuring Rat\", \"Peaceful Panda\", \"Fantastic Frog\", \"Notable Nickel\"]) ➞ True\n",
    "\n",
    "is_correct_aliases([\"Beth T.\"], [\"Brandishing Mimosa\"]) ➞ False\n",
    "# Both words in \"Brandishing Mimosa\" should begin with a \"B\" - \"Brandishing Beaver\" would do the trick."
   ]
  },
  {
   "cell_type": "code",
   "execution_count": 80,
   "id": "05ecbc53",
   "metadata": {},
   "outputs": [],
   "source": [
    "def is_correct_aliases(list1,list2):\n",
    "    list3 = [((list1[x].split())[0][0]).upper() == ((list2[x].split())[0][0]).upper() and ((list1[x].split())[0][0]).upper() == ((list2[x].split())[1][0]).upper() for x in range(len(list1))]\n",
    "    #list2's length could also be taken\n",
    "    if False in list3:\n",
    "        return False\n",
    "    return True"
   ]
  },
  {
   "cell_type": "code",
   "execution_count": 81,
   "id": "e4743ce8",
   "metadata": {},
   "outputs": [
    {
     "name": "stdout",
     "output_type": "stream",
     "text": [
      "enter user name list(comma and space seprated): adss msd, hsdf sdg, mghf tgh\n",
      "enter alias name list(comma and space seprated): ajh ajh, hjhg hhgfh, mdgf mfh\n",
      "\n",
      " True\n"
     ]
    }
   ],
   "source": [
    "list1 = input('enter user name list(comma and space seprated): ').split(', ')\n",
    "list2 = input('enter alias name list(comma and space seprated): ').split(', ')\n",
    "print('\\n',is_correct_aliases(list1,list2))"
   ]
  }
 ],
 "metadata": {
  "kernelspec": {
   "display_name": "Python 3",
   "language": "python",
   "name": "python3"
  },
  "language_info": {
   "codemirror_mode": {
    "name": "ipython",
    "version": 3
   },
   "file_extension": ".py",
   "mimetype": "text/x-python",
   "name": "python",
   "nbconvert_exporter": "python",
   "pygments_lexer": "ipython3",
   "version": "3.8.8"
  }
 },
 "nbformat": 4,
 "nbformat_minor": 5
}
