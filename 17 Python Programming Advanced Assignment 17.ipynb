{
 "cells": [
  {
   "cell_type": "markdown",
   "id": "ab68c456",
   "metadata": {},
   "source": [
    "### 1. Create a function that transposes a 2D matrix.\n",
    "\n",
    "Examples\n",
    "\n",
    "transpose_matrix([\n",
    "  [1, 1, 1],\n",
    "  [2, 2, 2],\n",
    "  [3, 3, 3]\n",
    "]) ➞ [\n",
    "  [1, 2, 3],\n",
    "  [1, 2, 3],\n",
    "  [1, 2, 3]\n",
    "]\n",
    "\n",
    "transpose_matrix([\n",
    "  [5, 5],\n",
    "  [6, 7],\n",
    "  [9, 1]\n",
    "]) ➞ [\n",
    "  [5, 6, 9],\n",
    "  [5, 7, 1]\n",
    "]"
   ]
  },
  {
   "cell_type": "code",
   "execution_count": 6,
   "id": "d332b7c3",
   "metadata": {},
   "outputs": [],
   "source": [
    "def transpose_matrix(td_mat):\n",
    "    return [list(x) for x in zip(*td_mat)]"
   ]
  },
  {
   "cell_type": "code",
   "execution_count": 11,
   "id": "534b1129",
   "metadata": {},
   "outputs": [
    {
     "name": "stdout",
     "output_type": "stream",
     "text": [
      "enter row length of your matrix: 2\n",
      "enter row 1 (space splitted): 1 2 3 4 5 4 3 2 1\n",
      "enter row 2 (space splitted): 2 3 4 2 2 1 2 3 4\n",
      "\n",
      "transposed matrix\n",
      " [[1, 2], [2, 3], [3, 4], [4, 2], [5, 2], [4, 1], [3, 2], [2, 3], [1, 4]]\n"
     ]
    }
   ],
   "source": [
    "n = int(input('enter row length of your matrix: '))\n",
    "td_mat = [list(map(int,input('enter row {} (space splitted): '.format(x)).split())) for x in range(1,n+1)]\n",
    "print('\\ntransposed matrix\\n',transpose_matrix(td_mat))"
   ]
  },
  {
   "cell_type": "markdown",
   "id": "7011296b",
   "metadata": {},
   "source": [
    "### 2. Create a function that determines whether a string is a valid hex code.\n",
    "\n",
    "A hex code must begin with a pound key # and is exactly 6 characters in length. Each character must be a digit from 0-9 or an alphabetic character from A-F. All alphabetic characters may be uppercase or lowercase.\n",
    "\n",
    "Examples\n",
    "\n",
    "is_valid_hex_code(\"#CD5C5C\") ➞ True\n",
    "\n",
    "is_valid_hex_code(\"#EAECEE\") ➞ True\n",
    "\n",
    "is_valid_hex_code(\"#eaecee\") ➞ True\n",
    "\n",
    "is_valid_hex_code(\"#CD5C58C\") ➞ False\n",
    "# Length exceeds 6\n",
    "\n",
    "is_valid_hex_code(\"#CD5C5Z\") ➞ False\n",
    "# Not all alphabetic characters in A-F\n",
    "\n",
    "is_valid_hex_code(\"#CD5C&C\") ➞ False\n",
    "# Contains unacceptable character\n",
    "\n",
    "is_valid_hex_code(\"CD5C5C\") ➞ False\n",
    "# Missing #"
   ]
  },
  {
   "cell_type": "code",
   "execution_count": 30,
   "id": "e7d4be8d",
   "metadata": {},
   "outputs": [],
   "source": [
    "def is_valid_hex_code(str1):\n",
    "    if str1[0] == '#' and len(str1[1:]) == 6:\n",
    "        list1 = [True if x.isdigit() == True or x in 'abcdefABCDEF' else False for x in list(str1[1:])]\n",
    "        if False not in list1:\n",
    "            return True\n",
    "    return False   "
   ]
  },
  {
   "cell_type": "code",
   "execution_count": 31,
   "id": "158466b0",
   "metadata": {},
   "outputs": [
    {
     "name": "stdout",
     "output_type": "stream",
     "text": [
      "enter hex code: #CD5C5C\n",
      "\n",
      " True\n"
     ]
    }
   ],
   "source": [
    "str1 = input('enter hex code: ')\n",
    "print('\\n',is_valid_hex_code(str1))"
   ]
  },
  {
   "cell_type": "markdown",
   "id": "445ea07f",
   "metadata": {},
   "source": [
    "### 3. Given a list of math equations (given as strings), return the percentage of correct answers as a string. Round to the nearest whole number.\n",
    "\n",
    "Examples\n",
    "\n",
    "mark_maths([\"2+2=4\", \"3+2=5\", \"10-3=3\", \"5+5=10\"]) ➞ \"75%\"\n",
    "\n",
    "mark_maths([\"1-2=-2\"]), \"0%\"\n",
    "\n",
    "mark_maths([\"2+3=5\", \"4+4=9\", \"3-1=2\"]) ➞ \"67%\"\n",
    "\n",
    "\n",
    "2+2=4, 3+2=5, 10-3=3, 5+5=10"
   ]
  },
  {
   "cell_type": "code",
   "execution_count": 1,
   "id": "301bd326",
   "metadata": {},
   "outputs": [],
   "source": [
    "from re import split\n",
    "def mark_maths(list1):\n",
    "    count = 0\n",
    "    for i in list1:\n",
    "        temp = 0\n",
    "        exp = i.split(\"=\")\n",
    "        inp = split('[+-]',exp[0])\n",
    "        op = int(exp[1])\n",
    "        if '+' in exp[0]:\n",
    "            temp = int(inp[0]) + int(inp[1])\n",
    "        elif '-' in exp[0]:\n",
    "            temp = int(inp[0]) - int(inp[1])\n",
    "        if temp == op:\n",
    "            count = count + 1\n",
    "    return str(round(count/len(list1) * 100)) + \"%\""
   ]
  },
  {
   "cell_type": "code",
   "execution_count": 2,
   "id": "10a1d67b",
   "metadata": {},
   "outputs": [
    {
     "name": "stdout",
     "output_type": "stream",
     "text": [
      "Enter Expression Separeted by comma and Space: 2+2=4, 3+2=5, 10-3=3, 5+5=10\n",
      "Accuracy: 75%\n"
     ]
    }
   ],
   "source": [
    "exp_list = input(\"Enter Expression Separeted by comma and Space: \").split(', ')\n",
    "print(\"Accuracy:\",mark_maths(exp_list))"
   ]
  },
  {
   "cell_type": "markdown",
   "id": "3ae0b889",
   "metadata": {},
   "source": [
    "### 4. There are two players, Alice and Bob, each with a 3-by-3 grid. A referee tells Alice to fill out one particular row in the grid (say the second row) by putting either a 1 or a 0 in each box, such that the sum of the numbers in that row is odd. The referee tells Bob to fill out one column in the grid (say the first column) by putting either a 1 or a 0 in each box, such that the sum of the numbers in that column is even.\n",
    "\n",
    "Alice and Bob win the game if Alice’s numbers give an odd sum, Bob’s give an even sum, and (most important) they’ve each written down the same number in the one square where their row and column intersect.\n",
    "\n",
    "Examples\n",
    "\n",
    "magic_square_game([2, \"100\"], [1, \"101\"]) ➞ False\n",
    "\n",
    "magic_square_game([2, \"001\"], [1, \"101\"]) ➞ True\n",
    "\n",
    "magic_square_game([3, \"111\"], [2, \"011\"]) ➞ True\n",
    "\n",
    "magic_square_game([1, \"010\"], [3, \"101\"]) ➞ False\n",
    "\n",
    "Two lists, Alice [row, \"her choice\"], Bob [column, \"his choice\"]\n"
   ]
  },
  {
   "cell_type": "code",
   "execution_count": 1,
   "id": "97cf25b4",
   "metadata": {},
   "outputs": [],
   "source": [
    "def magic_square_game(list1,list2):\n",
    "    A,listA,B,listB =int(list1[0]),list(list1[1]),int(list2[0]),list(list2[1])\n",
    "    if sum(list(map(int,listA)))%2 != 0 and sum(list(map(int,listB)))%2 == 0:\n",
    "        if listA[B-1] == listB[A-1]:\n",
    "            return True\n",
    "    return False\n",
    "    "
   ]
  },
  {
   "cell_type": "code",
   "execution_count": 2,
   "id": "03be5016",
   "metadata": {},
   "outputs": [
    {
     "name": "stdout",
     "output_type": "stream",
     "text": [
      "enter row for Alice: 3\n",
      "enter Alice's choice: 111\n",
      "enter colum for Bob: 2\n",
      "enter Bob's choice: 011\n",
      "\n",
      " True\n"
     ]
    }
   ],
   "source": [
    "list1 = [int(input('enter row for Alice: ')),input(\"enter Alice's choice: \")]\n",
    "list2 = [int(input('enter colum for Bob: ')),input(\"enter Bob's choice: \")]\n",
    "print('\\n',magic_square_game(list1,list2))                                                   "
   ]
  },
  {
   "cell_type": "markdown",
   "id": "7520d6ee",
   "metadata": {},
   "source": [
    "###  5. From point A, an object is moving towards point B at constant velocity va (in km/hr). From point B, another object is moving towards point A at constant velocity vb (in km/hr). Knowing this and the distance between point A and B (in km), write a function that returns how much time passes until both objects meet.\n",
    "\n",
    "Format the output like this:\n",
    "\n",
    "\"2h 23min 34s\"\n",
    "\n",
    "Examples\n",
    "\n",
    "lets_meet(100, 10, 30) ➞ \"2h 30min 0s\"\n",
    "\n",
    "lets_meet(280, 70, 80) ➞ \"1h 52min 0s\"\n",
    "\n",
    "lets_meet(90, 75, 65) ➞ \"0h 38min 34s\"\n"
   ]
  },
  {
   "cell_type": "code",
   "execution_count": 39,
   "id": "8c45bbd4",
   "metadata": {},
   "outputs": [],
   "source": [
    "def lets_meet(dist,spd1,spd2):\n",
    "    rel_spd = spd1 + spd2\n",
    "    time = dist/rel_spd\n",
    "    s = int(time *3600)\n",
    "    h = s // 3600\n",
    "    m = (s %3600 )//60\n",
    "    s = (s %3600) % 60\n",
    "    return '{}h {}min {}s'.format(h,m,s)"
   ]
  },
  {
   "cell_type": "code",
   "execution_count": 44,
   "id": "ff8447c6",
   "metadata": {},
   "outputs": [
    {
     "name": "stdout",
     "output_type": "stream",
     "text": [
      "enter distance: 90\n",
      "enter speed of first object: 75\n",
      "enter speed of second object: 65\n",
      "\n",
      " 0h 38min 34s\n"
     ]
    }
   ],
   "source": [
    "dist= int(input('enter distance: '))\n",
    "spd1 = int(input('enter speed of first object: '))\n",
    "spd2 = int(input('enter speed of second object: '))\n",
    "print('\\n',lets_meet(dist,spd1,spd2))"
   ]
  }
 ],
 "metadata": {
  "kernelspec": {
   "display_name": "Python 3",
   "language": "python",
   "name": "python3"
  },
  "language_info": {
   "codemirror_mode": {
    "name": "ipython",
    "version": 3
   },
   "file_extension": ".py",
   "mimetype": "text/x-python",
   "name": "python",
   "nbconvert_exporter": "python",
   "pygments_lexer": "ipython3",
   "version": "3.8.8"
  }
 },
 "nbformat": 4,
 "nbformat_minor": 5
}
