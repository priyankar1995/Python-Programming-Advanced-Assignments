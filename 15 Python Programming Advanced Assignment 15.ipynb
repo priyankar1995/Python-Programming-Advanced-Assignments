{
 "cells": [
  {
   "cell_type": "markdown",
   "id": "d5e1aaec",
   "metadata": {},
   "source": [
    "### 1. Write a function that returns True if a given name can generate an array of words.\n",
    "\n",
    "Examples\n",
    "\n",
    "anagram(\"Justin Bieber\", [\"injures\", \"ebb\", \"it\"]) ➞ True\n",
    "\n",
    "anagram(\"Natalie Portman\", [\"ornamental\", \"pita\"]) ➞ True\n",
    "\n",
    "anagram(\"Chris Pratt\", [\"chirps\", \"rat\"]) ➞ False\n",
    "# Not all letters are used\n",
    "\n",
    "anagram(\"Jeff Goldblum\", [\"jog\", \"meld\", \"bluffs\"]) ➞ False\n",
    "# \"s\" does not exist in the original name"
   ]
  },
  {
   "cell_type": "code",
   "execution_count": 1,
   "id": "88a17422",
   "metadata": {},
   "outputs": [],
   "source": [
    "def anagram(str1,list1):\n",
    "    if len(''.join(str1.split(' '))) == len(''.join(list1)):\n",
    "        list2 = [True if x.lower() in str1.lower() else False for y in list1 for x in y ]\n",
    "        if False not in list2:\n",
    "            return True\n",
    "    return False"
   ]
  },
  {
   "cell_type": "code",
   "execution_count": 6,
   "id": "b2a199dd",
   "metadata": {},
   "outputs": [
    {
     "name": "stdout",
     "output_type": "stream",
     "text": [
      "enter name: Chris Pratt\n",
      "enter list of words(space and comma separated): chirps, rat\n",
      "\n",
      " False\n"
     ]
    }
   ],
   "source": [
    "str1 = input('enter name: ')\n",
    "list1 = input('enter list of words(space and comma separated): ').split(', ')\n",
    "print('\\n',anagram(str1,list1))"
   ]
  },
  {
   "cell_type": "markdown",
   "id": "0274b214",
   "metadata": {},
   "source": [
    "### 2. Given an array of users, each defined by an object with the following properties: name, score, reputation create a function that sorts the array to form the correct leaderboard.\n",
    "\n",
    "The leaderboard takes into consideration the score of each user of course, but an emphasis is put on their reputation in the community, so to get the trueScore, you should add the reputation multiplied by 2 to the score.\n",
    "\n",
    "Once you know the trueScore of each user, sort the array according to it in descending order.\n",
    "\n",
    "Examples\n",
    "\n",
    "leaderboards([\n",
    "  { \"name\": \"a\", \"score\": 100, \"reputation\": 20 },\n",
    "  { \"name\": \"b\", \"score\": 90, \"reputation\": 40 },\n",
    "  { \"name\": \"c\", \"score\": 115, \"reputation\": 30 }\n",
    "]) \n",
    "\n",
    "➞ \n",
    "\n",
    "[\n",
    "  { \"name\": \"c\", \"score\": 115, \"reputation\": 30 },  # trueScore = 175\n",
    "  { \"name\": \"b\", \"score\": 90, \"reputation\": 40 },   # trueScore = 170\n",
    "  { \"name\": \"a\", \"score\": 100, \"reputation\": 20 }   # trueScore = 140\n",
    "]\n"
   ]
  },
  {
   "cell_type": "code",
   "execution_count": 3,
   "id": "a8a0512e",
   "metadata": {},
   "outputs": [],
   "source": [
    "def leaderboards(list_dict):\n",
    "    return sorted(list_dict,key= lambda x: x['score'] + 2 * x['reputation'])[::-1]"
   ]
  },
  {
   "cell_type": "code",
   "execution_count": 5,
   "id": "2c7634ec",
   "metadata": {},
   "outputs": [
    {
     "name": "stdout",
     "output_type": "stream",
     "text": [
      "enter number of users: 3\n",
      "enter name 1: a\n",
      "enter score 1:100\n",
      "enter reputation 1:20\n",
      "enter name 2: b\n",
      "enter score 2:90\n",
      "enter reputation 2:40\n",
      "enter name 3: c\n",
      "enter score 3:115\n",
      "enter reputation 3:30\n",
      "\n",
      "leaderboards\n",
      " [{'name': 'c', 'score': 115, 'reputation': 30}, {'name': 'b', 'score': 90, 'reputation': 40}, {'name': 'a', 'score': 100, 'reputation': 20}]\n"
     ]
    }
   ],
   "source": [
    "import pprint\n",
    "n = int(input('enter number of users: '))\n",
    "list1 = []\n",
    "for i in range(1,n+1):\n",
    "    list1.append({'name':input('enter name {}: '.format(i)), \"score\": int(input('enter score {}:'.format(i))), \"reputation\": int(input('enter reputation {}:'.format(i)))})\n",
    "print('\\nleaderboards\\n',leaderboards(list1))"
   ]
  },
  {
   "cell_type": "markdown",
   "id": "29c3a262",
   "metadata": {},
   "source": [
    "### 3. Create a function that, given a phrase and a number of letters guessed, returns a string with hyphens - for every letter of the phrase not guessed, and each letter guessed in place.\n",
    "\n",
    "Examples\n",
    "\n",
    "hangman(\"helicopter\", [\"o\", \"e\", \"s\"]) ➞ \"-e---o--e-\"\n",
    "\n",
    "hangman(\"tree\", [\"r\", \"t\", \"e\"]) ➞ \"tree\"\n",
    "\n",
    "hangman(\"Python rules\", [\"a\", \"n\", \"p\", \"r\", \"z\"]) ➞ \"P----n r----\"\n",
    "\n",
    "hangman(\"He\"s a very naughty boy!\", [\"e\", \"a\", \"y\"]) ➞ \"-e\"- a -e-y -a----y –y!\""
   ]
  },
  {
   "cell_type": "code",
   "execution_count": 42,
   "id": "81a677b8",
   "metadata": {},
   "outputs": [],
   "source": [
    "def hangman(str1,list1):\n",
    "    list2 = [x if x.lower() in [y.lower() for y in list1] or (x.lower() not in [y.lower() for y in list1] and x.isalpha() == False) else '-' for x in list(str1)] \n",
    "    return ''.join(list2)\n"
   ]
  },
  {
   "cell_type": "code",
   "execution_count": 45,
   "id": "1bcbf1e7",
   "metadata": {},
   "outputs": [
    {
     "name": "stdout",
     "output_type": "stream",
     "text": [
      "enter the word: He\"s a very naughty boy!\n",
      "enter the list(comma and space separated): h, e, a\n",
      "\n",
      "hangman\n",
      " He\"- a -e-- -a--h-- ---!\n"
     ]
    }
   ],
   "source": [
    "str1 = input('enter the word: ')\n",
    "list1 = input('enter the list(comma and space separated): ').split(', ')\n",
    "print('\\nhangman\\n',hangman(str1,list1))"
   ]
  },
  {
   "cell_type": "markdown",
   "id": "9c6165ea",
   "metadata": {},
   "source": [
    "### 4. The Collatz sequence is as follows:\n",
    "\n",
    "  - Start with some given integer n.\n",
    "  - If it is even, the next number will be n divided by 2.\n",
    "  - If it is odd, multiply it by 3 and add 1 to make the next number.\n",
    "  - The sequence stops when it reaches 1.\n",
    "\n",
    "According to the Collatz conjecture, it will always reach 1. If that's true, you can construct a finite sequence following the aforementioned method for any given integer.\n",
    "\n",
    "Write a function that takes in an integer n and returns the highest integer in the corresponding Collatz sequence.\n",
    "\n",
    "Examples\n",
    "\n",
    "max_collatz(10) ➞ 16\n",
    "# Collatz sequence: 10, 5, 16, 8, 4, 2, 1\n",
    "\n",
    "max_collatz(32) ➞ 32\n",
    "# Collatz sequence: 32, 16, 8, 4, 2, 1\n",
    "\n",
    "max_collatz(85) ➞ 256\n",
    "# Collatz sequence: 85, 256, 128, 64, 32, 16, 8, 4, 2, 1"
   ]
  },
  {
   "cell_type": "code",
   "execution_count": 58,
   "id": "25cecee3",
   "metadata": {},
   "outputs": [],
   "source": [
    "def max_collatz(num):\n",
    "    list1 = [num]\n",
    "    while num != 1:\n",
    "        if num % 2 != 0:\n",
    "            num = (num *3)+1\n",
    "            list1.append(num)\n",
    "        else:\n",
    "            num = num//2\n",
    "            list1.append(num)\n",
    "            \n",
    "    return max(list1)"
   ]
  },
  {
   "cell_type": "code",
   "execution_count": 59,
   "id": "d6bbc9f2",
   "metadata": {},
   "outputs": [
    {
     "name": "stdout",
     "output_type": "stream",
     "text": [
      "enter your number: 85\n",
      "\n",
      " maximum number in collatz list:  256\n"
     ]
    }
   ],
   "source": [
    "num = int(input('enter your number: '))\n",
    "print('\\n maximum number in collatz list: ',max_collatz(num))"
   ]
  },
  {
   "cell_type": "markdown",
   "id": "57742016",
   "metadata": {},
   "source": [
    "### 5. Write a function that sorts a list of integers by their digit length in descending order, then settles ties by sorting numbers with the same digit length in ascending order.\n",
    "\n",
    "Examples\n",
    "\n",
    "digit_sort([77, 23, 5, 7, 101])\n",
    "➞ [101, 23, 77, 5, 7]\n",
    "\n",
    "digit_sort([1, 5, 9, 2, 789, 563, 444])\n",
    "➞ [444, 563, 789, 1, 2, 5, 9]\n",
    "\n",
    "digit_sort([53219, 3772, 564, 32, 1])\n",
    "➞ [53219, 3772, 564, 32, 1]\n"
   ]
  },
  {
   "cell_type": "code",
   "execution_count": 86,
   "id": "2072283d",
   "metadata": {},
   "outputs": [],
   "source": [
    "def digit_sort(listx):\n",
    "    list2 = list(zip(listx,[len(str(x)) for x in listx]))\n",
    "    list3 = [sorted([x for x,y in list2 if y == i]) for i in range(1,len(str(max(listx)))+1)][::-1]\n",
    "    list4 = [x for y in list3 for x in y]\n",
    "    return list4"
   ]
  },
  {
   "cell_type": "code",
   "execution_count": 90,
   "id": "77a9f318",
   "metadata": {},
   "outputs": [
    {
     "name": "stdout",
     "output_type": "stream",
     "text": [
      "enter list (comma and space separated): 53219, 3772, 564, 32, 1\n",
      "\n",
      " [53219, 3772, 564, 32, 1]\n"
     ]
    }
   ],
   "source": [
    "listx = list(map(int,input(\"enter list (comma and space separated): \").split(', ')))\n",
    "print('\\n',digit_sort(listx))"
   ]
  }
 ],
 "metadata": {
  "kernelspec": {
   "display_name": "Python 3",
   "language": "python",
   "name": "python3"
  },
  "language_info": {
   "codemirror_mode": {
    "name": "ipython",
    "version": 3
   },
   "file_extension": ".py",
   "mimetype": "text/x-python",
   "name": "python",
   "nbconvert_exporter": "python",
   "pygments_lexer": "ipython3",
   "version": "3.8.8"
  }
 },
 "nbformat": 4,
 "nbformat_minor": 5
}
