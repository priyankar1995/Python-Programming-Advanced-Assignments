{
 "cells": [
  {
   "cell_type": "markdown",
   "id": "613acd65",
   "metadata": {},
   "source": [
    "### 1. Create a function that takes a number n (integer greater than zero) as an argument, and returns 2 if n is odd and 8 if n is even.\n",
    "\n",
    "You can only use the following arithmetic operators: addition of numbers +, subtraction of numbers -, multiplication of number *, division of number /, and exponentiation **.\n",
    "\n",
    "You are not allowed to use any other methods in this challenge (i.e. no if statements, comparison operators, etc).\n",
    "\n",
    "Examples\n",
    "\n",
    "f(1) ➞ 2\n",
    "\n",
    "f(2) ➞ 8\n",
    "\n",
    "f(3) ➞ 2"
   ]
  },
  {
   "cell_type": "code",
   "execution_count": 5,
   "id": "f7634684",
   "metadata": {},
   "outputs": [],
   "source": [
    "def f(num):\n",
    "    list1 = [8,2]\n",
    "    return list1[1 & num]"
   ]
  },
  {
   "cell_type": "code",
   "execution_count": 9,
   "id": "c370a0ee",
   "metadata": {},
   "outputs": [
    {
     "name": "stdout",
     "output_type": "stream",
     "text": [
      "enter the number: 10\n",
      "\n",
      " 8\n"
     ]
    }
   ],
   "source": [
    "num = int(input(\"enter the number: \"))\n",
    "print('\\n',f(num))"
   ]
  },
  {
   "cell_type": "markdown",
   "id": "9a2dfbe9",
   "metadata": {},
   "source": [
    "### 2. Create a function that returns the majority vote in a list. A majority vote is an element that occurs > N/2 times in a list (where N is the length of the list).\n",
    "\n",
    "Examples\n",
    "\n",
    "majority_vote([\"A\", \"A\", \"B\"]) ➞ \"A\"\n",
    "\n",
    "majority_vote([\"A\", \"A\", \"A\", \"B\", \"C\", \"A\"]) ➞ \"A\"\n",
    "\n",
    "majority_vote([\"A\", \"B\", \"B\", \"A\", \"C\", \"C\"]) ➞ None"
   ]
  },
  {
   "cell_type": "code",
   "execution_count": 1,
   "id": "0668ef13",
   "metadata": {},
   "outputs": [],
   "source": [
    "def majority_Vote(list1):\n",
    "    list2 = list(set(list1))\n",
    "    list2 = [[list1.count(x),x] for x in list2]\n",
    "    for i,j in list2:\n",
    "        if i > len(list1)//2:\n",
    "            return j\n",
    "    return None"
   ]
  },
  {
   "cell_type": "code",
   "execution_count": 2,
   "id": "221f6b85",
   "metadata": {},
   "outputs": [
    {
     "name": "stdout",
     "output_type": "stream",
     "text": [
      "enter your string (comma and space separated):a, a, a, a, a, a, a, b, b, b, b, b, b, c, c\n",
      "\n",
      " None  is voted by majoriy\n"
     ]
    }
   ],
   "source": [
    "str1 = input('enter your string (comma and space separated):').split(', ')\n",
    "print('\\n',majority_Vote(str1),' is voted by majoriy')"
   ]
  },
  {
   "cell_type": "markdown",
   "id": "ac791f10",
   "metadata": {},
   "source": [
    "### 3. Create a function that takes a string txt and censors any word from a given list lst. The text removed must be replaced by the given character char.\n",
    "\n",
    "Examples\n",
    "\n",
    "censor_string(\"Today is a Wednesday!\", [\"Today\", \"a\"], \"-\") ➞ \"----- is - Wednesday!\"\n",
    "\n",
    "censor_string(\"The cow jumped over the moon.\", [\"cow\", \"over\"], \"*\"), \"The *** jumped **** the moon.\")\n",
    "\n",
    "censor_string(\"Why did the chicken cross the road?\", [\"Did\", \"chicken\", \"road\"], \"*\") ➞ \"Why *** the ******* cross the ****?\""
   ]
  },
  {
   "cell_type": "code",
   "execution_count": 29,
   "id": "c5dd43eb",
   "metadata": {},
   "outputs": [],
   "source": [
    "def censor_string(str1,list1,char):\n",
    "    list2 = str1.split()\n",
    "    list3 = []\n",
    "    list1 = [''.join([x.lower() for x in list(y)]) for y in list1]\n",
    "    \n",
    "    for i in list2:\n",
    "        if i.isalpha() == False:\n",
    "            str_al = ''\n",
    "            str_sp = ''\n",
    "            for j in i:\n",
    "                if j.isalpha() == True:\n",
    "                    str_al += j\n",
    "                else:\n",
    "                    str_sp += j\n",
    "            list3.append(str_al)\n",
    "            list3.append(str_sp)\n",
    "\n",
    "        else: \n",
    "            list3.append(i)\n",
    "    \n",
    "    list2 = [char*len(x) if x in list1 else char*len(x) if x.upper() in list1 or x.lower() in list1 else x for x in list3]\n",
    "    \n",
    "    return ' '.join(list2)"
   ]
  },
  {
   "cell_type": "code",
   "execution_count": 31,
   "id": "87a258af",
   "metadata": {
    "scrolled": true
   },
   "outputs": [
    {
     "name": "stdout",
     "output_type": "stream",
     "text": [
      "enter the string: The cow jumped over the moon.\n",
      "enter the list of words you want to censor,\n",
      " (comma and space separated) : MOON\n",
      "enter the character you want to censom with: ^\n",
      "\n",
      " your censored string:\n",
      " The cow jumped over the ^^^^ .\n"
     ]
    }
   ],
   "source": [
    "str1 = input('enter the string: ')\n",
    "list1= input('enter the list of words you want to censor,\\n (comma and space separated) : ').split(', ')\n",
    "char = input('enter the character you want to censom with: ')\n",
    "print('\\n your censored string:\\n',censor_string(str1,list1,char))\n"
   ]
  },
  {
   "cell_type": "code",
   "execution_count": 26,
   "id": "7b0210bd",
   "metadata": {},
   "outputs": [
    {
     "name": "stdout",
     "output_type": "stream",
     "text": [
      "['did', 'chicken', 'road']\n",
      "['Why', '***', 'the', '*******', 'cross', 'the', '****', '?']\n",
      "Why *** the ******* cross the **** ?\n"
     ]
    }
   ],
   "source": [
    "str1 = 'Why did the chicken cross the road?'\n",
    "list1= [\"Did\", \"chicken\", \"road\"]\n",
    "char = '*'\n",
    "print(censor_string(str1,list1,char))"
   ]
  },
  {
   "cell_type": "markdown",
   "id": "685c38d7",
   "metadata": {},
   "source": [
    "### 4. In mathematics a Polydivisible Number (or magic number) is a number in a given number base with digits abcde... that has the following properties:\n",
    "\n",
    "-  Its first digit a is not 0.\n",
    "- The number formed by its first two digits ab is a multiple of 2.\n",
    "- The number formed by its first three digits abc is a multiple of 3.\n",
    "- The number formed by its first four digits abcd is a multiple of 4.\n",
    "\n",
    "Create a function which takes an integer n and returns True if the given number is a Polydivisible Number and False otherwise.\n",
    "\n",
    "Examples\n",
    "\n",
    "is_polydivisible(1232) ➞ True\n",
    "# 1     / 1 = 1\n",
    "# 12    / 2 = 6\n",
    "# 123   / 3 = 41\n",
    "# 1232  / 4 = 308\n",
    "\n",
    "is_polydivisible(123220 ) ➞ False\n",
    "# 1   / 1 = 1\n",
    "# 12   / 2 = 6\n",
    "# 123   / 3 = 41\n",
    "# 1232   / 4 = 308\n",
    "# 12322   / 5 = 2464.4         # Not a Whole Number\n",
    "# 123220   /6 = 20536.333...  # Not a Whole Number"
   ]
  },
  {
   "cell_type": "code",
   "execution_count": 1,
   "id": "8b823c28",
   "metadata": {},
   "outputs": [],
   "source": [
    "def is_polydivisible(str_num):\n",
    "    list1 = list(str_num)\n",
    "    list1 = [int(''.join(list1[:x]))/x for x in range(1,len(str_num)+1)]\n",
    "    return int(str(sum(list1)).split('.')[1]) == 0    "
   ]
  },
  {
   "cell_type": "code",
   "execution_count": 4,
   "id": "b3d706e5",
   "metadata": {},
   "outputs": [
    {
     "name": "stdout",
     "output_type": "stream",
     "text": [
      "enter your number: 12320\n",
      "\n",
      " True\n"
     ]
    }
   ],
   "source": [
    "str1= input('enter your number: ')\n",
    "print('\\n',is_polydivisible(str1))"
   ]
  },
  {
   "cell_type": "markdown",
   "id": "587a39cb",
   "metadata": {},
   "source": [
    "### 5.Create a function that takes a list of numbers and returns the sum of all prime numbers in the list.\n",
    "Examples\n",
    "\n",
    "sum_primes([1, 2, 3, 4, 5, 6, 7, 8, 9, 10]) ➞ 17\n",
    "\n",
    "sum_primes([2, 3, 4, 11, 20, 50, 71]) ➞ 87\n",
    "\n",
    "sum_primes([]) ➞ None"
   ]
  },
  {
   "cell_type": "code",
   "execution_count": 10,
   "id": "326f3158",
   "metadata": {},
   "outputs": [],
   "source": [
    "#Require Module Import\n",
    "from math import sqrt,floor\n",
    "def prime(num):\n",
    "    if num % 2 == 0 and num != 2:\n",
    "        return False\n",
    "    elif num == 2:\n",
    "        return True\n",
    "    elif num == 1:\n",
    "        return False\n",
    "    else:    \n",
    "        for i in range(3, 1 + floor(sqrt(num)),2):\n",
    "            if num % i == 0:\n",
    "                return False\n",
    "        return True"
   ]
  },
  {
   "cell_type": "code",
   "execution_count": 11,
   "id": "1090e63f",
   "metadata": {},
   "outputs": [],
   "source": [
    "def sum_primes(list1):\n",
    "    list2 = [i for i in list1 if prime(i) == True]     \n",
    "    return sum(list2)"
   ]
  },
  {
   "cell_type": "code",
   "execution_count": 12,
   "id": "e4d0f465",
   "metadata": {
    "scrolled": false
   },
   "outputs": [
    {
     "name": "stdout",
     "output_type": "stream",
     "text": [
      "2, 3, 4, 11, 20, 50, 71\n",
      "\n",
      "sum =  87\n"
     ]
    }
   ],
   "source": [
    "str1 = input()\n",
    "if len(str1) != 0:\n",
    "    list1 = list(map(int,str1.split(', '))) \n",
    "    print('\\nsum = ',sum_primes(list1))\n",
    "else:\n",
    "    print('None')"
   ]
  }
 ],
 "metadata": {
  "kernelspec": {
   "display_name": "Python 3",
   "language": "python",
   "name": "python3"
  },
  "language_info": {
   "codemirror_mode": {
    "name": "ipython",
    "version": 3
   },
   "file_extension": ".py",
   "mimetype": "text/x-python",
   "name": "python",
   "nbconvert_exporter": "python",
   "pygments_lexer": "ipython3",
   "version": "3.8.8"
  }
 },
 "nbformat": 4,
 "nbformat_minor": 5
}
