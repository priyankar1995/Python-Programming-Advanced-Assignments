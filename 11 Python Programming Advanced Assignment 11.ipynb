{
 "cells": [
  {
   "cell_type": "markdown",
   "id": "187cc6fa",
   "metadata": {},
   "source": [
    "### 1. Create a function that takes a list and returns a new list containing only prime numbers.\n",
    "\n",
    "Examples\n",
    "\n",
    "filter_primes([7, 9, 3, 9, 10, 11, 27]) ➞ [7, 3, 11]\n",
    "\n",
    "filter_primes([10007, 1009, 1007, 27, 147, 77, 1001, 70]) ➞ [10007, 1009]\n",
    "\n",
    "filter_primes([1009, 10, 10, 10, 3, 33, 9, 4, 1, 61, 63, 69, 1087, 1091, 1093, 1097]) ➞ [1009, 3, 61, 1087, 1091, 1093, 1097]"
   ]
  },
  {
   "cell_type": "code",
   "execution_count": 1,
   "id": "42c32e2b",
   "metadata": {},
   "outputs": [],
   "source": [
    "#Require Module Import\n",
    "from math import sqrt,floor\n",
    "def prime(num):\n",
    "    if num % 2 == 0 and num != 2:\n",
    "        return False\n",
    "    elif num == 2:\n",
    "        return True\n",
    "    elif num == 1:\n",
    "        return False\n",
    "    else:    \n",
    "        for i in range(3, 1 + floor(sqrt(num)),2):\n",
    "            if num % i == 0:\n",
    "                return False\n",
    "        return True   \n"
   ]
  },
  {
   "cell_type": "code",
   "execution_count": 2,
   "id": "699b8ac2",
   "metadata": {},
   "outputs": [],
   "source": [
    "def filter_primes(list1):\n",
    "    list2 = [i for i in list1 if prime(i) == True]     \n",
    "    return list2"
   ]
  },
  {
   "cell_type": "code",
   "execution_count": 7,
   "id": "0e7a325a",
   "metadata": {},
   "outputs": [
    {
     "name": "stdout",
     "output_type": "stream",
     "text": [
      "1009, 10, 10, 10, 3, 33, 9, 4, 1, 61, 63, 69, 1087, 1091, 1093, 1097\n",
      "\n",
      "prime list =  [1009, 3, 61, 1087, 1091, 1093, 1097]\n"
     ]
    }
   ],
   "source": [
    "str1 = input()\n",
    "if len(str1) != 0:\n",
    "    list1 = list(map(int,str1.split(', '))) \n",
    "    print('\\nprime list = ',filter_primes(list1))\n",
    "else:\n",
    "    print('empty list')"
   ]
  },
  {
   "cell_type": "markdown",
   "id": "2f694215",
   "metadata": {},
   "source": [
    "### 2. Once a water balloon pops, is soaks the area around it. The ground gets drier the further away you travel from the balloon.\n",
    "\n",
    "The effect of a water balloon popping can be modeled using a list. Create a function that takes a list which takes the pre-pop state and returns the state after the balloon is popped. The pre-pop state will contain at most a single balloon, whose size is represented by the only non-zero element.\n",
    "\n",
    "Examples\n",
    "\n",
    "pop([0, 0, 0, 0, 4, 0, 0, 0, 0]) ➞ [0, 1, 2, 3, 4, 3, 2, 1, 0]\n",
    "\n",
    "pop([0, 0, 0, 3, 0, 0, 0]) ➞ [0, 1, 2, 3, 2, 1, 0]\n",
    "\n",
    "pop([0, 0, 2, 0, 0]) ➞ [0, 1, 2, 1, 0]\n",
    "\n",
    "pop([0]) ➞ [0]\n"
   ]
  },
  {
   "cell_type": "code",
   "execution_count": 23,
   "id": "cfa8180a",
   "metadata": {},
   "outputs": [],
   "source": [
    "def pop(list1):\n",
    "    num = sum(list1)\n",
    "    x = list1.index(num)\n",
    "    for i in range(1,(len(list1)//2)+1):\n",
    "        num = num - 1\n",
    "        list1[x-i] = num\n",
    "        list1[x+i] = num\n",
    "    return list1"
   ]
  },
  {
   "cell_type": "code",
   "execution_count": 30,
   "id": "08e5a83d",
   "metadata": {},
   "outputs": [
    {
     "name": "stdout",
     "output_type": "stream",
     "text": [
      "enter your list comma and space separated: 0, 0, 0, 3, 0, 0, 0\n",
      "\n",
      " [0, 1, 2, 3, 2, 1, 0]\n"
     ]
    }
   ],
   "source": [
    "list1 = list(map(int,input('enter your list comma and space separated: ').split(\", \")))\n",
    "print('\\n',pop(list1))"
   ]
  },
  {
   "cell_type": "markdown",
   "id": "ab8f88c8",
   "metadata": {},
   "source": [
    "### 3. \"Loves me, loves me not\" is a traditional game in which a person plucks off all the petals of a flower one by one, saying the phrase \"Loves me\" and \"Loves me not\" when determining whether the one that they love, loves them back.\n",
    "\n",
    "Given a number of petals, return a string which repeats the phrases \"Loves me\" and \"Loves me not\" for every alternating petal, and return the last phrase in all caps. Remember to put a comma and space between phrases.\n",
    "\n",
    "Examples\n",
    "\n",
    "loves_me(3) ➞ \"Loves me, Loves me not, LOVES ME\"\n",
    "\n",
    "loves_me(6) ➞ \"Loves me, Loves me not, Loves me, Loves me not, Loves me, LOVES ME NOT\"\n",
    "\n",
    "loves_me(1) ➞ \"LOVES ME\"\n"
   ]
  },
  {
   "cell_type": "code",
   "execution_count": 20,
   "id": "d1cc4ceb",
   "metadata": {},
   "outputs": [],
   "source": [
    "def loves_me(num):\n",
    "    list1 = ['Loves me' if x%2 != 0 else 'Loves me not' for x in list(range(1,num+1))]\n",
    "    list1[-1] = list1[-1].upper()\n",
    "    return ', '.join(list1)"
   ]
  },
  {
   "cell_type": "code",
   "execution_count": 21,
   "id": "689f2003",
   "metadata": {},
   "outputs": [
    {
     "name": "stdout",
     "output_type": "stream",
     "text": [
      "Loves me, Loves me not, Loves me, Loves me not, Loves me, LOVES ME NOT\n"
     ]
    }
   ],
   "source": [
    "print(loves_me(6))"
   ]
  },
  {
   "cell_type": "markdown",
   "id": "a0fa2f95",
   "metadata": {},
   "source": [
    "### 4. Write a function that sorts each string in a list by the letter in alphabetic ascending order (a-z).\n",
    "\n",
    "Examples\n",
    "\n",
    "sort_by_letter([\"932c\", \"832u32\", \"2344b\"])\n",
    "➞ [\"2344b\", \"932c\", \"832u32\"]\n",
    "\n",
    "sort_by_letter([\"99a\", \"78b\", \"c2345\", \"11d\"])\n",
    "➞ [\"99a\", \"78b\", \"c2345\", \"11d\"]\n",
    "\n",
    "sort_by_letter([\"572z\", \"5y5\", \"304q2\"])\n",
    "➞ [\"304q2\", \"5y5\", \"572z\"]\n",
    "\n",
    "sort_by_letter([])\n",
    "➞ []\n"
   ]
  },
  {
   "cell_type": "code",
   "execution_count": 32,
   "id": "f52e49a3",
   "metadata": {},
   "outputs": [],
   "source": [
    "def sort_by_letter(list1):\n",
    "    list2 = [x for y in list1 for x in y if x.isalpha() == True ]\n",
    "    list3 = list(zip(list2,list1))\n",
    "    list4 = sorted(list3,key = lambda x: x[0])\n",
    "    list5 = [x[1] for x in list4]\n",
    "    return list5"
   ]
  },
  {
   "cell_type": "code",
   "execution_count": 34,
   "id": "94368ead",
   "metadata": {},
   "outputs": [
    {
     "name": "stdout",
     "output_type": "stream",
     "text": [
      "enter your list(comma and space separated):\"99a\", \"78b\", \"c2345\", \"11d\"\n",
      "\n",
      "sorted list:  ['\"99a\"', '\"78b\"', '\"c2345\"', '\"11d\"']\n"
     ]
    }
   ],
   "source": [
    "list1 = input(\"enter your list(comma and space separated):\").split(\", \")\n",
    "print('\\nsorted list: ',sort_by_letter(list1))"
   ]
  },
  {
   "cell_type": "markdown",
   "id": "35527d1b",
   "metadata": {},
   "source": [
    "### 5. There are three cups on a table, at positions A, B, and C. At the start, there is a ball hidden under the cup at position B.\n",
    "\n",
    "\n",
    "\n",
    "\n",
    "\n",
    "\n",
    "However, I perform several swaps on the cups, which is notated as two letters. For example, if I swap the cups at positions A and B, I could notate this as AB or BA.\n",
    "\n",
    "Create a function that returns the letter position that the ball is at, once I finish swapping the cups. The swaps will be given to you as a list.\n",
    "\n",
    "Example\n",
    "\n",
    "cup_swapping([\"AB\", \"CA\", \"AB\"]) ➞ \"C\"\n",
    "\n",
    "# Ball begins at position B.\n",
    "# Cups A and B swap, so the ball is at position A.\n",
    "# Cups C and A swap, so the ball is at position C.\n",
    "# Cups A and B swap, but the ball is at position C, so it doesn't move."
   ]
  },
  {
   "cell_type": "code",
   "execution_count": 69,
   "id": "55e00276",
   "metadata": {},
   "outputs": [],
   "source": [
    "def cup_swapping(list1):\n",
    "    dict1 = {'A':0,'B':1,\"C\":0}\n",
    "    for i in list1:\n",
    "        if i == 'AB'or i == 'BA':\n",
    "            if dict1['A'] == 1:\n",
    "                dict1['B'],dict1['A'] = 1,0             \n",
    "            elif dict1['B'] == 1:\n",
    "                dict1['A'],dict1['B'] = 1,0  \n",
    "                \n",
    "        if i == 'BC'or i == 'CB':\n",
    "            if dict1['C'] == 1:\n",
    "                dict1['B'],dict1['C'] = 1,0\n",
    "            elif dict1['B'] == 1:\n",
    "                dict1['C'],dict1['B'] = 1,0\n",
    "            \n",
    "        if i == 'AC'or i == 'CA':      \n",
    "            if dict1['C'] == 1:\n",
    "                dict1['A'],dict1['C'] = 1,0\n",
    "            elif dict1['A'] == 1:\n",
    "                dict1['C'],dict1['A'] = 1,0\n",
    "                       \n",
    "    return [x for x in dict1.keys() if dict1[x] == 1][0]    "
   ]
  },
  {
   "cell_type": "code",
   "execution_count": 75,
   "id": "a5864b73",
   "metadata": {},
   "outputs": [
    {
     "name": "stdout",
     "output_type": "stream",
     "text": [
      "enter your swap notation list: AB, CA, AB, BC, AB, CB, BA \n",
      "\n",
      " the ball is hidden under cup :  A\n"
     ]
    }
   ],
   "source": [
    "list1 = input(\"enter your swap notation list: \").split(\", \")\n",
    "print('\\n the ball is hidden under cup : ',cup_swapping(list1))"
   ]
  },
  {
   "cell_type": "markdown",
   "id": "b4afcbb3",
   "metadata": {},
   "source": [
    "input = AB, CA, AB, BC, AB, CB, BA "
   ]
  }
 ],
 "metadata": {
  "kernelspec": {
   "display_name": "Python 3",
   "language": "python",
   "name": "python3"
  },
  "language_info": {
   "codemirror_mode": {
    "name": "ipython",
    "version": 3
   },
   "file_extension": ".py",
   "mimetype": "text/x-python",
   "name": "python",
   "nbconvert_exporter": "python",
   "pygments_lexer": "ipython3",
   "version": "3.8.8"
  }
 },
 "nbformat": 4,
 "nbformat_minor": 5
}
