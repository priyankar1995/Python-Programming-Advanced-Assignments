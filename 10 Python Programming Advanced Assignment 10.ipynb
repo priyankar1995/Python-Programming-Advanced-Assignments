{
 "cells": [
  {
   "cell_type": "markdown",
   "id": "a06e92b0",
   "metadata": {},
   "source": [
    "### 1. Create a function that takes the width, height and character and returns a picture frame as a 2D list.\n",
    "\n",
    "Examples\n",
    "\n",
    "get_frame(4, 5, \"#\") ➞ [\n",
    "  [\"####\"],\n",
    "  [\"#  #\"],\n",
    "  [\"#  #\"],\n",
    "  [\"#  #\"],\n",
    "  [\"####\"]\n",
    "]\n",
    "# Frame is 4 characters wide and 5 characters tall.\n",
    "\n",
    "\n",
    "get_frame(10, 3, \"*\") ➞ [\n",
    "  [\"**********\"],\n",
    "  [\"*        *\"],\n",
    "  [\"**********\"]\n",
    "]\n",
    "# Frame is 10 characters and wide and 3 characters tall.\n",
    "\n",
    "\n",
    "get_frame(2, 5, \"0\") ➞ \"invalid\"\n",
    "# Frame's width is not more than 2.\n",
    "\n",
    "\n",
    "\n",
    "\n",
    "\n",
    "\n",
    "\n"
   ]
  },
  {
   "cell_type": "code",
   "execution_count": 10,
   "id": "2acdadf8",
   "metadata": {},
   "outputs": [],
   "source": [
    "def get_frame(width,height,character):\n",
    "    if width > 2 and height > 2:\n",
    "        list1 = list(range(height))\n",
    "        list2 = [''.join([character]*width) if i == list1[0] or i == list1[-1] else ''.join([character] + [' ']*(width-2) + [character]) for i in list1]\n",
    "        return list2\n",
    "    else:\n",
    "        return None"
   ]
  },
  {
   "cell_type": "code",
   "execution_count": 11,
   "id": "3bb6fbe4",
   "metadata": {
    "scrolled": true
   },
   "outputs": [
    {
     "name": "stdout",
     "output_type": "stream",
     "text": [
      "enter width: 5\n",
      "enter height: 6\n",
      "enter character: &\n",
      "\n",
      " your frame: \n",
      "\n",
      "&&&&&\n",
      "&   &\n",
      "&   &\n",
      "&   &\n",
      "&   &\n",
      "&&&&&\n"
     ]
    }
   ],
   "source": [
    "width =  int(input(\"enter width: \"))\n",
    "height =  int(input(\"enter height: \"))\n",
    "char =  input(\"enter character: \")\n",
    "listx = get_frame(width,height,char)\n",
    "if listx == None:\n",
    "    print('\\ninvalid')\n",
    "else:\n",
    "    print('\\n your frame: \\n')\n",
    "    listz = [print(i) for i in get_frame(width,height,char)]\n",
    "    "
   ]
  },
  {
   "cell_type": "code",
   "execution_count": null,
   "id": "6b1c7086",
   "metadata": {},
   "outputs": [],
   "source": [
    "width =  int(input(\"enter width: \"))\n",
    "height =  int(input(\"enter height: \"))\n",
    "char =  input(\"enter character: \")\n",
    "listx = get_frame(width,height,char)\n",
    "if listx == None:\n",
    "    print('\\ninvalid')\n",
    "else:\n",
    "    print('\\n your frame: \\n')\n",
    "    listz = [print(i) for i in get_frame(width,height,char)]"
   ]
  },
  {
   "cell_type": "markdown",
   "id": "8ba0dedd",
   "metadata": {},
   "source": [
    "### 2. Write three functions:\n",
    "\n",
    "  1. boolean_and\n",
    "  2. boolean_or\n",
    "  3. boolean_xor\n",
    "  \n",
    "These functions should evaluate a list of True and False values, starting from the leftmost element and evaluating pairwise.\n",
    "\n",
    "Examples\n",
    "\n",
    "boolean_and([True, True, False, True]) ➞ False\n",
    "# [True, True, False, True] => [True, False, True] => [False, True] => False\n",
    "\n",
    "boolean_or([True, True, False, False]) ➞ True\n",
    "# [True, True, False, True] => [True, False, False] => [True, False] => True\n",
    "\n",
    "boolean_xor([True, True, False, False]) ➞ False\n",
    "# [True, True, False, False] => [False, False, False] => [False, False] => False"
   ]
  },
  {
   "cell_type": "code",
   "execution_count": 1,
   "id": "fbe05adf",
   "metadata": {},
   "outputs": [],
   "source": [
    "#Import Necessary Module\n",
    "from functools import reduce\n",
    "def boolean_and(bool_list):\n",
    "    return reduce(lambda a,b : a & b,bool_list)\n",
    "def boolean_or(bool_list):\n",
    "    return reduce(lambda a,b : a | b,bool_list)\n",
    "def boolean_xor(bool_list):\n",
    "    return reduce(lambda a,b : a ^ b,bool_list)"
   ]
  },
  {
   "cell_type": "code",
   "execution_count": 2,
   "id": "5486eab2",
   "metadata": {},
   "outputs": [
    {
     "name": "stdout",
     "output_type": "stream",
     "text": [
      "After Boolean AND Operation: False\n",
      "After Boolean OR Operation: True\n",
      "After Boolean XOR Operation: False\n"
     ]
    }
   ],
   "source": [
    "# Input for Boolean AND\n",
    "inp_and = [True, True, False, True]\n",
    "print(\"After Boolean AND Operation:\",boolean_and(inp_and))\n",
    "\n",
    "# Input for Boolean OR\n",
    "inp_or = [True, True, False, False]\n",
    "print(\"After Boolean OR Operation:\",boolean_or(inp_or))\n",
    "\n",
    "#Input for Boolean XOR\n",
    "inp_xor = [True, True, False, False]\n",
    "print(\"After Boolean XOR Operation:\",boolean_xor(inp_xor))"
   ]
  },
  {
   "cell_type": "markdown",
   "id": "a0cca978",
   "metadata": {},
   "source": [
    "### 3. Create a function that creates a box based on dimension n.\n",
    "\n",
    "Examples\n",
    "\n",
    "make_box(5) ➞ [\n",
    "  \"#####\",\n",
    "  \"#   #\",\n",
    "  \"#   #\",\n",
    "  \"#   #\",\n",
    "  \"#####\"\n",
    "]\n",
    "\n",
    "make_box(3) ➞ [\n",
    "  \"###\",\n",
    "  \"# #\",\n",
    "  \"###\"\n",
    "]\n",
    "\n",
    "make_box(2) ➞ [\n",
    "  \"##\",\n",
    "  \"##\"\n",
    "]\n",
    "\n",
    "make_box(1) ➞ [\n",
    "  \"#\"\n",
    "]\n"
   ]
  },
  {
   "cell_type": "code",
   "execution_count": 25,
   "id": "a6fd945c",
   "metadata": {},
   "outputs": [],
   "source": [
    "def make_box(num):\n",
    "    character = '#'\n",
    "    list1 = list(range(num))\n",
    "    list2 = [''.join([character]*num) if i == list1[0] or i == list1[-1] else ''.join([character] + [' ']*(num-2) + [character]) for i in list1]\n",
    "    return list2\n"
   ]
  },
  {
   "cell_type": "code",
   "execution_count": 31,
   "id": "c0d275d0",
   "metadata": {},
   "outputs": [
    {
     "name": "stdout",
     "output_type": "stream",
     "text": [
      "enter length of box: 9\n",
      "\n",
      " your box: \n",
      "\n",
      "#########\n",
      "#       #\n",
      "#       #\n",
      "#       #\n",
      "#       #\n",
      "#       #\n",
      "#       #\n",
      "#       #\n",
      "#########\n"
     ]
    }
   ],
   "source": [
    "num =  int(input(\"enter length of box: \"))\n",
    "print('\\n your box: \\n')\n",
    "listz = [print(i) for i in make_box(num)]"
   ]
  },
  {
   "cell_type": "markdown",
   "id": "01b39cd6",
   "metadata": {},
   "source": [
    "### 4. Given a common phrase, return False if any individual word in the phrase contains duplicate letters. Return True otherwise.\n",
    "\n",
    "Examples\n",
    "\n",
    "no_duplicate_letters(\"Fortune favours the bold.\") ➞ True\n",
    "\n",
    "no_duplicate_letters(\"You can lead a horse to water, but you can't make him drink.\") ➞ True\n",
    "\n",
    "no_duplicate_letters(\"Look before you leap.\") ➞ False\n",
    "# Duplicate letters in \"Look\" and \"before\".\n",
    "\n",
    "no_duplicate_letters(\"An apple a day keeps the doctor away.\") ➞ False\n",
    "# Duplicate letters in \"apple\", \"keeps\", \"doctor\", and \"away\".\n"
   ]
  },
  {
   "cell_type": "code",
   "execution_count": 32,
   "id": "43fcfe5f",
   "metadata": {},
   "outputs": [],
   "source": [
    "def no_duplicate_letters(str1):\n",
    "    list1 = str1.split()\n",
    "    for i in list1:\n",
    "        for j in list(set(i)):\n",
    "            if i.count(j)>1:\n",
    "                return False\n",
    "    return True"
   ]
  },
  {
   "cell_type": "code",
   "execution_count": 36,
   "id": "f37f1b38",
   "metadata": {},
   "outputs": [
    {
     "name": "stdout",
     "output_type": "stream",
     "text": [
      "enter the string: An apple a day keeps the doctor away.\n",
      "\n",
      " False\n"
     ]
    }
   ],
   "source": [
    "str1 = input('enter the string: ') \n",
    "print('\\n',no_duplicate_letters(str1))"
   ]
  },
  {
   "cell_type": "markdown",
   "id": "778e5221",
   "metadata": {},
   "source": [
    "### 5. Write a regular expression that will match the states that voted yes to President Trump's impeachment. You must use RegEx positive lookahead.\n",
    "\n",
    "Example\n",
    "\n",
    "txt = \"Texas = no, California = yes, Florida = yes, Michigan = no\"\n",
    "pattern = \"yourregularexpressionhere\"\n",
    "\n",
    "re.findall(pattern, txt) ➞ [\"California\", \"Florida\"]"
   ]
  },
  {
   "cell_type": "code",
   "execution_count": 3,
   "id": "fb403fc9",
   "metadata": {},
   "outputs": [
    {
     "name": "stdout",
     "output_type": "stream",
     "text": [
      "['California', 'Florida']\n"
     ]
    }
   ],
   "source": [
    "from re import findall\n",
    "txt = \"Texas = no, California = yes, Florida = yes, Michigan = no\"\n",
    "pattern = r'\\w+(?= = yes)'\n",
    "print(findall(pattern, txt))"
   ]
  }
 ],
 "metadata": {
  "kernelspec": {
   "display_name": "Python 3",
   "language": "python",
   "name": "python3"
  },
  "language_info": {
   "codemirror_mode": {
    "name": "ipython",
    "version": 3
   },
   "file_extension": ".py",
   "mimetype": "text/x-python",
   "name": "python",
   "nbconvert_exporter": "python",
   "pygments_lexer": "ipython3",
   "version": "3.8.8"
  }
 },
 "nbformat": 4,
 "nbformat_minor": 5
}
