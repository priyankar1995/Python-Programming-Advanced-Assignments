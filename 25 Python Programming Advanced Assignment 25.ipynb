{
 "cells": [
  {
   "cell_type": "markdown",
   "id": "a739c26c",
   "metadata": {},
   "source": [
    "### 1. Write four functions that directly mutate a list:\n",
    "\n",
    "    1. repeat(lst, n): Repeat lst n times.\n",
    "    2. add(lst, x): Adds x to the end of the lst.\n",
    "    3. remove(lst, m, n): Removes all elements between indices m and n inclusive in lst.\n",
    "    4. concat(lst, x): concatenates lst with x (another list).\n",
    "\n",
    "Examples\n",
    "\n",
    "lst = [1, 2, 3, 4]\n",
    "\n",
    "repeat(lst, 3) ➞ [1, 2, 3, 4, 1, 2, 3, 4, 1, 2, 3, 4] \n",
    "\n",
    "add(lst, 1) ➞ [1, 2, 3, 4, 1, 2, 3, 4, 1, 2, 3, 4, 1]\n",
    "\n",
    "remove(lst, 1, 12) ➞ [1]\n",
    "\n",
    "concat(lst, [3, 4]) ➞ [1, 3, 4]\n",
    "\n",
    "\n",
    "\n",
    "\n"
   ]
  },
  {
   "cell_type": "code",
   "execution_count": 74,
   "id": "923af817",
   "metadata": {},
   "outputs": [],
   "source": [
    "def repeat(list1,num):\n",
    "    return list1*num\n",
    "\n",
    "def add(list1,num):\n",
    "    list1.append(num)\n",
    "    return list1\n",
    "\n",
    "def remove(list1,num1,num2):\n",
    "    return list1[:num1]+list1[num2+1:]\n",
    "\n",
    "def concat(list1,list2):\n",
    "    return list1 + list2"
   ]
  },
  {
   "cell_type": "code",
   "execution_count": 77,
   "id": "6a726a94",
   "metadata": {},
   "outputs": [
    {
     "name": "stdout",
     "output_type": "stream",
     "text": [
      "enter your list(comma and space separated): 1, 2, 3, 4\n",
      "how many times you want to repeat?  3\n",
      "enter the element you want to add: 1\n",
      "enter the indices(comma and space separated): 1, 12\n",
      "enter the list you want to concatinate (comma and space separated): 1, 3\n",
      "['1', '2', '3', '4', '1', '2', '3', '4', '1', '2', '3', '4']\n",
      "['1', '2', '3', '4', '1', '2', '3', '4', '1', '2', '3', '4', '1']\n",
      "['1']\n",
      "['1', '1', '3']\n"
     ]
    }
   ],
   "source": [
    "list1 = input('enter your list(comma and space separated): ').split(', ')\n",
    "rep = int(input('how many times you want to repeat?  '))\n",
    "ad = input('enter the element you want to add: ')\n",
    "m,n = tuple(map(int,input('enter the indices(comma and space separated): ').split(', ')))\n",
    "list2 = input('enter the list you want to concatinate (comma and space separated): ').split(', ')\n",
    "\n",
    "listw = repeat(list1,rep)\n",
    "print(listw)\n",
    "listx = add(listw,ad)\n",
    "print(listx)\n",
    "listy = remove(listx,m,n)\n",
    "print(listy)\n",
    "listz = concat(listy,list2)\n",
    "print(listz)"
   ]
  },
  {
   "cell_type": "markdown",
   "id": "6eb95a99",
   "metadata": {},
   "source": [
    "### 2. The classic game of Mastermind is played on a tray on which the Mastermind conceals a code and the Guesser has 10 tries to guess it. The code is a sequence of 4 (or 6, sometimes more) pegs of different colors. Each guess is a corresponding sequence of 4 (or more) pegs of different colors. A guess is \"correct\" when the color of every peg in the guess exactly matches the corresponding peg in the Mastermind's code.\n",
    "\n",
    "After each guess by the Guesser, the Mastermind will give a score comprising black & white pegs, not arranged in any order:\n",
    "\n",
    "   - Black peg == guess peg matches the color of a code peg in the same position.\n",
    "   - White peg == guess peg matches the color of a code peg in another position.\n",
    "\n",
    "Create a function that takes two strings, code and guess as arguments, and returns the score in a dictionary.\n",
    "\n",
    "   - The code and guess are strings of numeric digits\n",
    "   - The color of the pegs are represented by numeric digits\n",
    "   - no \"peg\" may be double-scored\n",
    "\n",
    "Examples\n",
    "\n",
    "guess_score(\"1423\", \"5678\") ➞ {\"black\": 0, \"white\": 0}\n",
    "\n",
    "guess_score(\"1423\", \"2222\") ➞ {\"black\": 1, \"white\": 0}\n",
    "\n",
    "guess_score(\"1423\", \"1234\") ➞ {\"black\": 1, \"white\": 3}\n",
    "\n",
    "guess_score(\"1423\", \"2211\") ➞ {\"black\": 0, \"white\": 2}\n"
   ]
  },
  {
   "cell_type": "code",
   "execution_count": 64,
   "id": "a0441ef0",
   "metadata": {},
   "outputs": [],
   "source": [
    "def guess_score(code,guess):\n",
    "    dict1 = {'black' : 0, 'white': 0}\n",
    "    for x in range(len(code)):\n",
    "        if code[x] == guess[x]:\n",
    "            dict1['black'] += 1 \n",
    "            \n",
    "        elif code[x] != guess[x] and code[x] in guess:\n",
    "            dict1['white'] += 1\n",
    "    return dict1"
   ]
  },
  {
   "cell_type": "code",
   "execution_count": 73,
   "id": "35393304",
   "metadata": {},
   "outputs": [
    {
     "name": "stdout",
     "output_type": "stream",
     "text": [
      "enter code: 1423\n",
      "enter guess: 2211\n",
      "\n",
      " {'black': 0, 'white': 2}\n"
     ]
    }
   ],
   "source": [
    "code = input('enter code: ')\n",
    "guess = input('enter guess: ') \n",
    "print('\\n',guess_score(code,guess))"
   ]
  },
  {
   "cell_type": "code",
   "execution_count": 69,
   "id": "a2ee1493",
   "metadata": {},
   "outputs": [
    {
     "data": {
      "text/plain": [
       "{'black': 0, 'white': 3}"
      ]
     },
     "execution_count": 69,
     "metadata": {},
     "output_type": "execute_result"
    }
   ],
   "source": [
    "### there is an issue regarding multiple similar elements in code and single in guess\n",
    "guess_score(\"142322\", \"205986\")"
   ]
  },
  {
   "cell_type": "markdown",
   "id": "4a09afac",
   "metadata": {},
   "source": [
    "### 3. Create a function that takes a list lst and a number N and returns a list of two integers from lst whose product equals N.\n",
    "\n",
    "Examples\n",
    "\n",
    "two_product([1, 2, -1, 4, 5], 20) ➞ [4, 5]\n",
    "\n",
    "two_product([1, 2, 3, 4, 5], 10) ➞ [2, 5]\n",
    "\n",
    "two_product([100, 12, 4, 1, 2], 15) ➞ None\n",
    "\n"
   ]
  },
  {
   "cell_type": "code",
   "execution_count": 49,
   "id": "affde90a",
   "metadata": {},
   "outputs": [],
   "source": [
    "def two_product(list1,num):\n",
    "    list2 = []\n",
    "    for i in list1:\n",
    "        for j in list1:\n",
    "            if i*j == num and sorted([i,j]) not in list2:\n",
    "                list2.append([i,j])\n",
    "    if len(list2) == 1:\n",
    "        return list2[0]\n",
    "    return list2"
   ]
  },
  {
   "cell_type": "code",
   "execution_count": 50,
   "id": "536e9f9e",
   "metadata": {},
   "outputs": [
    {
     "name": "stdout",
     "output_type": "stream",
     "text": [
      "enter list of numbers(comma and space separated): 1, 2, -1, 4, 5\n",
      "enter the number: 20\n",
      "\n",
      " [4, 5]\n"
     ]
    }
   ],
   "source": [
    "list1 = list(map(int,input('enter list of numbers(comma and space separated): ').split(', ')))\n",
    "num = int(input('enter the number: '))\n",
    "print('\\n',two_product(list1,num))"
   ]
  },
  {
   "cell_type": "markdown",
   "id": "8ee83bcb",
   "metadata": {},
   "source": [
    "### 4. In this challenge, sort a list containing a series of dates given as strings. Each date is given in the format DD-MM-YYYY_HH:MM:\n",
    "\n",
    "\"12-02-2012_13:44\"\n",
    "\n",
    "The priority of criteria used for sorting will be:\n",
    "\n",
    "  - Year\n",
    "  - Month\n",
    "  - Day\n",
    "  - Hours\n",
    "  - Minutes\n",
    "\n",
    "Given a list lst and a string mode, implement a function that returns:\n",
    "\n",
    "   - if mode is equal to \"ASC\", the list lst sorted in ascending order.\n",
    "   - if mode is equal to \"DSC\", the list lst sorted in descending order.\n",
    "\n",
    "Examples\n",
    "\n",
    "sort_dates([\"10-02-2018_12:30\", \"10-02-2016_12:30\", \"10-02-2018_12:15\"], \"ASC\") ➞ [\"10-02-2016_12:30\", \"10-02-2018_12:15\", \"10-02-2018_12:30\"]\n",
    "\n",
    "sort_dates([\"10-02-2018_12:30\", \"10-02-2016_12:30\", \"10-02-2018_12:15\"], \"DSC\") ➞ [\"10-02-2018_12:30\", \"10-02-2018_12:15\", \"10-02-2016_12:30\"]\n",
    "\n",
    "sort_dates([\"09-02-2000_10:03\", \"10-02-2000_18:29\", \"01-01-1999_00:55\"], \"ASC\") ➞ [\"01-01-1999_00:55\", \"09-02-2000_10:03\", \"10-02-2000_18:29\"]\n",
    "\n",
    "09-02-2000_10:03, 10-02-2000_18:29, 01-01-1999_00:55"
   ]
  },
  {
   "cell_type": "code",
   "execution_count": 36,
   "id": "025534a6",
   "metadata": {},
   "outputs": [],
   "source": [
    "def sort_dates(list1,mode):\n",
    "    list2 = [int(x[6:10]+x[3:5]+x[0:2]+x[11:13]+x[14:]) for x in list1]\n",
    "    list3 = [x[0] for x in sorted(list(zip(list1,list2)), key= lambda x: x[1])]\n",
    "    if mode == \"ASC\":\n",
    "        return list3\n",
    "    else:\n",
    "        return list3[::-1]\n",
    "    "
   ]
  },
  {
   "cell_type": "code",
   "execution_count": 37,
   "id": "78710c14",
   "metadata": {},
   "outputs": [
    {
     "name": "stdout",
     "output_type": "stream",
     "text": [
      "enter list of date time (comma and space separated): 09-02-2000_10:03, 10-02-2000_18:29, 01-01-1999_00:55\n",
      "input mode for sorting: DSC\n"
     ]
    },
    {
     "data": {
      "text/plain": [
       "['10-02-2000_18:29', '09-02-2000_10:03', '01-01-1999_00:55']"
      ]
     },
     "execution_count": 37,
     "metadata": {},
     "output_type": "execute_result"
    }
   ],
   "source": [
    "list1 = input('enter list of date time (comma and space separated): ').split(', ')\n",
    "mode = input('input mode for sorting: ')\n",
    "sort_dates(list1,mode)"
   ]
  },
  {
   "cell_type": "markdown",
   "id": "a66612a4",
   "metadata": {},
   "source": [
    "### 5. Write a function that selects all words that have all the same vowels (in any order and/or number) as the first word, including the first word.\n",
    "\n",
    "Examples\n",
    "\n",
    "same_vowel_group([\"toe\", \"ocelot\", \"maniac\"]) ➞ [\"toe\", \"ocelot\"]\n",
    "\n",
    "same_vowel_group([\"many\", \"carriage\", \"emit\", \"apricot\", \"animal\"]) ➞ [\"many\"]\n",
    "\n",
    "same_vowel_group([\"hoops\", \"chuff\", \"bot\", \"bottom\"]) ➞ [\"hoops\", \"bot\", \"bottom\"]\n",
    "\n",
    "toe, ocelot, maniac\n"
   ]
  },
  {
   "cell_type": "code",
   "execution_count": 16,
   "id": "ca9b186e",
   "metadata": {},
   "outputs": [],
   "source": [
    "def same_vowel_group(list1):\n",
    "    list2 = [list(set([x for x in y if x in 'aeiou'])) for y in list1]\n",
    "    list3 = [list1[x] for x in range(len(list1)) if list2[x] == list2[0]]\n",
    "    return list3"
   ]
  },
  {
   "cell_type": "code",
   "execution_count": 19,
   "id": "608567ee",
   "metadata": {},
   "outputs": [
    {
     "name": "stdout",
     "output_type": "stream",
     "text": [
      "enter your list(comma and space separatd): \"hoops\", \"chuff\", \"bot\", \"bottom\"\n",
      "\n",
      " ['\"hoops\"', '\"bot\"', '\"bottom\"']\n"
     ]
    }
   ],
   "source": [
    "list1 = input('enter your list(comma and space separatd): ').split(', ')\n",
    "print('\\n',same_vowel_group(list1))"
   ]
  },
  {
   "cell_type": "markdown",
   "id": "464a14c0",
   "metadata": {},
   "source": [
    "### 6. Create a function that takes a list of more than three numbers and returns the Least Common Multiple (LCM).\n",
    "\n",
    "Examples\n",
    "\n",
    "lcm_of_list([1, 2, 3, 4, 5, 6, 7, 8, 9, 10]) ➞ 2520\n",
    "\n",
    "lcm_of_list([13, 6, 17, 18, 19, 20, 37]) ➞ 27965340\n",
    "\n",
    "lcm_of_list([44, 64, 12, 17, 65]) ➞ 2333760\n"
   ]
  },
  {
   "cell_type": "code",
   "execution_count": 2,
   "id": "bde8c831",
   "metadata": {},
   "outputs": [],
   "source": [
    "def gcd(a,b):\n",
    "    if(b==0):\n",
    "        return a\n",
    "    else:\n",
    "        return gcd(b,a%b)  "
   ]
  },
  {
   "cell_type": "code",
   "execution_count": 9,
   "id": "3d6cb616",
   "metadata": {},
   "outputs": [],
   "source": [
    "from functools import reduce\n",
    "def lcm_of_list(list1):\n",
    "    return reduce(lambda a,b : (a*b)//gcd(a,b), list1)"
   ]
  },
  {
   "cell_type": "code",
   "execution_count": 13,
   "id": "0f86971e",
   "metadata": {},
   "outputs": [
    {
     "name": "stdout",
     "output_type": "stream",
     "text": [
      "enter the list (comma and space separated): 6, 15, 18\n",
      "\n",
      "lcm =  90\n"
     ]
    }
   ],
   "source": [
    "list1 = list(map(int,input('enter the list (comma and space separated): ').split(', ')))\n",
    "print('\\nlcm = ',lcm_of_list(list1))"
   ]
  }
 ],
 "metadata": {
  "kernelspec": {
   "display_name": "Python 3",
   "language": "python",
   "name": "python3"
  },
  "language_info": {
   "codemirror_mode": {
    "name": "ipython",
    "version": 3
   },
   "file_extension": ".py",
   "mimetype": "text/x-python",
   "name": "python",
   "nbconvert_exporter": "python",
   "pygments_lexer": "ipython3",
   "version": "3.8.8"
  }
 },
 "nbformat": 4,
 "nbformat_minor": 5
}
