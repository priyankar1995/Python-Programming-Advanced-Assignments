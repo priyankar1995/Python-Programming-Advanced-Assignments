{
 "cells": [
  {
   "cell_type": "markdown",
   "id": "66506233",
   "metadata": {},
   "source": [
    "### 1. Create a function that takes a list and string. The function should remove the letters in the string from the list, and return the list.\n",
    "\n",
    "Examples\n",
    "\n",
    "remove_letters([\"s\", \"t\", \"r\", \"i\", \"n\", \"g\", \"w\"], \"string\") ➞ [\"w\"]\n",
    "\n",
    "remove_letters([\"b\", \"b\", \"l\", \"l\", \"g\", \"n\", \"o\", \"a\", \"w\"], \"balloon\") ➞ [\"b\", \"g\", \"w\"]\n",
    "\n",
    "remove_letters([\"d\", \"b\", \"t\", \"e\", \"a\", \"i\"], \"edabit\") ➞ []\n",
    "\n",
    "\n",
    "s, t, r, i, n, g, w\n",
    "string\n",
    "\n",
    "b, b, l, l, g, n, o, a, w\n",
    "balloon\n",
    "\n",
    "d, b, t, e, a, i\n",
    "edabit\n",
    "\n",
    "a, b, c, d, e, 5, 6\n",
    "abcdefg\n",
    "\n"
   ]
  },
  {
   "cell_type": "code",
   "execution_count": 2,
   "id": "74248028",
   "metadata": {},
   "outputs": [],
   "source": [
    "def remove_letters(list1,str1):\n",
    "    for i in str1:\n",
    "        try:\n",
    "            list1.remove(i)\n",
    "        except:\n",
    "            continue\n",
    "    return list1"
   ]
  },
  {
   "cell_type": "code",
   "execution_count": 3,
   "id": "159ee458",
   "metadata": {},
   "outputs": [
    {
     "name": "stdout",
     "output_type": "stream",
     "text": [
      "enter your list (comma and space separated): a, b, c, d, e, 5, 6\n",
      "enter your string: abcdefg\n",
      "\n",
      "final list :  ['5', '6']\n"
     ]
    }
   ],
   "source": [
    "list1 = input('enter your list (comma and space separated): ').split(', ')\n",
    "str1 = input('enter your string: ')\n",
    "print('\\nfinal list : ',remove_letters(list1,str1))"
   ]
  },
  {
   "cell_type": "markdown",
   "id": "bd23dfae",
   "metadata": {},
   "source": [
    "### 2. A block sequence in three dimensions. We can write a formula for this one:\n",
    "\n",
    "\n",
    "\n",
    "\n",
    "\n",
    "\n",
    "\n",
    "\n",
    "\n",
    "\n",
    "Create a function that takes a number (step) as an argument and returns the amount of blocks in that step.\n",
    "\n",
    "Examples\n",
    "\n",
    "blocks(1) ➞ 5\n",
    "\n",
    "blocks(5) ➞ 39\n",
    "\n",
    "blocks(2) ➞ 12"
   ]
  },
  {
   "cell_type": "code",
   "execution_count": 11,
   "id": "b554e1d3",
   "metadata": {},
   "outputs": [],
   "source": [
    "def blocks(num):\n",
    "    x = (((num-1)*3)+5+sum(range(4,4+(num-1))))\n",
    "    return x"
   ]
  },
  {
   "cell_type": "code",
   "execution_count": 19,
   "id": "09a29f63",
   "metadata": {},
   "outputs": [
    {
     "name": "stdout",
     "output_type": "stream",
     "text": [
      "enter your number: 7\n",
      "\n",
      "number of blocks:  62\n"
     ]
    }
   ],
   "source": [
    "num = int(input('enter your number: '))\n",
    "print('\\nnumber of blocks: ',blocks(num))"
   ]
  },
  {
   "cell_type": "markdown",
   "id": "bbef286b",
   "metadata": {},
   "source": [
    "### 3. Create a function that subtracts one positive integer from another, without using any arithmetic operators such as -, %, /, +, etc.\n",
    "\n",
    "Examples\n",
    "\n",
    "my_sub(5, 9) ➞ 4\n",
    "\n",
    "my_sub(10, 30) ➞ 20\n",
    "\n",
    "my_sub(0, 0) ➞ 0\n"
   ]
  },
  {
   "cell_type": "code",
   "execution_count": 28,
   "id": "cd5cd1d0",
   "metadata": {},
   "outputs": [],
   "source": [
    "def my_sub(num1,num2):\n",
    "    if num1 >= 0 and num2 >= 0:\n",
    "        if num1 == num2:\n",
    "            return 0\n",
    "        elif num1 > num2:\n",
    "            list1 = [1 for x in range(num1)]\n",
    "            for i in range(num2):\n",
    "                list1.remove(1)\n",
    "            return len(list1)\n",
    "        elif num2 > num1:\n",
    "            list1 = [1 for x in range(num2)]\n",
    "            for i in range(num1):\n",
    "                list1.remove(1)\n",
    "            return len(list1)"
   ]
  },
  {
   "cell_type": "code",
   "execution_count": 31,
   "id": "f77ab130",
   "metadata": {},
   "outputs": [
    {
     "name": "stdout",
     "output_type": "stream",
     "text": [
      "enter your first number: 100\n",
      "enter your second number: 75\n",
      "\n",
      "substracted value=  25\n"
     ]
    }
   ],
   "source": [
    "num1 = int(input('enter your first number: '))\n",
    "num2 = int(input('enter your second number: '))\n",
    "print('\\nsubstracted value= ',my_sub(num1,num2))"
   ]
  },
  {
   "cell_type": "markdown",
   "id": "4ee30335",
   "metadata": {},
   "source": [
    "### 4. Create a function that takes a string containing money in dollars and pounds sterling (seperated by comma) and returns the sum of dollar bills only, as an integer.\n",
    "\n",
    "For the input string:\n",
    "\n",
    "   - Each amount is prefixed by the currency symbol: $ for dollars and £ for pounds.\n",
    "   - Thousands are represented by the suffix k.\n",
    "\n",
    "i.e. $4k = $4,000 and £40k = £40,000\n",
    "\n",
    "Examples\n",
    "\n",
    "add_bill(\"d20,p40,p60,d50\") ➞ 20 + 50 = 70\n",
    "\n",
    "add_bill(\"p30,d20,p60,d150,p360\") ➞ 20  + 150 = 170\n",
    "\n",
    "add_bill(\"p30,d2k,p60,d200,p360\") ➞ 2 * 1000 + 200 = 2200\n"
   ]
  },
  {
   "cell_type": "code",
   "execution_count": 22,
   "id": "64e79210",
   "metadata": {},
   "outputs": [],
   "source": [
    "def add_bill(str1):\n",
    "    list1 = str1.split(',')\n",
    "    list2 = []\n",
    "    for i in list1:\n",
    "        if i[0] == 'd':\n",
    "            try:\n",
    "                list2.append(int(i[1:]))\n",
    "            except:\n",
    "                list2.append(sum([int(x) for x in i if x.isdigit() == True])*1000)\n",
    "    return sum(list2)"
   ]
  },
  {
   "cell_type": "code",
   "execution_count": 25,
   "id": "0c440af6",
   "metadata": {
    "scrolled": true
   },
   "outputs": [
    {
     "name": "stdout",
     "output_type": "stream",
     "text": [
      "enter your string: p30,d2k,p60,d200,p360\n",
      "\n",
      "total bill:  2200\n"
     ]
    }
   ],
   "source": [
    "str1 = input('enter your string: ')\n",
    "print('\\ntotal bill: ',add_bill(str1))"
   ]
  },
  {
   "cell_type": "markdown",
   "id": "dd204b4c",
   "metadata": {},
   "source": [
    "### 5. Create a function that flips a horizontal list into a vertical list, and a vertical list into a horizontal list.\n",
    "\n",
    "In other words, take an 1 x n list (1 row + n columns) and flip it into a n x 1 list (n rows and 1 column), and vice versa.\n",
    "\n",
    "Examples\n",
    "\n",
    "flip_list([1, 2, 3, 4]) ➞ [[1], [2], [3], [4]]\n",
    "# Take a horizontal list and flip it vertical.\n",
    "\n",
    "flip_list([[5], [6], [9]]) ➞ [5, 6, 9]\n",
    "# Take a vertical list and flip it horizontal.\n",
    "\n",
    "flip_list([]) ➞ []\n"
   ]
  },
  {
   "cell_type": "code",
   "execution_count": 4,
   "id": "525f0529",
   "metadata": {},
   "outputs": [],
   "source": [
    "def flip_list(list1):\n",
    "    try:\n",
    "        x = list1[0][0]\n",
    "#        print('2d')\n",
    "        listx = [list1[y][x] for y in range(len(list1)) for x in range(1)]\n",
    "        return listx\n",
    "    except:\n",
    "#        print('1d list')\n",
    "        listx = [[list1[x]] for x in range(len(list1))]\n",
    "        return listx"
   ]
  },
  {
   "cell_type": "code",
   "execution_count": 5,
   "id": "078d7558",
   "metadata": {},
   "outputs": [
    {
     "name": "stdout",
     "output_type": "stream",
     "text": [
      "enter 0 for horizontal list\n",
      "            or\n",
      "enter 1 for vertical list\n",
      "0\n",
      "enter your horizontal list: 1, 2, 3\n",
      "\n",
      " [[1], [2], [3]]\n"
     ]
    }
   ],
   "source": [
    "print('''enter 0 for horizontal list\n",
    "            or\n",
    "enter 1 for vertical list''')\n",
    "n = int(input())\n",
    "if n == 0:\n",
    "    list1 = list(map(int,input('enter your horizontal list: ').split(', ')))\n",
    "else:\n",
    "    m = int(input(\"number rows in your vertical list: \"))\n",
    "    list1 = [[int(input())] for x in range(m)]\n",
    "\n",
    "print('\\n',flip_list(list1))"
   ]
  }
 ],
 "metadata": {
  "kernelspec": {
   "display_name": "Python 3",
   "language": "python",
   "name": "python3"
  },
  "language_info": {
   "codemirror_mode": {
    "name": "ipython",
    "version": 3
   },
   "file_extension": ".py",
   "mimetype": "text/x-python",
   "name": "python",
   "nbconvert_exporter": "python",
   "pygments_lexer": "ipython3",
   "version": "3.8.8"
  }
 },
 "nbformat": 4,
 "nbformat_minor": 5
}
